{
 "cells": [
  {
   "cell_type": "markdown",
   "metadata": {
    "ExecuteTime": {
     "end_time": "2018-07-24T22:42:51.468463Z",
     "start_time": "2018-07-24T22:42:51.466053Z"
    }
   },
   "source": [
    "# Convering Notebook to Slides\n",
    "\n",
    "<span>You can convert any notebook to slides using the following commands. Note that scrolling for fragments is now disabled by default. You can enable this slideshow option by passing the second command below with the parameter to enable scrolling.</span>\n",
    "\n",
    "**Terminal Commands**\n",
    "\n",
    "*Convert Notebook to Slides:* ```jupyter nbconvert Viz3.ipynb --to slides --post serve``` <br>\n",
    "\n",
    "*Convert Notebook to Slides with Scrolling:* ```jupyter nbconvert Viz3.ipynb --to slides --post serve --SlidesExporter.reveal_scroll=True```"
   ]
  },
  {
   "cell_type": "markdown",
   "metadata": {},
   "source": [
    "Author: Kavi Sekhon"
   ]
  }
 ],
 "metadata": {
  "kernelspec": {
   "display_name": "Python 3",
   "language": "python",
   "name": "python3"
  },
  "language_info": {
   "codemirror_mode": {
    "name": "ipython",
    "version": 3
   },
   "file_extension": ".py",
   "mimetype": "text/x-python",
   "name": "python",
   "nbconvert_exporter": "python",
   "pygments_lexer": "ipython3",
   "version": "3.6.6"
  }
 },
 "nbformat": 4,
 "nbformat_minor": 2
}
