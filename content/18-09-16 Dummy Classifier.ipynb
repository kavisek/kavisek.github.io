{
 "cells": [
  {
   "cell_type": "markdown",
   "metadata": {},
   "source": [
    "# Dummy Classifer\n",
    "\n",
    "<span>Dummy classifiers are models that follow a heuristic for classification. Something like always \"classify records as class 1\", or \"classify records at random from the target space.\" Not practical for use in production but useful when you start modeling for the first time to benchmark your initial models against this dummy classifier.</span>\n",
    "\n",
    "### Import Preliminaries"
   ]
  },
  {
   "cell_type": "code",
   "execution_count": 24,
   "metadata": {
    "ExecuteTime": {
     "end_time": "2018-09-14T12:20:06.402554Z",
     "start_time": "2018-09-14T12:20:06.388835Z"
    }
   },
   "outputs": [],
   "source": [
    "%matplotlib inline\n",
    "%config InlineBackend.figure_format='retina'\n",
    "\n",
    "# Import modules\n",
    "import matplotlib.pyplot as plt\n",
    "import matplotlib as mpl\n",
    "import numpy as np\n",
    "import pandas as pd \n",
    "import seaborn as sns\n",
    "import warnings\n",
    "\n",
    "from sklearn.datasets import load_wine\n",
    "from sklearn.metrics import confusion_matrix\n",
    "from sklearn.model_selection import train_test_split, KFold, cross_val_score\n",
    "from sklearn.dummy import DummyClassifier\n",
    "from sklearn.linear_model import LogisticRegression\n",
    "\n",
    "# Set pandas options\n",
    "pd.set_option('max_columns',1000)\n",
    "pd.set_option('max_rows',30)\n",
    "pd.set_option('display.float_format', lambda x: '%.3f' % x)\n",
    "\n",
    "# Set plotting option\n",
    "mpl.rcParams['figure.figsize'] = (9.0, 3.0)\n",
    "\n",
    "# Set warning options\n",
    "warnings.filterwarnings('ignore');"
   ]
  },
  {
   "cell_type": "markdown",
   "metadata": {},
   "source": [
    "### Import Data"
   ]
  },
  {
   "cell_type": "code",
   "execution_count": 25,
   "metadata": {
    "ExecuteTime": {
     "end_time": "2018-09-14T12:21:52.978409Z",
     "start_time": "2018-09-14T12:21:52.961085Z"
    }
   },
   "outputs": [
    {
     "data": {
      "text/html": [
       "<div>\n",
       "<style scoped>\n",
       "    .dataframe tbody tr th:only-of-type {\n",
       "        vertical-align: middle;\n",
       "    }\n",
       "\n",
       "    .dataframe tbody tr th {\n",
       "        vertical-align: top;\n",
       "    }\n",
       "\n",
       "    .dataframe thead th {\n",
       "        text-align: right;\n",
       "    }\n",
       "</style>\n",
       "<table border=\"1\" class=\"dataframe\">\n",
       "  <thead>\n",
       "    <tr style=\"text-align: right;\">\n",
       "      <th></th>\n",
       "      <th>alcohol</th>\n",
       "      <th>malic_acid</th>\n",
       "      <th>ash</th>\n",
       "      <th>alcalinity_of_ash</th>\n",
       "      <th>magnesium</th>\n",
       "      <th>total_phenols</th>\n",
       "      <th>flavanoids</th>\n",
       "      <th>nonflavanoid_phenols</th>\n",
       "      <th>proanthocyanins</th>\n",
       "      <th>color_intensity</th>\n",
       "      <th>hue</th>\n",
       "      <th>od280/od315_of_diluted_wines</th>\n",
       "      <th>proline</th>\n",
       "      <th>target</th>\n",
       "    </tr>\n",
       "  </thead>\n",
       "  <tbody>\n",
       "    <tr>\n",
       "      <th>0</th>\n",
       "      <td>14.230</td>\n",
       "      <td>1.710</td>\n",
       "      <td>2.430</td>\n",
       "      <td>15.600</td>\n",
       "      <td>127.000</td>\n",
       "      <td>2.800</td>\n",
       "      <td>3.060</td>\n",
       "      <td>0.280</td>\n",
       "      <td>2.290</td>\n",
       "      <td>5.640</td>\n",
       "      <td>1.040</td>\n",
       "      <td>3.920</td>\n",
       "      <td>1065.000</td>\n",
       "      <td>0</td>\n",
       "    </tr>\n",
       "    <tr>\n",
       "      <th>1</th>\n",
       "      <td>13.200</td>\n",
       "      <td>1.780</td>\n",
       "      <td>2.140</td>\n",
       "      <td>11.200</td>\n",
       "      <td>100.000</td>\n",
       "      <td>2.650</td>\n",
       "      <td>2.760</td>\n",
       "      <td>0.260</td>\n",
       "      <td>1.280</td>\n",
       "      <td>4.380</td>\n",
       "      <td>1.050</td>\n",
       "      <td>3.400</td>\n",
       "      <td>1050.000</td>\n",
       "      <td>0</td>\n",
       "    </tr>\n",
       "    <tr>\n",
       "      <th>2</th>\n",
       "      <td>13.160</td>\n",
       "      <td>2.360</td>\n",
       "      <td>2.670</td>\n",
       "      <td>18.600</td>\n",
       "      <td>101.000</td>\n",
       "      <td>2.800</td>\n",
       "      <td>3.240</td>\n",
       "      <td>0.300</td>\n",
       "      <td>2.810</td>\n",
       "      <td>5.680</td>\n",
       "      <td>1.030</td>\n",
       "      <td>3.170</td>\n",
       "      <td>1185.000</td>\n",
       "      <td>0</td>\n",
       "    </tr>\n",
       "    <tr>\n",
       "      <th>3</th>\n",
       "      <td>14.370</td>\n",
       "      <td>1.950</td>\n",
       "      <td>2.500</td>\n",
       "      <td>16.800</td>\n",
       "      <td>113.000</td>\n",
       "      <td>3.850</td>\n",
       "      <td>3.490</td>\n",
       "      <td>0.240</td>\n",
       "      <td>2.180</td>\n",
       "      <td>7.800</td>\n",
       "      <td>0.860</td>\n",
       "      <td>3.450</td>\n",
       "      <td>1480.000</td>\n",
       "      <td>0</td>\n",
       "    </tr>\n",
       "    <tr>\n",
       "      <th>4</th>\n",
       "      <td>13.240</td>\n",
       "      <td>2.590</td>\n",
       "      <td>2.870</td>\n",
       "      <td>21.000</td>\n",
       "      <td>118.000</td>\n",
       "      <td>2.800</td>\n",
       "      <td>2.690</td>\n",
       "      <td>0.390</td>\n",
       "      <td>1.820</td>\n",
       "      <td>4.320</td>\n",
       "      <td>1.040</td>\n",
       "      <td>2.930</td>\n",
       "      <td>735.000</td>\n",
       "      <td>0</td>\n",
       "    </tr>\n",
       "  </tbody>\n",
       "</table>\n",
       "</div>"
      ],
      "text/plain": [
       "   alcohol  malic_acid   ash  alcalinity_of_ash  magnesium  total_phenols  \\\n",
       "0   14.230       1.710 2.430             15.600    127.000          2.800   \n",
       "1   13.200       1.780 2.140             11.200    100.000          2.650   \n",
       "2   13.160       2.360 2.670             18.600    101.000          2.800   \n",
       "3   14.370       1.950 2.500             16.800    113.000          3.850   \n",
       "4   13.240       2.590 2.870             21.000    118.000          2.800   \n",
       "\n",
       "   flavanoids  nonflavanoid_phenols  proanthocyanins  color_intensity   hue  \\\n",
       "0       3.060                 0.280            2.290            5.640 1.040   \n",
       "1       2.760                 0.260            1.280            4.380 1.050   \n",
       "2       3.240                 0.300            2.810            5.680 1.030   \n",
       "3       3.490                 0.240            2.180            7.800 0.860   \n",
       "4       2.690                 0.390            1.820            4.320 1.040   \n",
       "\n",
       "   od280/od315_of_diluted_wines  proline  target  \n",
       "0                         3.920 1065.000       0  \n",
       "1                         3.400 1050.000       0  \n",
       "2                         3.170 1185.000       0  \n",
       "3                         3.450 1480.000       0  \n",
       "4                         2.930  735.000       0  "
      ]
     },
     "execution_count": 25,
     "metadata": {},
     "output_type": "execute_result"
    }
   ],
   "source": [
    "# Import Data\n",
    "wine = load_wine()\n",
    "X, y = wine.data, wine.target\n",
    "\n",
    "# Train-test split the data\n",
    "train_x, test_x, train_y, test_y = train_test_split(X,y)\n",
    "\n",
    "wdf = pd.DataFrame(wine.data, columns=wine['feature_names'])\n",
    "wdf = pd.concat([wdf, pd.DataFrame(wine.target, columns=['target'])], axis=1)\n",
    "wdf.head(5)"
   ]
  },
  {
   "cell_type": "markdown",
   "metadata": {},
   "source": [
    "### Targets"
   ]
  },
  {
   "cell_type": "code",
   "execution_count": 26,
   "metadata": {
    "ExecuteTime": {
     "end_time": "2018-09-14T12:21:35.715030Z",
     "start_time": "2018-09-14T12:21:35.467651Z"
    }
   },
   "outputs": [
    {
     "data": {
      "image/png": "[encoded data removed]",
      "text/plain": [
       "<Figure size 648x216 with 1 Axes>"
      ]
     },
     "metadata": {
      "image/png": {
       "height": 222,
       "width": 545
      }
     },
     "output_type": "display_data"
    }
   ],
   "source": [
    "# Plot a barplot of the target clasees\n",
    "pd.Series(train_y).value_counts().plot.barh(grid=False, color=['#CFCCC7','#6A6A6A','#000000'], width=0.25,edgecolor='w')\n",
    "plt.title('Target Outcomes')\n",
    "plt.ylabel('Class')\n",
    "plt.xlabel('Measure of Disease Progression');"
   ]
  },
  {
   "cell_type": "markdown",
   "metadata": {},
   "source": [
    "### Constant Dummy Model"
   ]
  },
  {
   "cell_type": "code",
   "execution_count": 27,
   "metadata": {},
   "outputs": [
    {
     "name": "stdout",
     "output_type": "stream",
     "text": [
      "Cross Validation Score: 0.30522\n"
     ]
    }
   ],
   "source": [
    "# Fit the intial logistic model \n",
    "dm_model = DummyClassifier(constant=1)\n",
    "dm_model.fit(train_x, train_y);\n",
    "scores = cross_val_score(dm_model, train_x, train_y, cv=10, scoring='accuracy')\n",
    "print(f'Cross Validation Score: {scores.mean():.5f}')"
   ]
  },
  {
   "cell_type": "markdown",
   "metadata": {},
   "source": [
    "### Startified Dummy Model"
   ]
  },
  {
   "cell_type": "code",
   "execution_count": 28,
   "metadata": {},
   "outputs": [
    {
     "name": "stdout",
     "output_type": "stream",
     "text": [
      "Cross Validation Score: 0.27125\n"
     ]
    }
   ],
   "source": [
    "# Fit the intial logistic model \n",
    "dm_model = DummyClassifier(strategy='stratified')\n",
    "dm_model.fit(train_x, train_y);\n",
    "scores = cross_val_score(dm_model, train_x, train_y, cv=10, scoring='accuracy')\n",
    "print(f'Cross Validation Score: {scores.mean():.5f}')"
   ]
  },
  {
   "cell_type": "markdown",
   "metadata": {},
   "source": [
    "### Random Dummy Model"
   ]
  },
  {
   "cell_type": "code",
   "execution_count": 34,
   "metadata": {},
   "outputs": [
    {
     "name": "stdout",
     "output_type": "stream",
     "text": [
      "Cross Validation Score: 0.34679\n"
     ]
    }
   ],
   "source": [
    "# Fit the intial logistic model \n",
    "dm_model = DummyClassifier(strategy='uniform')\n",
    "dm_model.fit(train_x, train_y);\n",
    "scores = cross_val_score(dm_model, train_x, train_y, cv=10, scoring='accuracy')\n",
    "print(f'Cross Validation Score: {scores.mean():.5f}')"
   ]
  },
  {
   "cell_type": "markdown",
   "metadata": {},
   "source": [
    "### Prior Dummy Model"
   ]
  },
  {
   "cell_type": "code",
   "execution_count": 35,
   "metadata": {},
   "outputs": [
    {
     "name": "stdout",
     "output_type": "stream",
     "text": [
      "Cross Validation Score: 0.42830\n"
     ]
    }
   ],
   "source": [
    "# Fit the intial logistic model \n",
    "dm_model = DummyClassifier(strategy='prior')\n",
    "dm_model.fit(train_x, train_y);\n",
    "scores = cross_val_score(dm_model, train_x, train_y, cv=10, scoring='accuracy')\n",
    "print(f'Cross Validation Score: {scores.mean():.5f}')"
   ]
  },
  {
   "cell_type": "markdown",
   "metadata": {},
   "source": [
    "### Logistic Regression"
   ]
  },
  {
   "cell_type": "code",
   "execution_count": 29,
   "metadata": {
    "ExecuteTime": {
     "end_time": "2018-09-14T12:22:19.270235Z",
     "start_time": "2018-09-14T12:22:19.262765Z"
    }
   },
   "outputs": [
    {
     "name": "stdout",
     "output_type": "stream",
     "text": [
      "Cross Validation Score: 0.94762\n"
     ]
    }
   ],
   "source": [
    "# Fit the intial logistic model \n",
    "lg_model = LogisticRegression(C=10000)\n",
    "lg_model.fit(train_x, train_y);\n",
    "scores = cross_val_score(lg_model, train_x, train_y, cv=10, scoring='accuracy')\n",
    "print(f'Cross Validation Score: {scores.mean():.5f}')"
   ]
  },
  {
   "cell_type": "markdown",
   "metadata": {
    "ExecuteTime": {
     "end_time": "2018-09-14T11:10:26.507099Z",
     "start_time": "2018-09-14T11:10:26.503996Z"
    }
   },
   "source": [
    "Author: Kavi Sekhon "
   ]
  }
 ],
 "metadata": {
  "kernelspec": {
   "display_name": "Python 3",
   "language": "python",
   "name": "python3"
  },
  "language_info": {
   "codemirror_mode": {
    "name": "ipython",
    "version": 3
   },
   "file_extension": ".py",
   "mimetype": "text/x-python",
   "name": "python",
   "nbconvert_exporter": "python",
   "pygments_lexer": "ipython3",
   "version": "3.6.5"
  },
  "varInspector": {
   "cols": {
    "lenName": 16,
    "lenType": 16,
    "lenVar": 40
   },
   "kernels_config": {
    "python": {
     "delete_cmd_postfix": "",
     "delete_cmd_prefix": "del ",
     "library": "var_list.py",
     "varRefreshCmd": "print(var_dic_list())"
    },
    "r": {
     "delete_cmd_postfix": ") ",
     "delete_cmd_prefix": "rm(",
     "library": "var_list.r",
     "varRefreshCmd": "cat(var_dic_list()) "
    }
   },
   "types_to_exclude": [
    "module",
    "function",
    "builtin_function_or_method",
    "instance",
    "_Feature"
   ],
   "window_display": false
  }
 },
 "nbformat": 4,
 "nbformat_minor": 2
}
