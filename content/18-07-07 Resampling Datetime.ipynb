{
 "cells": [
  {
   "cell_type": "markdown",
   "metadata": {},
   "source": [
    "# Resampling Datetime\n",
    "\n",
    "<span>When plotting times series data it becomes advantageous to reframe and aggregate the data by a period of time. Data Scientists that deal with time series data prefer Pandas because resampling the data become really easy when your data is formatted in the correct manner. To resample a dataframe your datetime values should be in datetime data type and be set t the index of the dataframe.</span>\n",
    "    \n",
    "### Import Preliminaries"
   ]
  },
  {
   "cell_type": "code",
   "execution_count": 1,
   "metadata": {
    "ExecuteTime": {
     "end_time": "2018-09-11T02:06:36.133565Z",
     "start_time": "2018-09-11T02:06:35.812244Z"
    }
   },
   "outputs": [
    {
     "data": {
      "text/html": [
       "<div>\n",
       "<style scoped>\n",
       "    .dataframe tbody tr th:only-of-type {\n",
       "        vertical-align: middle;\n",
       "    }\n",
       "\n",
       "    .dataframe tbody tr th {\n",
       "        vertical-align: top;\n",
       "    }\n",
       "\n",
       "    .dataframe thead th {\n",
       "        text-align: right;\n",
       "    }\n",
       "</style>\n",
       "<table border=\"1\" class=\"dataframe\">\n",
       "  <thead>\n",
       "    <tr style=\"text-align: right;\">\n",
       "      <th></th>\n",
       "      <th>datetime</th>\n",
       "      <th>feature_1</th>\n",
       "      <th>feature_2</th>\n",
       "    </tr>\n",
       "  </thead>\n",
       "  <tbody>\n",
       "    <tr>\n",
       "      <th>0</th>\n",
       "      <td>2018-12-25</td>\n",
       "      <td>-1.400024</td>\n",
       "      <td>0.396009</td>\n",
       "    </tr>\n",
       "    <tr>\n",
       "      <th>1</th>\n",
       "      <td>2018-12-26</td>\n",
       "      <td>2.150836</td>\n",
       "      <td>0.643915</td>\n",
       "    </tr>\n",
       "    <tr>\n",
       "      <th>2</th>\n",
       "      <td>2018-12-27</td>\n",
       "      <td>0.890622</td>\n",
       "      <td>0.523227</td>\n",
       "    </tr>\n",
       "    <tr>\n",
       "      <th>3</th>\n",
       "      <td>2018-12-28</td>\n",
       "      <td>-0.339172</td>\n",
       "      <td>0.651509</td>\n",
       "    </tr>\n",
       "    <tr>\n",
       "      <th>4</th>\n",
       "      <td>2018-12-29</td>\n",
       "      <td>-1.309172</td>\n",
       "      <td>0.417152</td>\n",
       "    </tr>\n",
       "  </tbody>\n",
       "</table>\n",
       "</div>"
      ],
      "text/plain": [
       "    datetime  feature_1  feature_2\n",
       "0 2018-12-25  -1.400024   0.396009\n",
       "1 2018-12-26   2.150836   0.643915\n",
       "2 2018-12-27   0.890622   0.523227\n",
       "3 2018-12-28  -0.339172   0.651509\n",
       "4 2018-12-29  -1.309172   0.417152"
      ]
     },
     "execution_count": 1,
     "metadata": {},
     "output_type": "execute_result"
    }
   ],
   "source": [
    "# Import modules\n",
    "import pandas as pd\n",
    "import numpy as np\n",
    "\n",
    "# Create a dataframe\n",
    "df =pd.DataFrame( data={'datetime': pd.date_range('12/25/2018', periods=90, freq='D'),\n",
    "                      'feature_1': np.random.randn(90),\n",
    "                      'feature_2': np.random.random(90)})\n",
    "\n",
    "# View the dataframe \n",
    "df.head()"
   ]
  },
  {
   "cell_type": "code",
   "execution_count": 2,
   "metadata": {
    "ExecuteTime": {
     "end_time": "2018-09-11T02:06:53.755071Z",
     "start_time": "2018-09-11T02:06:53.746871Z"
    }
   },
   "outputs": [
    {
     "data": {
      "text/html": [
       "<div>\n",
       "<style scoped>\n",
       "    .dataframe tbody tr th:only-of-type {\n",
       "        vertical-align: middle;\n",
       "    }\n",
       "\n",
       "    .dataframe tbody tr th {\n",
       "        vertical-align: top;\n",
       "    }\n",
       "\n",
       "    .dataframe thead th {\n",
       "        text-align: right;\n",
       "    }\n",
       "</style>\n",
       "<table border=\"1\" class=\"dataframe\">\n",
       "  <thead>\n",
       "    <tr style=\"text-align: right;\">\n",
       "      <th></th>\n",
       "      <th>feature_1</th>\n",
       "      <th>feature_2</th>\n",
       "    </tr>\n",
       "    <tr>\n",
       "      <th>datetime</th>\n",
       "      <th></th>\n",
       "      <th></th>\n",
       "    </tr>\n",
       "  </thead>\n",
       "  <tbody>\n",
       "    <tr>\n",
       "      <th>2018-12-25</th>\n",
       "      <td>-1.400024</td>\n",
       "      <td>0.396009</td>\n",
       "    </tr>\n",
       "    <tr>\n",
       "      <th>2018-12-26</th>\n",
       "      <td>2.150836</td>\n",
       "      <td>0.643915</td>\n",
       "    </tr>\n",
       "    <tr>\n",
       "      <th>2018-12-27</th>\n",
       "      <td>0.890622</td>\n",
       "      <td>0.523227</td>\n",
       "    </tr>\n",
       "    <tr>\n",
       "      <th>2018-12-28</th>\n",
       "      <td>-0.339172</td>\n",
       "      <td>0.651509</td>\n",
       "    </tr>\n",
       "    <tr>\n",
       "      <th>2018-12-29</th>\n",
       "      <td>-1.309172</td>\n",
       "      <td>0.417152</td>\n",
       "    </tr>\n",
       "  </tbody>\n",
       "</table>\n",
       "</div>"
      ],
      "text/plain": [
       "            feature_1  feature_2\n",
       "datetime                        \n",
       "2018-12-25  -1.400024   0.396009\n",
       "2018-12-26   2.150836   0.643915\n",
       "2018-12-27   0.890622   0.523227\n",
       "2018-12-28  -0.339172   0.651509\n",
       "2018-12-29  -1.309172   0.417152"
      ]
     },
     "execution_count": 2,
     "metadata": {},
     "output_type": "execute_result"
    }
   ],
   "source": [
    "# Make the datetime feature the index of the dataframe\n",
    "df.set_index('datetime', inplace=True)\n",
    "df.head()"
   ]
  },
  {
   "cell_type": "markdown",
   "metadata": {},
   "source": [
    "### Daily Resampling"
   ]
  },
  {
   "cell_type": "code",
   "execution_count": 3,
   "metadata": {
    "ExecuteTime": {
     "end_time": "2018-09-11T02:07:15.656528Z",
     "start_time": "2018-09-11T02:07:15.635515Z"
    }
   },
   "outputs": [
    {
     "data": {
      "text/html": [
       "<div>\n",
       "<style scoped>\n",
       "    .dataframe tbody tr th:only-of-type {\n",
       "        vertical-align: middle;\n",
       "    }\n",
       "\n",
       "    .dataframe tbody tr th {\n",
       "        vertical-align: top;\n",
       "    }\n",
       "\n",
       "    .dataframe thead th {\n",
       "        text-align: right;\n",
       "    }\n",
       "</style>\n",
       "<table border=\"1\" class=\"dataframe\">\n",
       "  <thead>\n",
       "    <tr style=\"text-align: right;\">\n",
       "      <th></th>\n",
       "      <th>feature_1</th>\n",
       "      <th>feature_2</th>\n",
       "    </tr>\n",
       "    <tr>\n",
       "      <th>datetime</th>\n",
       "      <th></th>\n",
       "      <th></th>\n",
       "    </tr>\n",
       "  </thead>\n",
       "  <tbody>\n",
       "    <tr>\n",
       "      <th>2018-12-25</th>\n",
       "      <td>-1.400024</td>\n",
       "      <td>0.396009</td>\n",
       "    </tr>\n",
       "    <tr>\n",
       "      <th>2018-12-26</th>\n",
       "      <td>2.150836</td>\n",
       "      <td>0.643915</td>\n",
       "    </tr>\n",
       "    <tr>\n",
       "      <th>2018-12-27</th>\n",
       "      <td>0.890622</td>\n",
       "      <td>0.523227</td>\n",
       "    </tr>\n",
       "    <tr>\n",
       "      <th>2018-12-28</th>\n",
       "      <td>-0.339172</td>\n",
       "      <td>0.651509</td>\n",
       "    </tr>\n",
       "    <tr>\n",
       "      <th>2018-12-29</th>\n",
       "      <td>-1.309172</td>\n",
       "      <td>0.417152</td>\n",
       "    </tr>\n",
       "  </tbody>\n",
       "</table>\n",
       "</div>"
      ],
      "text/plain": [
       "            feature_1  feature_2\n",
       "datetime                        \n",
       "2018-12-25  -1.400024   0.396009\n",
       "2018-12-26   2.150836   0.643915\n",
       "2018-12-27   0.890622   0.523227\n",
       "2018-12-28  -0.339172   0.651509\n",
       "2018-12-29  -1.309172   0.417152"
      ]
     },
     "execution_count": 3,
     "metadata": {},
     "output_type": "execute_result"
    }
   ],
   "source": [
    "# Resample the dataframe by day, and return the aggregated sum\n",
    "df.resample('1D').sum().head()"
   ]
  },
  {
   "cell_type": "markdown",
   "metadata": {},
   "source": [
    "### Weekly Resampling"
   ]
  },
  {
   "cell_type": "code",
   "execution_count": 7,
   "metadata": {
    "ExecuteTime": {
     "end_time": "2018-09-11T02:08:45.636262Z",
     "start_time": "2018-09-11T02:08:45.626980Z"
    }
   },
   "outputs": [
    {
     "data": {
      "text/html": [
       "<div>\n",
       "<style scoped>\n",
       "    .dataframe tbody tr th:only-of-type {\n",
       "        vertical-align: middle;\n",
       "    }\n",
       "\n",
       "    .dataframe tbody tr th {\n",
       "        vertical-align: top;\n",
       "    }\n",
       "\n",
       "    .dataframe thead th {\n",
       "        text-align: right;\n",
       "    }\n",
       "</style>\n",
       "<table border=\"1\" class=\"dataframe\">\n",
       "  <thead>\n",
       "    <tr style=\"text-align: right;\">\n",
       "      <th></th>\n",
       "      <th>feature_1</th>\n",
       "      <th>feature_2</th>\n",
       "    </tr>\n",
       "    <tr>\n",
       "      <th>datetime</th>\n",
       "      <th></th>\n",
       "      <th></th>\n",
       "    </tr>\n",
       "  </thead>\n",
       "  <tbody>\n",
       "    <tr>\n",
       "      <th>2018-12-30</th>\n",
       "      <td>2.150836</td>\n",
       "      <td>0.651509</td>\n",
       "    </tr>\n",
       "    <tr>\n",
       "      <th>2019-01-06</th>\n",
       "      <td>2.266355</td>\n",
       "      <td>0.880982</td>\n",
       "    </tr>\n",
       "    <tr>\n",
       "      <th>2019-01-13</th>\n",
       "      <td>1.458251</td>\n",
       "      <td>0.897223</td>\n",
       "    </tr>\n",
       "    <tr>\n",
       "      <th>2019-01-20</th>\n",
       "      <td>0.912754</td>\n",
       "      <td>0.737018</td>\n",
       "    </tr>\n",
       "    <tr>\n",
       "      <th>2019-01-27</th>\n",
       "      <td>1.246409</td>\n",
       "      <td>0.987816</td>\n",
       "    </tr>\n",
       "  </tbody>\n",
       "</table>\n",
       "</div>"
      ],
      "text/plain": [
       "            feature_1  feature_2\n",
       "datetime                        \n",
       "2018-12-30   2.150836   0.651509\n",
       "2019-01-06   2.266355   0.880982\n",
       "2019-01-13   1.458251   0.897223\n",
       "2019-01-20   0.912754   0.737018\n",
       "2019-01-27   1.246409   0.987816"
      ]
     },
     "execution_count": 7,
     "metadata": {},
     "output_type": "execute_result"
    }
   ],
   "source": [
    "# Resample the dataframe by week, and return the max value\n",
    "df.resample('1W').max().head()"
   ]
  },
  {
   "cell_type": "markdown",
   "metadata": {},
   "source": [
    "### Monthly Resampling"
   ]
  },
  {
   "cell_type": "code",
   "execution_count": 11,
   "metadata": {
    "ExecuteTime": {
     "end_time": "2018-09-11T02:10:00.508549Z",
     "start_time": "2018-09-11T02:10:00.499363Z"
    }
   },
   "outputs": [
    {
     "data": {
      "text/html": [
       "<div>\n",
       "<style scoped>\n",
       "    .dataframe tbody tr th:only-of-type {\n",
       "        vertical-align: middle;\n",
       "    }\n",
       "\n",
       "    .dataframe tbody tr th {\n",
       "        vertical-align: top;\n",
       "    }\n",
       "\n",
       "    .dataframe thead th {\n",
       "        text-align: right;\n",
       "    }\n",
       "</style>\n",
       "<table border=\"1\" class=\"dataframe\">\n",
       "  <thead>\n",
       "    <tr style=\"text-align: right;\">\n",
       "      <th></th>\n",
       "      <th>feature_1</th>\n",
       "      <th>feature_2</th>\n",
       "    </tr>\n",
       "    <tr>\n",
       "      <th>datetime</th>\n",
       "      <th></th>\n",
       "      <th></th>\n",
       "    </tr>\n",
       "  </thead>\n",
       "  <tbody>\n",
       "    <tr>\n",
       "      <th>2018-12-31</th>\n",
       "      <td>-1.400024</td>\n",
       "      <td>0.251083</td>\n",
       "    </tr>\n",
       "    <tr>\n",
       "      <th>2019-01-31</th>\n",
       "      <td>-1.696377</td>\n",
       "      <td>0.095065</td>\n",
       "    </tr>\n",
       "    <tr>\n",
       "      <th>2019-02-28</th>\n",
       "      <td>-1.554629</td>\n",
       "      <td>0.014236</td>\n",
       "    </tr>\n",
       "    <tr>\n",
       "      <th>2019-03-31</th>\n",
       "      <td>-1.882866</td>\n",
       "      <td>0.048322</td>\n",
       "    </tr>\n",
       "  </tbody>\n",
       "</table>\n",
       "</div>"
      ],
      "text/plain": [
       "            feature_1  feature_2\n",
       "datetime                        \n",
       "2018-12-31  -1.400024   0.251083\n",
       "2019-01-31  -1.696377   0.095065\n",
       "2019-02-28  -1.554629   0.014236\n",
       "2019-03-31  -1.882866   0.048322"
      ]
     },
     "execution_count": 11,
     "metadata": {},
     "output_type": "execute_result"
    }
   ],
   "source": [
    "# Resample the dataframe by month, and return the min value\n",
    "df.resample('1M').min().head(5)"
   ]
  },
  {
   "cell_type": "markdown",
   "metadata": {},
   "source": [
    "### Yearly Resampling"
   ]
  },
  {
   "cell_type": "code",
   "execution_count": 12,
   "metadata": {
    "ExecuteTime": {
     "end_time": "2018-09-11T02:10:11.283109Z",
     "start_time": "2018-09-11T02:10:11.274169Z"
    }
   },
   "outputs": [
    {
     "data": {
      "text/html": [
       "<div>\n",
       "<style scoped>\n",
       "    .dataframe tbody tr th:only-of-type {\n",
       "        vertical-align: middle;\n",
       "    }\n",
       "\n",
       "    .dataframe tbody tr th {\n",
       "        vertical-align: top;\n",
       "    }\n",
       "\n",
       "    .dataframe thead th {\n",
       "        text-align: right;\n",
       "    }\n",
       "</style>\n",
       "<table border=\"1\" class=\"dataframe\">\n",
       "  <thead>\n",
       "    <tr style=\"text-align: right;\">\n",
       "      <th></th>\n",
       "      <th>feature_1</th>\n",
       "      <th>feature_2</th>\n",
       "    </tr>\n",
       "    <tr>\n",
       "      <th>datetime</th>\n",
       "      <th></th>\n",
       "      <th></th>\n",
       "    </tr>\n",
       "  </thead>\n",
       "  <tbody>\n",
       "    <tr>\n",
       "      <th>2018-12-31</th>\n",
       "      <td>7</td>\n",
       "      <td>7</td>\n",
       "    </tr>\n",
       "    <tr>\n",
       "      <th>2019-12-31</th>\n",
       "      <td>83</td>\n",
       "      <td>83</td>\n",
       "    </tr>\n",
       "  </tbody>\n",
       "</table>\n",
       "</div>"
      ],
      "text/plain": [
       "            feature_1  feature_2\n",
       "datetime                        \n",
       "2018-12-31          7          7\n",
       "2019-12-31         83         83"
      ]
     },
     "execution_count": 12,
     "metadata": {},
     "output_type": "execute_result"
    }
   ],
   "source": [
    "# Resample the dataframe by year, and return the \n",
    "# unique values of each year\n",
    "df.resample('1Y').nunique()"
   ]
  },
  {
   "cell_type": "markdown",
   "metadata": {
    "collapsed": true
   },
   "source": [
    "### Resampling by the Hour"
   ]
  },
  {
   "cell_type": "code",
   "execution_count": 13,
   "metadata": {
    "ExecuteTime": {
     "end_time": "2018-09-11T02:12:04.589153Z",
     "start_time": "2018-09-11T02:12:04.575640Z"
    }
   },
   "outputs": [
    {
     "data": {
      "text/html": [
       "<div>\n",
       "<style scoped>\n",
       "    .dataframe tbody tr th:only-of-type {\n",
       "        vertical-align: middle;\n",
       "    }\n",
       "\n",
       "    .dataframe tbody tr th {\n",
       "        vertical-align: top;\n",
       "    }\n",
       "\n",
       "    .dataframe thead th {\n",
       "        text-align: right;\n",
       "    }\n",
       "</style>\n",
       "<table border=\"1\" class=\"dataframe\">\n",
       "  <thead>\n",
       "    <tr style=\"text-align: right;\">\n",
       "      <th></th>\n",
       "      <th>feature_1</th>\n",
       "      <th>feature_2</th>\n",
       "    </tr>\n",
       "    <tr>\n",
       "      <th>datetime</th>\n",
       "      <th></th>\n",
       "      <th></th>\n",
       "    </tr>\n",
       "  </thead>\n",
       "  <tbody>\n",
       "    <tr>\n",
       "      <th>2018-12-25 00:00:00</th>\n",
       "      <td>-1.147581</td>\n",
       "      <td>1.189723</td>\n",
       "    </tr>\n",
       "    <tr>\n",
       "      <th>2018-12-25 02:00:00</th>\n",
       "      <td>1.187094</td>\n",
       "      <td>1.602250</td>\n",
       "    </tr>\n",
       "    <tr>\n",
       "      <th>2018-12-25 04:00:00</th>\n",
       "      <td>1.040407</td>\n",
       "      <td>1.584479</td>\n",
       "    </tr>\n",
       "    <tr>\n",
       "      <th>2018-12-25 06:00:00</th>\n",
       "      <td>0.242816</td>\n",
       "      <td>0.888224</td>\n",
       "    </tr>\n",
       "    <tr>\n",
       "      <th>2018-12-25 08:00:00</th>\n",
       "      <td>-0.193563</td>\n",
       "      <td>0.790089</td>\n",
       "    </tr>\n",
       "  </tbody>\n",
       "</table>\n",
       "</div>"
      ],
      "text/plain": [
       "                     feature_1  feature_2\n",
       "datetime                                 \n",
       "2018-12-25 00:00:00  -1.147581   1.189723\n",
       "2018-12-25 02:00:00   1.187094   1.602250\n",
       "2018-12-25 04:00:00   1.040407   1.584479\n",
       "2018-12-25 06:00:00   0.242816   0.888224\n",
       "2018-12-25 08:00:00  -0.193563   0.790089"
      ]
     },
     "execution_count": 13,
     "metadata": {},
     "output_type": "execute_result"
    }
   ],
   "source": [
    "# Create another dataframe that includes time as well\n",
    "df = pd.DataFrame( data={'datetime': pd.date_range('12/25/2018', periods=90, freq='H'),\n",
    "                      'feature_1': np.random.randn(90),\n",
    "                      'feature_2': np.random.random(90)})\n",
    "\n",
    "# Set the indec to the datetime value\n",
    "df.set_index('datetime', inplace=True)\n",
    "\n",
    "# Resample the data by 2 hour intervals\n",
    "df.resample('2H').sum().head()"
   ]
  },
  {
   "cell_type": "markdown",
   "metadata": {},
   "source": [
    "### Resampling by the Mintue"
   ]
  },
  {
   "cell_type": "code",
   "execution_count": 15,
   "metadata": {
    "ExecuteTime": {
     "end_time": "2018-09-11T02:12:35.339969Z",
     "start_time": "2018-09-11T02:12:35.327194Z"
    }
   },
   "outputs": [
    {
     "data": {
      "text/html": [
       "<div>\n",
       "<style scoped>\n",
       "    .dataframe tbody tr th:only-of-type {\n",
       "        vertical-align: middle;\n",
       "    }\n",
       "\n",
       "    .dataframe tbody tr th {\n",
       "        vertical-align: top;\n",
       "    }\n",
       "\n",
       "    .dataframe thead th {\n",
       "        text-align: right;\n",
       "    }\n",
       "</style>\n",
       "<table border=\"1\" class=\"dataframe\">\n",
       "  <thead>\n",
       "    <tr style=\"text-align: right;\">\n",
       "      <th></th>\n",
       "      <th>feature_1</th>\n",
       "      <th>feature_2</th>\n",
       "    </tr>\n",
       "    <tr>\n",
       "      <th>datetime</th>\n",
       "      <th></th>\n",
       "      <th></th>\n",
       "    </tr>\n",
       "  </thead>\n",
       "  <tbody>\n",
       "    <tr>\n",
       "      <th>2018-12-25 00:00:00</th>\n",
       "      <td>-0.035448</td>\n",
       "      <td>1.556011</td>\n",
       "    </tr>\n",
       "    <tr>\n",
       "      <th>2018-12-25 00:03:00</th>\n",
       "      <td>2.939115</td>\n",
       "      <td>1.636258</td>\n",
       "    </tr>\n",
       "    <tr>\n",
       "      <th>2018-12-25 00:06:00</th>\n",
       "      <td>-2.695364</td>\n",
       "      <td>1.306642</td>\n",
       "    </tr>\n",
       "    <tr>\n",
       "      <th>2018-12-25 00:09:00</th>\n",
       "      <td>-2.656164</td>\n",
       "      <td>0.897577</td>\n",
       "    </tr>\n",
       "    <tr>\n",
       "      <th>2018-12-25 00:12:00</th>\n",
       "      <td>-0.132540</td>\n",
       "      <td>0.407403</td>\n",
       "    </tr>\n",
       "  </tbody>\n",
       "</table>\n",
       "</div>"
      ],
      "text/plain": [
       "                     feature_1  feature_2\n",
       "datetime                                 \n",
       "2018-12-25 00:00:00  -0.035448   1.556011\n",
       "2018-12-25 00:03:00   2.939115   1.636258\n",
       "2018-12-25 00:06:00  -2.695364   1.306642\n",
       "2018-12-25 00:09:00  -2.656164   0.897577\n",
       "2018-12-25 00:12:00  -0.132540   0.407403"
      ]
     },
     "execution_count": 15,
     "metadata": {},
     "output_type": "execute_result"
    }
   ],
   "source": [
    "# Create another dataframe that includes time with minutes\n",
    "df = pd.DataFrame( data={'datetime': pd.date_range('12/25/2018', periods=90, freq='T'),\n",
    "                      'feature_1': np.random.randn(90),\n",
    "                      'feature_2': np.random.random(90)})\n",
    "\n",
    "# Set the indec to the datetime value\n",
    "df.set_index('datetime', inplace=True)\n",
    "\n",
    "# Resample the data by 3 minute intervals\n",
    "df.resample('3T').sum().head()"
   ]
  },
  {
   "cell_type": "markdown",
   "metadata": {},
   "source": [
    "### Resampling by the Second"
   ]
  },
  {
   "cell_type": "code",
   "execution_count": 16,
   "metadata": {
    "ExecuteTime": {
     "end_time": "2018-09-11T02:13:05.783060Z",
     "start_time": "2018-09-11T02:13:05.768315Z"
    }
   },
   "outputs": [
    {
     "data": {
      "text/html": [
       "<div>\n",
       "<style scoped>\n",
       "    .dataframe tbody tr th:only-of-type {\n",
       "        vertical-align: middle;\n",
       "    }\n",
       "\n",
       "    .dataframe tbody tr th {\n",
       "        vertical-align: top;\n",
       "    }\n",
       "\n",
       "    .dataframe thead th {\n",
       "        text-align: right;\n",
       "    }\n",
       "</style>\n",
       "<table border=\"1\" class=\"dataframe\">\n",
       "  <thead>\n",
       "    <tr style=\"text-align: right;\">\n",
       "      <th></th>\n",
       "      <th>feature_1</th>\n",
       "      <th>feature_2</th>\n",
       "    </tr>\n",
       "    <tr>\n",
       "      <th>datetime</th>\n",
       "      <th></th>\n",
       "      <th></th>\n",
       "    </tr>\n",
       "  </thead>\n",
       "  <tbody>\n",
       "    <tr>\n",
       "      <th>2018-12-25 00:00:00</th>\n",
       "      <td>2.084843</td>\n",
       "      <td>13.144497</td>\n",
       "    </tr>\n",
       "    <tr>\n",
       "      <th>2018-12-25 00:00:30</th>\n",
       "      <td>2.507993</td>\n",
       "      <td>14.292305</td>\n",
       "    </tr>\n",
       "    <tr>\n",
       "      <th>2018-12-25 00:01:00</th>\n",
       "      <td>-0.854539</td>\n",
       "      <td>16.713357</td>\n",
       "    </tr>\n",
       "  </tbody>\n",
       "</table>\n",
       "</div>"
      ],
      "text/plain": [
       "                     feature_1  feature_2\n",
       "datetime                                 \n",
       "2018-12-25 00:00:00   2.084843  13.144497\n",
       "2018-12-25 00:00:30   2.507993  14.292305\n",
       "2018-12-25 00:01:00  -0.854539  16.713357"
      ]
     },
     "execution_count": 16,
     "metadata": {},
     "output_type": "execute_result"
    }
   ],
   "source": [
    "# Create another dataframe that includes time with seconds\n",
    "df = pd.DataFrame( data={'datetime': pd.date_range('12/25/2018', periods=90, freq='s'),\n",
    "                      'feature_1': np.random.randn(90),\n",
    "                      'feature_2': np.random.random(90)})\n",
    "\n",
    "# Set the indec to the datetime value\n",
    "df.set_index('datetime', inplace=True)\n",
    "\n",
    "# Resample the data by 3 minute intervals\n",
    "df.resample('30s').sum().head()"
   ]
  },
  {
   "cell_type": "markdown",
   "metadata": {},
   "source": [
    "Author: Kavi Sekhon"
   ]
  }
 ],
 "metadata": {
  "kernelspec": {
   "display_name": "Python 3",
   "language": "python",
   "name": "python3"
  },
  "language_info": {
   "codemirror_mode": {
    "name": "ipython",
    "version": 3
   },
   "file_extension": ".py",
   "mimetype": "text/x-python",
   "name": "python",
   "nbconvert_exporter": "python",
   "pygments_lexer": "ipython3",
   "version": "3.6.6"
  },
  "varInspector": {
   "cols": {
    "lenName": 16,
    "lenType": 16,
    "lenVar": 40
   },
   "kernels_config": {
    "python": {
     "delete_cmd_postfix": "",
     "delete_cmd_prefix": "del ",
     "library": "var_list.py",
     "varRefreshCmd": "print(var_dic_list())"
    },
    "r": {
     "delete_cmd_postfix": ") ",
     "delete_cmd_prefix": "rm(",
     "library": "var_list.r",
     "varRefreshCmd": "cat(var_dic_list()) "
    }
   },
   "types_to_exclude": [
    "module",
    "function",
    "builtin_function_or_method",
    "instance",
    "_Feature"
   ],
   "window_display": false
  }
 },
 "nbformat": 4,
 "nbformat_minor": 2
}
