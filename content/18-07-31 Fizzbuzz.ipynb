{
 "cells": [
  {
   "cell_type": "markdown",
   "metadata": {},
   "source": [
    "# Fizzbuzz\n",
    "\n",
    "<span>The fizzbuzz question is an basic interview question for coders. Basically write some code that says 'Fizzbuzz' when a value is divisible by 15, 'fizz' when its divisible by 3, and 'buzz' when the value is divisible by 3. Here is my response.</span>\n",
    "\n",
    "### Array of Values"
   ]
  },
  {
   "cell_type": "code",
   "execution_count": 2,
   "metadata": {
    "ExecuteTime": {
     "end_time": "2018-09-11T06:16:01.335972Z",
     "start_time": "2018-09-11T06:16:01.326192Z"
    }
   },
   "outputs": [
    {
     "data": {
      "text/plain": [
       "array([ 0,  1,  2,  3,  4,  5,  6,  7,  8,  9, 10, 11, 12, 13, 14, 15])"
      ]
     },
     "execution_count": 2,
     "metadata": {},
     "output_type": "execute_result"
    }
   ],
   "source": [
    "# Import modules\n",
    "import numpy as np\n",
    "\n",
    "# Create some sets data\n",
    "values = np.arange(0,16)\n",
    "values"
   ]
  },
  {
   "cell_type": "code",
   "execution_count": 4,
   "metadata": {
    "ExecuteTime": {
     "end_time": "2018-09-11T06:16:24.575476Z",
     "start_time": "2018-09-11T06:16:24.570615Z"
    }
   },
   "outputs": [
    {
     "name": "stdout",
     "output_type": "stream",
     "text": [
      "Value: 0, value is 0\n",
      "Value: 1, buzz\n",
      "Value: 2, buzz\n",
      "Value: 3, buzz\n",
      "Value: 4, buzz\n",
      "Value: 5, fizz\n",
      "Value: 6, buzz\n",
      "Value: 7, buzz\n",
      "Value: 8, buzz\n",
      "Value: 9, buzz\n",
      "Value: 10, fizz\n",
      "Value: 11, buzz\n",
      "Value: 12, buzz\n",
      "Value: 13, buzz\n",
      "Value: 14, buzz\n",
      "Value: 15, fizzbuzz\n"
     ]
    }
   ],
   "source": [
    "# The an answer to the fizz buss question\n",
    "for i in values:\n",
    "    if i == 0 :\n",
    "        print(f'Value: {i}, value is 0')\n",
    "    elif i%5 ==0  and i%3 ==0:\n",
    "        print(f'Value: {i}, fizzbuzz')\n",
    "    elif i%5:\n",
    "        print(f'Value: {i}, buzz')\n",
    "    elif i%3:\n",
    "        print(f'Value: {i}, fizz')\n",
    "    else:\n",
    "        print(f'Value: {i}, nothing')"
   ]
  },
  {
   "cell_type": "markdown",
   "metadata": {},
   "source": [
    "Author: Kavi Sekhon"
   ]
  }
 ],
 "metadata": {
  "kernelspec": {
   "display_name": "Python 3",
   "language": "python",
   "name": "python3"
  },
  "language_info": {
   "codemirror_mode": {
    "name": "ipython",
    "version": 3
   },
   "file_extension": ".py",
   "mimetype": "text/x-python",
   "name": "python",
   "nbconvert_exporter": "python",
   "pygments_lexer": "ipython3",
   "version": "3.6.6"
  },
  "varInspector": {
   "cols": {
    "lenName": 16,
    "lenType": 16,
    "lenVar": 40
   },
   "kernels_config": {
    "python": {
     "delete_cmd_postfix": "",
     "delete_cmd_prefix": "del ",
     "library": "var_list.py",
     "varRefreshCmd": "print(var_dic_list())"
    },
    "r": {
     "delete_cmd_postfix": ") ",
     "delete_cmd_prefix": "rm(",
     "library": "var_list.r",
     "varRefreshCmd": "cat(var_dic_list()) "
    }
   },
   "types_to_exclude": [
    "module",
    "function",
    "builtin_function_or_method",
    "instance",
    "_Feature"
   ],
   "window_display": false
  }
 },
 "nbformat": 4,
 "nbformat_minor": 2
}
