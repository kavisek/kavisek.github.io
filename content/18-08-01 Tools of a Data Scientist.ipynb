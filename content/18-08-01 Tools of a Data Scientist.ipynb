{
 "cells": [
  {
   "cell_type": "markdown",
   "metadata": {},
   "source": [
    "# Tools of a Data Scientist\n",
    "\n",
    "<span>This is a comprehensive list of the main tools I use in my workflow. Plus an addition section on client related tools I have been exposed to. Note that some of these tools are paid tools, but most are free. Feel free to tackle them in what ever method your wish. For context I mainly work on mac</span>"
   ]
  },
  {
   "cell_type": "markdown",
   "metadata": {
    "ExecuteTime": {
     "end_time": "2018-08-04T20:57:43.638882Z",
     "start_time": "2018-08-04T20:57:43.635007Z"
    }
   },
   "source": [
    "### Software Tools\n",
    "\n",
    "- Docker\n",
    "- Anaconda/Conda\n",
    "- Apache Spark\n",
    "- Atom\n",
    "- AWS\n",
    "- Excel\n",
    "- Git\n",
    "- Jupyter Notebook\n",
    "- Jupyter Lab\n",
    "- MAMP\n",
    "- Pro Sequel\n",
    "- Python\n",
    "- Snippet Lab\n",
    "- SQL\n",
    "- Tableau\n",
    "\n",
    "### Python Pacakages\n",
    "\n",
    "\n",
    "- Airflow\n",
    "- Boto3\n",
    "- Datetime\n",
    "- Keras\n",
    "- Matplotlib\n",
    "- Missingno\n",
    "- Numpy\n",
    "- NLTK\n",
    "- OS\n",
    "- Open CV\n",
    "- Pandas\n",
    "- Plotly\n",
    "- Regex\n",
    "- Requests\n",
    "- Seaborn\n",
    "- Scipy\n",
    "- Sklearn\n",
    "- SQL Alchemy\n",
    "- Tensorflow\n",
    "- TQDM\n",
    "\n",
    "### Other\n",
    "\n",
    "- Grammarly\n",
    "- Evernote\n",
    "- Sip\n",
    "- Sketch\n",
    "\n",
    "Author: Kavi Sekhon"
   ]
  }
 ],
 "metadata": {
  "kernelspec": {
   "display_name": "Python 3",
   "language": "python",
   "name": "python3"
  },
  "language_info": {
   "codemirror_mode": {
    "name": "ipython",
    "version": 3
   },
   "file_extension": ".py",
   "mimetype": "text/x-python",
   "name": "python",
   "nbconvert_exporter": "python",
   "pygments_lexer": "ipython3",
   "version": "3.6.6"
  },
  "varInspector": {
   "cols": {
    "lenName": 16,
    "lenType": 16,
    "lenVar": 40
   },
   "kernels_config": {
    "python": {
     "delete_cmd_postfix": "",
     "delete_cmd_prefix": "del ",
     "library": "var_list.py",
     "varRefreshCmd": "print(var_dic_list())"
    },
    "r": {
     "delete_cmd_postfix": ") ",
     "delete_cmd_prefix": "rm(",
     "library": "var_list.r",
     "varRefreshCmd": "cat(var_dic_list()) "
    }
   },
   "types_to_exclude": [
    "module",
    "function",
    "builtin_function_or_method",
    "instance",
    "_Feature"
   ],
   "window_display": false
  }
 },
 "nbformat": 4,
 "nbformat_minor": 2
}
