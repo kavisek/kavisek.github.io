{
 "cells": [
  {
   "cell_type": "markdown",
   "metadata": {},
   "source": [
    "# Styling a DataFrame\n",
    "\n",
    "<span>Styling a data frame is pleasant a surprising amount of times. You can define a coloring function for your data frame then apply the styling whenever you call the data frame at the end of the cell. Note that you cannot save styling to a data frame but only apply it when rending the data frame.</span>\n",
    "\n",
    "### Import Preliminaries"
   ]
  },
  {
   "cell_type": "code",
   "execution_count": 20,
   "metadata": {
    "ExecuteTime": {
     "end_time": "2018-09-11T01:56:36.601888Z",
     "start_time": "2018-09-11T01:56:36.596983Z"
    }
   },
   "outputs": [],
   "source": [
    "# Import modules\n",
    "import pandas as pd\n",
    "import numpy as np\n",
    "import warnings\n",
    "\n",
    "# Set warning options\n",
    "warnings.filterwarnings('ignore');\n",
    "\n",
    "# Import dataframe\n",
    "df = pd.DataFrame( data={'feature_1': np.random.randn(5),\n",
    "                      'feature_2': np.random.random(5)})\n",
    "\n",
    "# Define color schema in a function\n",
    "def color_dataframe(value):\n",
    "    \"\"\"\n",
    "    Color each cell in a datafarme using val in each cell/values of \n",
    "    the dataframe. Highlight every value above 0 with green, everything below\n",
    "    will become red.\n",
    "    \n",
    "    Parameter\n",
    "    ---------\n",
    "    value (int): a value in the dataframe\n",
    "    \n",
    "    Example\n",
    "    ---------\n",
    "    >>>> df.style.applymap(color_dataframe)\n",
    "    \n",
    "    \"\"\"\n",
    "    if value < 0:\n",
    "      color = 'red' \n",
    "    elif value > 0:\n",
    "      color = 'green' \n",
    "    else:\n",
    "      color =  'black'\n",
    "    return 'color: %s' % color"
   ]
  },
  {
   "cell_type": "code",
   "execution_count": 21,
   "metadata": {
    "ExecuteTime": {
     "end_time": "2018-09-11T01:56:37.017368Z",
     "start_time": "2018-09-11T01:56:37.003984Z"
    }
   },
   "outputs": [
    {
     "data": {
      "text/html": [
       "<style  type=\"text/css\" >\n",
       "    #T_eac863d4_b565_11e8_a39c_7831c1d3f646row0_col0 {\n",
       "            color:  red;\n",
       "        }    #T_eac863d4_b565_11e8_a39c_7831c1d3f646row0_col1 {\n",
       "            color:  green;\n",
       "        }    #T_eac863d4_b565_11e8_a39c_7831c1d3f646row1_col0 {\n",
       "            color:  green;\n",
       "        }    #T_eac863d4_b565_11e8_a39c_7831c1d3f646row1_col1 {\n",
       "            color:  green;\n",
       "        }    #T_eac863d4_b565_11e8_a39c_7831c1d3f646row2_col0 {\n",
       "            color:  red;\n",
       "        }    #T_eac863d4_b565_11e8_a39c_7831c1d3f646row2_col1 {\n",
       "            color:  green;\n",
       "        }    #T_eac863d4_b565_11e8_a39c_7831c1d3f646row3_col0 {\n",
       "            color:  green;\n",
       "        }    #T_eac863d4_b565_11e8_a39c_7831c1d3f646row3_col1 {\n",
       "            color:  green;\n",
       "        }    #T_eac863d4_b565_11e8_a39c_7831c1d3f646row4_col0 {\n",
       "            color:  red;\n",
       "        }    #T_eac863d4_b565_11e8_a39c_7831c1d3f646row4_col1 {\n",
       "            color:  green;\n",
       "        }</style>  \n",
       "<table id=\"T_eac863d4_b565_11e8_a39c_7831c1d3f646\" > \n",
       "<thead>    <tr> \n",
       "        <th class=\"blank level0\" ></th> \n",
       "        <th class=\"col_heading level0 col0\" >feature_1</th> \n",
       "        <th class=\"col_heading level0 col1\" >feature_2</th> \n",
       "    </tr></thead> \n",
       "<tbody>    <tr> \n",
       "        <th id=\"T_eac863d4_b565_11e8_a39c_7831c1d3f646level0_row0\" class=\"row_heading level0 row0\" >0</th> \n",
       "        <td id=\"T_eac863d4_b565_11e8_a39c_7831c1d3f646row0_col0\" class=\"data row0 col0\" >-0.640574</td> \n",
       "        <td id=\"T_eac863d4_b565_11e8_a39c_7831c1d3f646row0_col1\" class=\"data row0 col1\" >0.17712</td> \n",
       "    </tr>    <tr> \n",
       "        <th id=\"T_eac863d4_b565_11e8_a39c_7831c1d3f646level0_row1\" class=\"row_heading level0 row1\" >1</th> \n",
       "        <td id=\"T_eac863d4_b565_11e8_a39c_7831c1d3f646row1_col0\" class=\"data row1 col0\" >1.252</td> \n",
       "        <td id=\"T_eac863d4_b565_11e8_a39c_7831c1d3f646row1_col1\" class=\"data row1 col1\" >0.357912</td> \n",
       "    </tr>    <tr> \n",
       "        <th id=\"T_eac863d4_b565_11e8_a39c_7831c1d3f646level0_row2\" class=\"row_heading level0 row2\" >2</th> \n",
       "        <td id=\"T_eac863d4_b565_11e8_a39c_7831c1d3f646row2_col0\" class=\"data row2 col0\" >-0.127647</td> \n",
       "        <td id=\"T_eac863d4_b565_11e8_a39c_7831c1d3f646row2_col1\" class=\"data row2 col1\" >0.0788225</td> \n",
       "    </tr>    <tr> \n",
       "        <th id=\"T_eac863d4_b565_11e8_a39c_7831c1d3f646level0_row3\" class=\"row_heading level0 row3\" >3</th> \n",
       "        <td id=\"T_eac863d4_b565_11e8_a39c_7831c1d3f646row3_col0\" class=\"data row3 col0\" >0.502563</td> \n",
       "        <td id=\"T_eac863d4_b565_11e8_a39c_7831c1d3f646row3_col1\" class=\"data row3 col1\" >0.373341</td> \n",
       "    </tr>    <tr> \n",
       "        <th id=\"T_eac863d4_b565_11e8_a39c_7831c1d3f646level0_row4\" class=\"row_heading level0 row4\" >4</th> \n",
       "        <td id=\"T_eac863d4_b565_11e8_a39c_7831c1d3f646row4_col0\" class=\"data row4 col0\" >-1.06581</td> \n",
       "        <td id=\"T_eac863d4_b565_11e8_a39c_7831c1d3f646row4_col1\" class=\"data row4 col1\" >0.217073</td> \n",
       "    </tr></tbody> \n",
       "</table> "
      ],
      "text/plain": [
       "<pandas.io.formats.style.Styler at 0x11885aba8>"
      ]
     },
     "execution_count": 21,
     "metadata": {},
     "output_type": "execute_result"
    }
   ],
   "source": [
    "# Apply dataframe highlighting to the dataframe\n",
    "df.style.applymap(color_dataframe)"
   ]
  },
  {
   "cell_type": "code",
   "execution_count": 22,
   "metadata": {
    "ExecuteTime": {
     "end_time": "2018-09-11T01:56:37.240899Z",
     "start_time": "2018-09-11T01:56:37.237566Z"
    }
   },
   "outputs": [],
   "source": [
    "# Create a max highlight function\n",
    "def highlight_max(s):\n",
    "    \"\"\"\n",
    "    Color each cell in a datafarme using val in each cell/values of \n",
    "    the dataframe. Highlight the maxmum value in each feature as a yellow\n",
    "    \n",
    "    Parameter\n",
    "    ---------\n",
    "    value (int): a value in the dataframe\n",
    "    \n",
    "    Example\n",
    "    ---------\n",
    "    >>>> df.style.applymap(color_dataframe)\n",
    "    \n",
    "    \"\"\"\n",
    "    is_max = s == s.max()\n",
    "    return ['background-color: yellow' if v else '' for v in is_max]"
   ]
  },
  {
   "cell_type": "code",
   "execution_count": 23,
   "metadata": {
    "ExecuteTime": {
     "end_time": "2018-09-11T01:56:37.502245Z",
     "start_time": "2018-09-11T01:56:37.489369Z"
    }
   },
   "outputs": [
    {
     "data": {
      "text/html": [
       "<style  type=\"text/css\" >\n",
       "    #T_eb129148_b565_11e8_9667_7831c1d3f646row1_col0 {\n",
       "            background-color:  yellow;\n",
       "        }    #T_eb129148_b565_11e8_9667_7831c1d3f646row3_col1 {\n",
       "            background-color:  yellow;\n",
       "        }</style>  \n",
       "<table id=\"T_eb129148_b565_11e8_9667_7831c1d3f646\" > \n",
       "<thead>    <tr> \n",
       "        <th class=\"blank level0\" ></th> \n",
       "        <th class=\"col_heading level0 col0\" >feature_1</th> \n",
       "        <th class=\"col_heading level0 col1\" >feature_2</th> \n",
       "    </tr></thead> \n",
       "<tbody>    <tr> \n",
       "        <th id=\"T_eb129148_b565_11e8_9667_7831c1d3f646level0_row0\" class=\"row_heading level0 row0\" >0</th> \n",
       "        <td id=\"T_eb129148_b565_11e8_9667_7831c1d3f646row0_col0\" class=\"data row0 col0\" >-0.640574</td> \n",
       "        <td id=\"T_eb129148_b565_11e8_9667_7831c1d3f646row0_col1\" class=\"data row0 col1\" >0.17712</td> \n",
       "    </tr>    <tr> \n",
       "        <th id=\"T_eb129148_b565_11e8_9667_7831c1d3f646level0_row1\" class=\"row_heading level0 row1\" >1</th> \n",
       "        <td id=\"T_eb129148_b565_11e8_9667_7831c1d3f646row1_col0\" class=\"data row1 col0\" >1.252</td> \n",
       "        <td id=\"T_eb129148_b565_11e8_9667_7831c1d3f646row1_col1\" class=\"data row1 col1\" >0.357912</td> \n",
       "    </tr>    <tr> \n",
       "        <th id=\"T_eb129148_b565_11e8_9667_7831c1d3f646level0_row2\" class=\"row_heading level0 row2\" >2</th> \n",
       "        <td id=\"T_eb129148_b565_11e8_9667_7831c1d3f646row2_col0\" class=\"data row2 col0\" >-0.127647</td> \n",
       "        <td id=\"T_eb129148_b565_11e8_9667_7831c1d3f646row2_col1\" class=\"data row2 col1\" >0.0788225</td> \n",
       "    </tr>    <tr> \n",
       "        <th id=\"T_eb129148_b565_11e8_9667_7831c1d3f646level0_row3\" class=\"row_heading level0 row3\" >3</th> \n",
       "        <td id=\"T_eb129148_b565_11e8_9667_7831c1d3f646row3_col0\" class=\"data row3 col0\" >0.502563</td> \n",
       "        <td id=\"T_eb129148_b565_11e8_9667_7831c1d3f646row3_col1\" class=\"data row3 col1\" >0.373341</td> \n",
       "    </tr>    <tr> \n",
       "        <th id=\"T_eb129148_b565_11e8_9667_7831c1d3f646level0_row4\" class=\"row_heading level0 row4\" >4</th> \n",
       "        <td id=\"T_eb129148_b565_11e8_9667_7831c1d3f646row4_col0\" class=\"data row4 col0\" >-1.06581</td> \n",
       "        <td id=\"T_eb129148_b565_11e8_9667_7831c1d3f646row4_col1\" class=\"data row4 col1\" >0.217073</td> \n",
       "    </tr></tbody> \n",
       "</table> "
      ],
      "text/plain": [
       "<pandas.io.formats.style.Styler at 0x11885aa58>"
      ]
     },
     "execution_count": 23,
     "metadata": {},
     "output_type": "execute_result"
    }
   ],
   "source": [
    "# Apply max highlighting to the dataframe\n",
    "df.style.apply(highlight_max)"
   ]
  },
  {
   "cell_type": "markdown",
   "metadata": {
    "collapsed": true
   },
   "source": [
    "### Highlighting a Subset"
   ]
  },
  {
   "cell_type": "code",
   "execution_count": 24,
   "metadata": {
    "ExecuteTime": {
     "end_time": "2018-09-11T01:56:38.023085Z",
     "start_time": "2018-09-11T01:56:38.012574Z"
    }
   },
   "outputs": [
    {
     "data": {
      "text/html": [
       "<style  type=\"text/css\" >\n",
       "    #T_eb6212e2_b565_11e8_af1b_7831c1d3f646row1_col0 {\n",
       "            background-color:  yellow;\n",
       "        }</style>  \n",
       "<table id=\"T_eb6212e2_b565_11e8_af1b_7831c1d3f646\" > \n",
       "<thead>    <tr> \n",
       "        <th class=\"blank level0\" ></th> \n",
       "        <th class=\"col_heading level0 col0\" >feature_1</th> \n",
       "        <th class=\"col_heading level0 col1\" >feature_2</th> \n",
       "    </tr></thead> \n",
       "<tbody>    <tr> \n",
       "        <th id=\"T_eb6212e2_b565_11e8_af1b_7831c1d3f646level0_row0\" class=\"row_heading level0 row0\" >0</th> \n",
       "        <td id=\"T_eb6212e2_b565_11e8_af1b_7831c1d3f646row0_col0\" class=\"data row0 col0\" >-0.640574</td> \n",
       "        <td id=\"T_eb6212e2_b565_11e8_af1b_7831c1d3f646row0_col1\" class=\"data row0 col1\" >0.17712</td> \n",
       "    </tr>    <tr> \n",
       "        <th id=\"T_eb6212e2_b565_11e8_af1b_7831c1d3f646level0_row1\" class=\"row_heading level0 row1\" >1</th> \n",
       "        <td id=\"T_eb6212e2_b565_11e8_af1b_7831c1d3f646row1_col0\" class=\"data row1 col0\" >1.252</td> \n",
       "        <td id=\"T_eb6212e2_b565_11e8_af1b_7831c1d3f646row1_col1\" class=\"data row1 col1\" >0.357912</td> \n",
       "    </tr>    <tr> \n",
       "        <th id=\"T_eb6212e2_b565_11e8_af1b_7831c1d3f646level0_row2\" class=\"row_heading level0 row2\" >2</th> \n",
       "        <td id=\"T_eb6212e2_b565_11e8_af1b_7831c1d3f646row2_col0\" class=\"data row2 col0\" >-0.127647</td> \n",
       "        <td id=\"T_eb6212e2_b565_11e8_af1b_7831c1d3f646row2_col1\" class=\"data row2 col1\" >0.0788225</td> \n",
       "    </tr>    <tr> \n",
       "        <th id=\"T_eb6212e2_b565_11e8_af1b_7831c1d3f646level0_row3\" class=\"row_heading level0 row3\" >3</th> \n",
       "        <td id=\"T_eb6212e2_b565_11e8_af1b_7831c1d3f646row3_col0\" class=\"data row3 col0\" >0.502563</td> \n",
       "        <td id=\"T_eb6212e2_b565_11e8_af1b_7831c1d3f646row3_col1\" class=\"data row3 col1\" >0.373341</td> \n",
       "    </tr>    <tr> \n",
       "        <th id=\"T_eb6212e2_b565_11e8_af1b_7831c1d3f646level0_row4\" class=\"row_heading level0 row4\" >4</th> \n",
       "        <td id=\"T_eb6212e2_b565_11e8_af1b_7831c1d3f646row4_col0\" class=\"data row4 col0\" >-1.06581</td> \n",
       "        <td id=\"T_eb6212e2_b565_11e8_af1b_7831c1d3f646row4_col1\" class=\"data row4 col1\" >0.217073</td> \n",
       "    </tr></tbody> \n",
       "</table> "
      ],
      "text/plain": [
       "<pandas.io.formats.style.Styler at 0x11885aa90>"
      ]
     },
     "execution_count": 24,
     "metadata": {},
     "output_type": "execute_result"
    }
   ],
   "source": [
    "# Applying styling only to a subset of feature in the dataframe\n",
    "df.style.apply(highlight_max, subset=['feature_1'])"
   ]
  },
  {
   "cell_type": "code",
   "execution_count": 25,
   "metadata": {
    "ExecuteTime": {
     "end_time": "2018-09-11T01:56:38.303165Z",
     "start_time": "2018-09-11T01:56:38.290867Z"
    }
   },
   "outputs": [
    {
     "data": {
      "text/html": [
       "<style  type=\"text/css\" >\n",
       "    #T_eb8cd1a6_b565_11e8_a063_7831c1d3f646row1_col0 {\n",
       "            background-color:  yellow;\n",
       "        }    #T_eb8cd1a6_b565_11e8_a063_7831c1d3f646row1_col1 {\n",
       "            background-color:  yellow;\n",
       "        }</style>  \n",
       "<table id=\"T_eb8cd1a6_b565_11e8_a063_7831c1d3f646\" > \n",
       "<thead>    <tr> \n",
       "        <th class=\"blank level0\" ></th> \n",
       "        <th class=\"col_heading level0 col0\" >feature_1</th> \n",
       "        <th class=\"col_heading level0 col1\" >feature_2</th> \n",
       "    </tr></thead> \n",
       "<tbody>    <tr> \n",
       "        <th id=\"T_eb8cd1a6_b565_11e8_a063_7831c1d3f646level0_row0\" class=\"row_heading level0 row0\" >0</th> \n",
       "        <td id=\"T_eb8cd1a6_b565_11e8_a063_7831c1d3f646row0_col0\" class=\"data row0 col0\" >-0.640574</td> \n",
       "        <td id=\"T_eb8cd1a6_b565_11e8_a063_7831c1d3f646row0_col1\" class=\"data row0 col1\" >0.17712</td> \n",
       "    </tr>    <tr> \n",
       "        <th id=\"T_eb8cd1a6_b565_11e8_a063_7831c1d3f646level0_row1\" class=\"row_heading level0 row1\" >1</th> \n",
       "        <td id=\"T_eb8cd1a6_b565_11e8_a063_7831c1d3f646row1_col0\" class=\"data row1 col0\" >1.252</td> \n",
       "        <td id=\"T_eb8cd1a6_b565_11e8_a063_7831c1d3f646row1_col1\" class=\"data row1 col1\" >0.357912</td> \n",
       "    </tr>    <tr> \n",
       "        <th id=\"T_eb8cd1a6_b565_11e8_a063_7831c1d3f646level0_row2\" class=\"row_heading level0 row2\" >2</th> \n",
       "        <td id=\"T_eb8cd1a6_b565_11e8_a063_7831c1d3f646row2_col0\" class=\"data row2 col0\" >-0.127647</td> \n",
       "        <td id=\"T_eb8cd1a6_b565_11e8_a063_7831c1d3f646row2_col1\" class=\"data row2 col1\" >0.0788225</td> \n",
       "    </tr>    <tr> \n",
       "        <th id=\"T_eb8cd1a6_b565_11e8_a063_7831c1d3f646level0_row3\" class=\"row_heading level0 row3\" >3</th> \n",
       "        <td id=\"T_eb8cd1a6_b565_11e8_a063_7831c1d3f646row3_col0\" class=\"data row3 col0\" >0.502563</td> \n",
       "        <td id=\"T_eb8cd1a6_b565_11e8_a063_7831c1d3f646row3_col1\" class=\"data row3 col1\" >0.373341</td> \n",
       "    </tr>    <tr> \n",
       "        <th id=\"T_eb8cd1a6_b565_11e8_a063_7831c1d3f646level0_row4\" class=\"row_heading level0 row4\" >4</th> \n",
       "        <td id=\"T_eb8cd1a6_b565_11e8_a063_7831c1d3f646row4_col0\" class=\"data row4 col0\" >-1.06581</td> \n",
       "        <td id=\"T_eb8cd1a6_b565_11e8_a063_7831c1d3f646row4_col1\" class=\"data row4 col1\" >0.217073</td> \n",
       "    </tr></tbody> \n",
       "</table> "
      ],
      "text/plain": [
       "<pandas.io.formats.style.Styler at 0x118809908>"
      ]
     },
     "execution_count": 25,
     "metadata": {},
     "output_type": "execute_result"
    }
   ],
   "source": [
    "# Applying styling only to the first 2 records in the dataframe\n",
    "df.style.apply(highlight_max, subset=pd.IndexSlice[0:2, ['feature_1','feature_2']])"
   ]
  },
  {
   "cell_type": "markdown",
   "metadata": {
    "collapsed": true
   },
   "source": [
    "### Formating Numeric Values"
   ]
  },
  {
   "cell_type": "code",
   "execution_count": 26,
   "metadata": {
    "ExecuteTime": {
     "end_time": "2018-09-11T01:56:38.986858Z",
     "start_time": "2018-09-11T01:56:38.981695Z"
    }
   },
   "outputs": [
    {
     "data": {
      "text/html": [
       "<style  type=\"text/css\" >\n",
       "</style>  \n",
       "<table id=\"T_ebf515e2_b565_11e8_bb82_7831c1d3f646\" > \n",
       "<thead>    <tr> \n",
       "        <th class=\"blank level0\" ></th> \n",
       "        <th class=\"col_heading level0 col0\" >feature_1</th> \n",
       "        <th class=\"col_heading level0 col1\" >feature_2</th> \n",
       "    </tr></thead> \n",
       "<tbody>    <tr> \n",
       "        <th id=\"T_ebf515e2_b565_11e8_bb82_7831c1d3f646level0_row0\" class=\"row_heading level0 row0\" >0</th> \n",
       "        <td id=\"T_ebf515e2_b565_11e8_bb82_7831c1d3f646row0_col0\" class=\"data row0 col0\" >-64.06%</td> \n",
       "        <td id=\"T_ebf515e2_b565_11e8_bb82_7831c1d3f646row0_col1\" class=\"data row0 col1\" >17.71%</td> \n",
       "    </tr>    <tr> \n",
       "        <th id=\"T_ebf515e2_b565_11e8_bb82_7831c1d3f646level0_row1\" class=\"row_heading level0 row1\" >1</th> \n",
       "        <td id=\"T_ebf515e2_b565_11e8_bb82_7831c1d3f646row1_col0\" class=\"data row1 col0\" >125.20%</td> \n",
       "        <td id=\"T_ebf515e2_b565_11e8_bb82_7831c1d3f646row1_col1\" class=\"data row1 col1\" >35.79%</td> \n",
       "    </tr>    <tr> \n",
       "        <th id=\"T_ebf515e2_b565_11e8_bb82_7831c1d3f646level0_row2\" class=\"row_heading level0 row2\" >2</th> \n",
       "        <td id=\"T_ebf515e2_b565_11e8_bb82_7831c1d3f646row2_col0\" class=\"data row2 col0\" >-12.76%</td> \n",
       "        <td id=\"T_ebf515e2_b565_11e8_bb82_7831c1d3f646row2_col1\" class=\"data row2 col1\" >7.88%</td> \n",
       "    </tr>    <tr> \n",
       "        <th id=\"T_ebf515e2_b565_11e8_bb82_7831c1d3f646level0_row3\" class=\"row_heading level0 row3\" >3</th> \n",
       "        <td id=\"T_ebf515e2_b565_11e8_bb82_7831c1d3f646row3_col0\" class=\"data row3 col0\" >50.26%</td> \n",
       "        <td id=\"T_ebf515e2_b565_11e8_bb82_7831c1d3f646row3_col1\" class=\"data row3 col1\" >37.33%</td> \n",
       "    </tr>    <tr> \n",
       "        <th id=\"T_ebf515e2_b565_11e8_bb82_7831c1d3f646level0_row4\" class=\"row_heading level0 row4\" >4</th> \n",
       "        <td id=\"T_ebf515e2_b565_11e8_bb82_7831c1d3f646row4_col0\" class=\"data row4 col0\" >-106.58%</td> \n",
       "        <td id=\"T_ebf515e2_b565_11e8_bb82_7831c1d3f646row4_col1\" class=\"data row4 col1\" >21.71%</td> \n",
       "    </tr></tbody> \n",
       "</table> "
      ],
      "text/plain": [
       "<pandas.io.formats.style.Styler at 0x11885a208>"
      ]
     },
     "execution_count": 26,
     "metadata": {},
     "output_type": "execute_result"
    }
   ],
   "source": [
    "# Formating the numerical valusein the dataframe using the format method\n",
    "df.style.format(\"{:.2%}\")"
   ]
  },
  {
   "cell_type": "code",
   "execution_count": 27,
   "metadata": {
    "ExecuteTime": {
     "end_time": "2018-09-11T01:56:39.299105Z",
     "start_time": "2018-09-11T01:56:39.292218Z"
    }
   },
   "outputs": [
    {
     "data": {
      "text/html": [
       "<style  type=\"text/css\" >\n",
       "</style>  \n",
       "<table id=\"T_ec2495e8_b565_11e8_bad4_7831c1d3f646\" > \n",
       "<thead>    <tr> \n",
       "        <th class=\"blank level0\" ></th> \n",
       "        <th class=\"col_heading level0 col0\" >feature_1</th> \n",
       "        <th class=\"col_heading level0 col1\" >feature_2</th> \n",
       "    </tr></thead> \n",
       "<tbody>    <tr> \n",
       "        <th id=\"T_ec2495e8_b565_11e8_bad4_7831c1d3f646level0_row0\" class=\"row_heading level0 row0\" >0</th> \n",
       "        <td id=\"T_ec2495e8_b565_11e8_bad4_7831c1d3f646row0_col0\" class=\"data row0 col0\" >-100</td> \n",
       "        <td id=\"T_ec2495e8_b565_11e8_bad4_7831c1d3f646row0_col1\" class=\"data row0 col1\" >+0.18</td> \n",
       "    </tr>    <tr> \n",
       "        <th id=\"T_ec2495e8_b565_11e8_bad4_7831c1d3f646level0_row1\" class=\"row_heading level0 row1\" >1</th> \n",
       "        <td id=\"T_ec2495e8_b565_11e8_bad4_7831c1d3f646row1_col0\" class=\"data row1 col0\" >1000</td> \n",
       "        <td id=\"T_ec2495e8_b565_11e8_bad4_7831c1d3f646row1_col1\" class=\"data row1 col1\" >+0.36</td> \n",
       "    </tr>    <tr> \n",
       "        <th id=\"T_ec2495e8_b565_11e8_bad4_7831c1d3f646level0_row2\" class=\"row_heading level0 row2\" >2</th> \n",
       "        <td id=\"T_ec2495e8_b565_11e8_bad4_7831c1d3f646row2_col0\" class=\"data row2 col0\" >-000</td> \n",
       "        <td id=\"T_ec2495e8_b565_11e8_bad4_7831c1d3f646row2_col1\" class=\"data row2 col1\" >+0.08</td> \n",
       "    </tr>    <tr> \n",
       "        <th id=\"T_ec2495e8_b565_11e8_bad4_7831c1d3f646level0_row3\" class=\"row_heading level0 row3\" >3</th> \n",
       "        <td id=\"T_ec2495e8_b565_11e8_bad4_7831c1d3f646row3_col0\" class=\"data row3 col0\" >1000</td> \n",
       "        <td id=\"T_ec2495e8_b565_11e8_bad4_7831c1d3f646row3_col1\" class=\"data row3 col1\" >+0.37</td> \n",
       "    </tr>    <tr> \n",
       "        <th id=\"T_ec2495e8_b565_11e8_bad4_7831c1d3f646level0_row4\" class=\"row_heading level0 row4\" >4</th> \n",
       "        <td id=\"T_ec2495e8_b565_11e8_bad4_7831c1d3f646row4_col0\" class=\"data row4 col0\" >-100</td> \n",
       "        <td id=\"T_ec2495e8_b565_11e8_bad4_7831c1d3f646row4_col1\" class=\"data row4 col1\" >+0.22</td> \n",
       "    </tr></tbody> \n",
       "</table> "
      ],
      "text/plain": [
       "<pandas.io.formats.style.Styler at 0x118809f28>"
      ]
     },
     "execution_count": 27,
     "metadata": {},
     "output_type": "execute_result"
    }
   ],
   "source": [
    "# You can apply feature specific formatting as well \n",
    "df.style.format({'feature_1': \"{:0<4.0f}\", 'feature_2': '{:+.2f}'})"
   ]
  },
  {
   "cell_type": "code",
   "execution_count": 28,
   "metadata": {
    "ExecuteTime": {
     "end_time": "2018-09-11T01:56:39.610552Z",
     "start_time": "2018-09-11T01:56:39.605151Z"
    }
   },
   "outputs": [
    {
     "data": {
      "text/html": [
       "<style  type=\"text/css\" >\n",
       "</style>  \n",
       "<table id=\"T_ec544600_b565_11e8_bcea_7831c1d3f646\" > \n",
       "<thead>    <tr> \n",
       "        <th class=\"blank level0\" ></th> \n",
       "        <th class=\"col_heading level0 col0\" >feature_1</th> \n",
       "        <th class=\"col_heading level0 col1\" >feature_2</th> \n",
       "    </tr></thead> \n",
       "<tbody>    <tr> \n",
       "        <th id=\"T_ec544600_b565_11e8_bcea_7831c1d3f646level0_row0\" class=\"row_heading level0 row0\" >0</th> \n",
       "        <td id=\"T_ec544600_b565_11e8_bcea_7831c1d3f646row0_col0\" class=\"data row0 col0\" >±0.64</td> \n",
       "        <td id=\"T_ec544600_b565_11e8_bcea_7831c1d3f646row0_col1\" class=\"data row0 col1\" >0.17712</td> \n",
       "    </tr>    <tr> \n",
       "        <th id=\"T_ec544600_b565_11e8_bcea_7831c1d3f646level0_row1\" class=\"row_heading level0 row1\" >1</th> \n",
       "        <td id=\"T_ec544600_b565_11e8_bcea_7831c1d3f646row1_col0\" class=\"data row1 col0\" >±1.25</td> \n",
       "        <td id=\"T_ec544600_b565_11e8_bcea_7831c1d3f646row1_col1\" class=\"data row1 col1\" >0.357912</td> \n",
       "    </tr>    <tr> \n",
       "        <th id=\"T_ec544600_b565_11e8_bcea_7831c1d3f646level0_row2\" class=\"row_heading level0 row2\" >2</th> \n",
       "        <td id=\"T_ec544600_b565_11e8_bcea_7831c1d3f646row2_col0\" class=\"data row2 col0\" >±0.13</td> \n",
       "        <td id=\"T_ec544600_b565_11e8_bcea_7831c1d3f646row2_col1\" class=\"data row2 col1\" >0.0788225</td> \n",
       "    </tr>    <tr> \n",
       "        <th id=\"T_ec544600_b565_11e8_bcea_7831c1d3f646level0_row3\" class=\"row_heading level0 row3\" >3</th> \n",
       "        <td id=\"T_ec544600_b565_11e8_bcea_7831c1d3f646row3_col0\" class=\"data row3 col0\" >±0.50</td> \n",
       "        <td id=\"T_ec544600_b565_11e8_bcea_7831c1d3f646row3_col1\" class=\"data row3 col1\" >0.373341</td> \n",
       "    </tr>    <tr> \n",
       "        <th id=\"T_ec544600_b565_11e8_bcea_7831c1d3f646level0_row4\" class=\"row_heading level0 row4\" >4</th> \n",
       "        <td id=\"T_ec544600_b565_11e8_bcea_7831c1d3f646row4_col0\" class=\"data row4 col0\" >±1.07</td> \n",
       "        <td id=\"T_ec544600_b565_11e8_bcea_7831c1d3f646row4_col1\" class=\"data row4 col1\" >0.217073</td> \n",
       "    </tr></tbody> \n",
       "</table> "
      ],
      "text/plain": [
       "<pandas.io.formats.style.Styler at 0x11885a7f0>"
      ]
     },
     "execution_count": 28,
     "metadata": {},
     "output_type": "execute_result"
    }
   ],
   "source": [
    "# You can also use a lambda function within your format method\n",
    "df.style.format({\"feature_1\": lambda x: \"±{:.2f}\".format(abs(x))})"
   ]
  },
  {
   "cell_type": "markdown",
   "metadata": {},
   "source": [
    "### Built in Styles"
   ]
  },
  {
   "cell_type": "code",
   "execution_count": 29,
   "metadata": {
    "ExecuteTime": {
     "end_time": "2018-09-11T01:56:40.296877Z",
     "start_time": "2018-09-11T01:56:40.284618Z"
    }
   },
   "outputs": [
    {
     "data": {
      "text/html": [
       "<style  type=\"text/css\" >\n",
       "    #T_ecbcf68c_b565_11e8_95d9_7831c1d3f646row1_col0 {\n",
       "            background-color:  red;\n",
       "        }    #T_ecbcf68c_b565_11e8_95d9_7831c1d3f646row3_col1 {\n",
       "            background-color:  red;\n",
       "        }</style>  \n",
       "<table id=\"T_ecbcf68c_b565_11e8_95d9_7831c1d3f646\" > \n",
       "<thead>    <tr> \n",
       "        <th class=\"blank level0\" ></th> \n",
       "        <th class=\"col_heading level0 col0\" >feature_1</th> \n",
       "        <th class=\"col_heading level0 col1\" >feature_2</th> \n",
       "    </tr></thead> \n",
       "<tbody>    <tr> \n",
       "        <th id=\"T_ecbcf68c_b565_11e8_95d9_7831c1d3f646level0_row0\" class=\"row_heading level0 row0\" >0</th> \n",
       "        <td id=\"T_ecbcf68c_b565_11e8_95d9_7831c1d3f646row0_col0\" class=\"data row0 col0\" >-0.640574</td> \n",
       "        <td id=\"T_ecbcf68c_b565_11e8_95d9_7831c1d3f646row0_col1\" class=\"data row0 col1\" >0.17712</td> \n",
       "    </tr>    <tr> \n",
       "        <th id=\"T_ecbcf68c_b565_11e8_95d9_7831c1d3f646level0_row1\" class=\"row_heading level0 row1\" >1</th> \n",
       "        <td id=\"T_ecbcf68c_b565_11e8_95d9_7831c1d3f646row1_col0\" class=\"data row1 col0\" >nan</td> \n",
       "        <td id=\"T_ecbcf68c_b565_11e8_95d9_7831c1d3f646row1_col1\" class=\"data row1 col1\" >0.357912</td> \n",
       "    </tr>    <tr> \n",
       "        <th id=\"T_ecbcf68c_b565_11e8_95d9_7831c1d3f646level0_row2\" class=\"row_heading level0 row2\" >2</th> \n",
       "        <td id=\"T_ecbcf68c_b565_11e8_95d9_7831c1d3f646row2_col0\" class=\"data row2 col0\" >-0.127647</td> \n",
       "        <td id=\"T_ecbcf68c_b565_11e8_95d9_7831c1d3f646row2_col1\" class=\"data row2 col1\" >0.0788225</td> \n",
       "    </tr>    <tr> \n",
       "        <th id=\"T_ecbcf68c_b565_11e8_95d9_7831c1d3f646level0_row3\" class=\"row_heading level0 row3\" >3</th> \n",
       "        <td id=\"T_ecbcf68c_b565_11e8_95d9_7831c1d3f646row3_col0\" class=\"data row3 col0\" >0.502563</td> \n",
       "        <td id=\"T_ecbcf68c_b565_11e8_95d9_7831c1d3f646row3_col1\" class=\"data row3 col1\" >nan</td> \n",
       "    </tr>    <tr> \n",
       "        <th id=\"T_ecbcf68c_b565_11e8_95d9_7831c1d3f646level0_row4\" class=\"row_heading level0 row4\" >4</th> \n",
       "        <td id=\"T_ecbcf68c_b565_11e8_95d9_7831c1d3f646row4_col0\" class=\"data row4 col0\" >-1.06581</td> \n",
       "        <td id=\"T_ecbcf68c_b565_11e8_95d9_7831c1d3f646row4_col1\" class=\"data row4 col1\" >0.217073</td> \n",
       "    </tr></tbody> \n",
       "</table> "
      ],
      "text/plain": [
       "<pandas.io.formats.style.Styler at 0x11885a4e0>"
      ]
     },
     "execution_count": 29,
     "metadata": {},
     "output_type": "execute_result"
    }
   ],
   "source": [
    "# Create some null values in our dataframe\n",
    "df.loc[1,'feature_1'] = np.nan\n",
    "df.loc[3,'feature_2'] = np.nan\n",
    "\n",
    "# There are some pre build styles in in Pandas\n",
    "df.style.highlight_null(null_color='red')"
   ]
  },
  {
   "cell_type": "markdown",
   "metadata": {},
   "source": [
    "### Seaborn Color Styles"
   ]
  },
  {
   "cell_type": "code",
   "execution_count": 30,
   "metadata": {
    "ExecuteTime": {
     "end_time": "2018-09-11T01:56:40.997024Z",
     "start_time": "2018-09-11T01:56:40.981009Z"
    }
   },
   "outputs": [
    {
     "data": {
      "text/html": [
       "<style  type=\"text/css\" >\n",
       "    #T_ed27df24_b565_11e8_a88e_7831c1d3f646row0_col0 {\n",
       "            background-color:  #a7dda7;\n",
       "        }    #T_ed27df24_b565_11e8_a88e_7831c1d3f646row0_col1 {\n",
       "            background-color:  #94d294;\n",
       "        }    #T_ed27df24_b565_11e8_a88e_7831c1d3f646row1_col0 {\n",
       "            background-color:  #e5ffe5;\n",
       "        }    #T_ed27df24_b565_11e8_a88e_7831c1d3f646row1_col1 {\n",
       "            background-color:  #008000;\n",
       "        }    #T_ed27df24_b565_11e8_a88e_7831c1d3f646row2_col0 {\n",
       "            background-color:  #5cb35c;\n",
       "        }    #T_ed27df24_b565_11e8_a88e_7831c1d3f646row2_col1 {\n",
       "            background-color:  #e5ffe5;\n",
       "        }    #T_ed27df24_b565_11e8_a88e_7831c1d3f646row3_col0 {\n",
       "            background-color:  #008000;\n",
       "        }    #T_ed27df24_b565_11e8_a88e_7831c1d3f646row3_col1 {\n",
       "            background-color:  #e5ffe5;\n",
       "        }    #T_ed27df24_b565_11e8_a88e_7831c1d3f646row4_col0 {\n",
       "            background-color:  #e5ffe5;\n",
       "        }    #T_ed27df24_b565_11e8_a88e_7831c1d3f646row4_col1 {\n",
       "            background-color:  #74c074;\n",
       "        }</style>  \n",
       "<table id=\"T_ed27df24_b565_11e8_a88e_7831c1d3f646\" > \n",
       "<thead>    <tr> \n",
       "        <th class=\"blank level0\" ></th> \n",
       "        <th class=\"col_heading level0 col0\" >feature_1</th> \n",
       "        <th class=\"col_heading level0 col1\" >feature_2</th> \n",
       "    </tr></thead> \n",
       "<tbody>    <tr> \n",
       "        <th id=\"T_ed27df24_b565_11e8_a88e_7831c1d3f646level0_row0\" class=\"row_heading level0 row0\" >0</th> \n",
       "        <td id=\"T_ed27df24_b565_11e8_a88e_7831c1d3f646row0_col0\" class=\"data row0 col0\" >-0.640574</td> \n",
       "        <td id=\"T_ed27df24_b565_11e8_a88e_7831c1d3f646row0_col1\" class=\"data row0 col1\" >0.17712</td> \n",
       "    </tr>    <tr> \n",
       "        <th id=\"T_ed27df24_b565_11e8_a88e_7831c1d3f646level0_row1\" class=\"row_heading level0 row1\" >1</th> \n",
       "        <td id=\"T_ed27df24_b565_11e8_a88e_7831c1d3f646row1_col0\" class=\"data row1 col0\" >nan</td> \n",
       "        <td id=\"T_ed27df24_b565_11e8_a88e_7831c1d3f646row1_col1\" class=\"data row1 col1\" >0.357912</td> \n",
       "    </tr>    <tr> \n",
       "        <th id=\"T_ed27df24_b565_11e8_a88e_7831c1d3f646level0_row2\" class=\"row_heading level0 row2\" >2</th> \n",
       "        <td id=\"T_ed27df24_b565_11e8_a88e_7831c1d3f646row2_col0\" class=\"data row2 col0\" >-0.127647</td> \n",
       "        <td id=\"T_ed27df24_b565_11e8_a88e_7831c1d3f646row2_col1\" class=\"data row2 col1\" >0.0788225</td> \n",
       "    </tr>    <tr> \n",
       "        <th id=\"T_ed27df24_b565_11e8_a88e_7831c1d3f646level0_row3\" class=\"row_heading level0 row3\" >3</th> \n",
       "        <td id=\"T_ed27df24_b565_11e8_a88e_7831c1d3f646row3_col0\" class=\"data row3 col0\" >0.502563</td> \n",
       "        <td id=\"T_ed27df24_b565_11e8_a88e_7831c1d3f646row3_col1\" class=\"data row3 col1\" >nan</td> \n",
       "    </tr>    <tr> \n",
       "        <th id=\"T_ed27df24_b565_11e8_a88e_7831c1d3f646level0_row4\" class=\"row_heading level0 row4\" >4</th> \n",
       "        <td id=\"T_ed27df24_b565_11e8_a88e_7831c1d3f646row4_col0\" class=\"data row4 col0\" >-1.06581</td> \n",
       "        <td id=\"T_ed27df24_b565_11e8_a88e_7831c1d3f646row4_col1\" class=\"data row4 col1\" >0.217073</td> \n",
       "    </tr></tbody> \n",
       "</table> "
      ],
      "text/plain": [
       "<pandas.io.formats.style.Styler at 0x11885e278>"
      ]
     },
     "execution_count": 30,
     "metadata": {},
     "output_type": "execute_result"
    }
   ],
   "source": [
    "# Import seaborn\n",
    "import seaborn as sns\n",
    "\n",
    "# Create a color map\n",
    "cm = sns.light_palette(\"green\", as_cmap=True)\n",
    "\n",
    "# Apply the color map to the dataframe\n",
    "sdf = df.style.background_gradient(cmap=cm)\n",
    "sdf"
   ]
  },
  {
   "cell_type": "markdown",
   "metadata": {},
   "source": [
    "### Matplotlib Color Styles"
   ]
  },
  {
   "cell_type": "code",
   "execution_count": 31,
   "metadata": {
    "ExecuteTime": {
     "end_time": "2018-09-11T01:56:41.715371Z",
     "start_time": "2018-09-11T01:56:41.700027Z"
    }
   },
   "outputs": [
    {
     "data": {
      "text/html": [
       "<style  type=\"text/css\" >\n",
       "    #T_ed957806_b565_11e8_a876_7831c1d3f646row0_col0 {\n",
       "            background-color:  #d5d5e9;\n",
       "        }    #T_ed957806_b565_11e8_a876_7831c1d3f646row0_col1 {\n",
       "            background-color:  #c1c2df;\n",
       "        }    #T_ed957806_b565_11e8_a876_7831c1d3f646row1_col0 {\n",
       "            background-color:  #fcfbfd;\n",
       "        }    #T_ed957806_b565_11e8_a876_7831c1d3f646row1_col1 {\n",
       "            background-color:  #3f007d;\n",
       "        }    #T_ed957806_b565_11e8_a876_7831c1d3f646row2_col0 {\n",
       "            background-color:  #8683bd;\n",
       "        }    #T_ed957806_b565_11e8_a876_7831c1d3f646row2_col1 {\n",
       "            background-color:  #fcfbfd;\n",
       "        }    #T_ed957806_b565_11e8_a876_7831c1d3f646row3_col0 {\n",
       "            background-color:  #3f007d;\n",
       "        }    #T_ed957806_b565_11e8_a876_7831c1d3f646row3_col1 {\n",
       "            background-color:  #fcfbfd;\n",
       "        }    #T_ed957806_b565_11e8_a876_7831c1d3f646row4_col0 {\n",
       "            background-color:  #fcfbfd;\n",
       "        }    #T_ed957806_b565_11e8_a876_7831c1d3f646row4_col1 {\n",
       "            background-color:  #9f9cc9;\n",
       "        }</style>  \n",
       "<table id=\"T_ed957806_b565_11e8_a876_7831c1d3f646\" > \n",
       "<thead>    <tr> \n",
       "        <th class=\"blank level0\" ></th> \n",
       "        <th class=\"col_heading level0 col0\" >feature_1</th> \n",
       "        <th class=\"col_heading level0 col1\" >feature_2</th> \n",
       "    </tr></thead> \n",
       "<tbody>    <tr> \n",
       "        <th id=\"T_ed957806_b565_11e8_a876_7831c1d3f646level0_row0\" class=\"row_heading level0 row0\" >0</th> \n",
       "        <td id=\"T_ed957806_b565_11e8_a876_7831c1d3f646row0_col0\" class=\"data row0 col0\" >-0.640574</td> \n",
       "        <td id=\"T_ed957806_b565_11e8_a876_7831c1d3f646row0_col1\" class=\"data row0 col1\" >0.17712</td> \n",
       "    </tr>    <tr> \n",
       "        <th id=\"T_ed957806_b565_11e8_a876_7831c1d3f646level0_row1\" class=\"row_heading level0 row1\" >1</th> \n",
       "        <td id=\"T_ed957806_b565_11e8_a876_7831c1d3f646row1_col0\" class=\"data row1 col0\" >nan</td> \n",
       "        <td id=\"T_ed957806_b565_11e8_a876_7831c1d3f646row1_col1\" class=\"data row1 col1\" >0.357912</td> \n",
       "    </tr>    <tr> \n",
       "        <th id=\"T_ed957806_b565_11e8_a876_7831c1d3f646level0_row2\" class=\"row_heading level0 row2\" >2</th> \n",
       "        <td id=\"T_ed957806_b565_11e8_a876_7831c1d3f646row2_col0\" class=\"data row2 col0\" >-0.127647</td> \n",
       "        <td id=\"T_ed957806_b565_11e8_a876_7831c1d3f646row2_col1\" class=\"data row2 col1\" >0.0788225</td> \n",
       "    </tr>    <tr> \n",
       "        <th id=\"T_ed957806_b565_11e8_a876_7831c1d3f646level0_row3\" class=\"row_heading level0 row3\" >3</th> \n",
       "        <td id=\"T_ed957806_b565_11e8_a876_7831c1d3f646row3_col0\" class=\"data row3 col0\" >0.502563</td> \n",
       "        <td id=\"T_ed957806_b565_11e8_a876_7831c1d3f646row3_col1\" class=\"data row3 col1\" >nan</td> \n",
       "    </tr>    <tr> \n",
       "        <th id=\"T_ed957806_b565_11e8_a876_7831c1d3f646level0_row4\" class=\"row_heading level0 row4\" >4</th> \n",
       "        <td id=\"T_ed957806_b565_11e8_a876_7831c1d3f646row4_col0\" class=\"data row4 col0\" >-1.06581</td> \n",
       "        <td id=\"T_ed957806_b565_11e8_a876_7831c1d3f646row4_col1\" class=\"data row4 col1\" >0.217073</td> \n",
       "    </tr></tbody> \n",
       "</table> "
      ],
      "text/plain": [
       "<pandas.io.formats.style.Styler at 0x118809a90>"
      ]
     },
     "execution_count": 31,
     "metadata": {},
     "output_type": "execute_result"
    }
   ],
   "source": [
    "# Import matplotlib \n",
    "\n",
    "import matplotlib.pyplot as plt\n",
    "# Apply the color map to the dataframe\n",
    "mdf = df.style.background_gradient(cmap=plt.cm.Purples)\n",
    "mdf"
   ]
  },
  {
   "cell_type": "markdown",
   "metadata": {
    "ExecuteTime": {
     "end_time": "2018-07-15T04:36:17.599127Z",
     "start_time": "2018-07-15T00:36:17.576220-04:00"
    }
   },
   "source": [
    "### Min Max Highlights"
   ]
  },
  {
   "cell_type": "code",
   "execution_count": 32,
   "metadata": {
    "ExecuteTime": {
     "end_time": "2018-09-11T01:56:50.878064Z",
     "start_time": "2018-09-11T01:56:50.864208Z"
    }
   },
   "outputs": [
    {
     "data": {
      "text/html": [
       "<style  type=\"text/css\" >\n",
       "    #T_f30ba038_b565_11e8_8f7d_7831c1d3f646row1_col1 {\n",
       "            background-color:  yellow;\n",
       "        }    #T_f30ba038_b565_11e8_8f7d_7831c1d3f646row3_col0 {\n",
       "            background-color:  yellow;\n",
       "        }</style>  \n",
       "<table id=\"T_f30ba038_b565_11e8_8f7d_7831c1d3f646\" > \n",
       "<thead>    <tr> \n",
       "        <th class=\"blank level0\" ></th> \n",
       "        <th class=\"col_heading level0 col0\" >feature_1</th> \n",
       "        <th class=\"col_heading level0 col1\" >feature_2</th> \n",
       "    </tr></thead> \n",
       "<tbody>    <tr> \n",
       "        <th id=\"T_f30ba038_b565_11e8_8f7d_7831c1d3f646level0_row0\" class=\"row_heading level0 row0\" >0</th> \n",
       "        <td id=\"T_f30ba038_b565_11e8_8f7d_7831c1d3f646row0_col0\" class=\"data row0 col0\" >-0.640574</td> \n",
       "        <td id=\"T_f30ba038_b565_11e8_8f7d_7831c1d3f646row0_col1\" class=\"data row0 col1\" >0.17712</td> \n",
       "    </tr>    <tr> \n",
       "        <th id=\"T_f30ba038_b565_11e8_8f7d_7831c1d3f646level0_row1\" class=\"row_heading level0 row1\" >1</th> \n",
       "        <td id=\"T_f30ba038_b565_11e8_8f7d_7831c1d3f646row1_col0\" class=\"data row1 col0\" >nan</td> \n",
       "        <td id=\"T_f30ba038_b565_11e8_8f7d_7831c1d3f646row1_col1\" class=\"data row1 col1\" >0.357912</td> \n",
       "    </tr>    <tr> \n",
       "        <th id=\"T_f30ba038_b565_11e8_8f7d_7831c1d3f646level0_row2\" class=\"row_heading level0 row2\" >2</th> \n",
       "        <td id=\"T_f30ba038_b565_11e8_8f7d_7831c1d3f646row2_col0\" class=\"data row2 col0\" >-0.127647</td> \n",
       "        <td id=\"T_f30ba038_b565_11e8_8f7d_7831c1d3f646row2_col1\" class=\"data row2 col1\" >0.0788225</td> \n",
       "    </tr>    <tr> \n",
       "        <th id=\"T_f30ba038_b565_11e8_8f7d_7831c1d3f646level0_row3\" class=\"row_heading level0 row3\" >3</th> \n",
       "        <td id=\"T_f30ba038_b565_11e8_8f7d_7831c1d3f646row3_col0\" class=\"data row3 col0\" >0.502563</td> \n",
       "        <td id=\"T_f30ba038_b565_11e8_8f7d_7831c1d3f646row3_col1\" class=\"data row3 col1\" >nan</td> \n",
       "    </tr>    <tr> \n",
       "        <th id=\"T_f30ba038_b565_11e8_8f7d_7831c1d3f646level0_row4\" class=\"row_heading level0 row4\" >4</th> \n",
       "        <td id=\"T_f30ba038_b565_11e8_8f7d_7831c1d3f646row4_col0\" class=\"data row4 col0\" >-1.06581</td> \n",
       "        <td id=\"T_f30ba038_b565_11e8_8f7d_7831c1d3f646row4_col1\" class=\"data row4 col1\" >0.217073</td> \n",
       "    </tr></tbody> \n",
       "</table> "
      ],
      "text/plain": [
       "<pandas.io.formats.style.Styler at 0x118809828>"
      ]
     },
     "execution_count": 32,
     "metadata": {},
     "output_type": "execute_result"
    }
   ],
   "source": [
    "# built in max value highligting\n",
    "df.style.highlight_max(axis=0)"
   ]
  },
  {
   "cell_type": "code",
   "execution_count": 33,
   "metadata": {
    "ExecuteTime": {
     "end_time": "2018-09-11T01:56:52.335217Z",
     "start_time": "2018-09-11T01:56:52.320873Z"
    }
   },
   "outputs": [
    {
     "data": {
      "text/html": [
       "<style  type=\"text/css\" >\n",
       "    #T_f3e9ecd0_b565_11e8_927e_7831c1d3f646row2_col1 {\n",
       "            background-color:  yellow;\n",
       "        }    #T_f3e9ecd0_b565_11e8_927e_7831c1d3f646row4_col0 {\n",
       "            background-color:  yellow;\n",
       "        }</style>  \n",
       "<table id=\"T_f3e9ecd0_b565_11e8_927e_7831c1d3f646\" > \n",
       "<thead>    <tr> \n",
       "        <th class=\"blank level0\" ></th> \n",
       "        <th class=\"col_heading level0 col0\" >feature_1</th> \n",
       "        <th class=\"col_heading level0 col1\" >feature_2</th> \n",
       "    </tr></thead> \n",
       "<tbody>    <tr> \n",
       "        <th id=\"T_f3e9ecd0_b565_11e8_927e_7831c1d3f646level0_row0\" class=\"row_heading level0 row0\" >0</th> \n",
       "        <td id=\"T_f3e9ecd0_b565_11e8_927e_7831c1d3f646row0_col0\" class=\"data row0 col0\" >-0.640574</td> \n",
       "        <td id=\"T_f3e9ecd0_b565_11e8_927e_7831c1d3f646row0_col1\" class=\"data row0 col1\" >0.17712</td> \n",
       "    </tr>    <tr> \n",
       "        <th id=\"T_f3e9ecd0_b565_11e8_927e_7831c1d3f646level0_row1\" class=\"row_heading level0 row1\" >1</th> \n",
       "        <td id=\"T_f3e9ecd0_b565_11e8_927e_7831c1d3f646row1_col0\" class=\"data row1 col0\" >nan</td> \n",
       "        <td id=\"T_f3e9ecd0_b565_11e8_927e_7831c1d3f646row1_col1\" class=\"data row1 col1\" >0.357912</td> \n",
       "    </tr>    <tr> \n",
       "        <th id=\"T_f3e9ecd0_b565_11e8_927e_7831c1d3f646level0_row2\" class=\"row_heading level0 row2\" >2</th> \n",
       "        <td id=\"T_f3e9ecd0_b565_11e8_927e_7831c1d3f646row2_col0\" class=\"data row2 col0\" >-0.127647</td> \n",
       "        <td id=\"T_f3e9ecd0_b565_11e8_927e_7831c1d3f646row2_col1\" class=\"data row2 col1\" >0.0788225</td> \n",
       "    </tr>    <tr> \n",
       "        <th id=\"T_f3e9ecd0_b565_11e8_927e_7831c1d3f646level0_row3\" class=\"row_heading level0 row3\" >3</th> \n",
       "        <td id=\"T_f3e9ecd0_b565_11e8_927e_7831c1d3f646row3_col0\" class=\"data row3 col0\" >0.502563</td> \n",
       "        <td id=\"T_f3e9ecd0_b565_11e8_927e_7831c1d3f646row3_col1\" class=\"data row3 col1\" >nan</td> \n",
       "    </tr>    <tr> \n",
       "        <th id=\"T_f3e9ecd0_b565_11e8_927e_7831c1d3f646level0_row4\" class=\"row_heading level0 row4\" >4</th> \n",
       "        <td id=\"T_f3e9ecd0_b565_11e8_927e_7831c1d3f646row4_col0\" class=\"data row4 col0\" >-1.06581</td> \n",
       "        <td id=\"T_f3e9ecd0_b565_11e8_927e_7831c1d3f646row4_col1\" class=\"data row4 col1\" >0.217073</td> \n",
       "    </tr></tbody> \n",
       "</table> "
      ],
      "text/plain": [
       "<pandas.io.formats.style.Styler at 0x1188094e0>"
      ]
     },
     "execution_count": 33,
     "metadata": {},
     "output_type": "execute_result"
    }
   ],
   "source": [
    "# built in min value highligting\n",
    "df.style.highlight_min(axis=0)"
   ]
  },
  {
   "cell_type": "markdown",
   "metadata": {},
   "source": [
    "### Style Set Properties"
   ]
  },
  {
   "cell_type": "code",
   "execution_count": 34,
   "metadata": {
    "ExecuteTime": {
     "end_time": "2018-09-11T01:57:41.572583Z",
     "start_time": "2018-09-11T01:57:41.560305Z"
    }
   },
   "outputs": [
    {
     "data": {
      "text/html": [
       "<style  type=\"text/css\" >\n",
       "    #T_1142d3dc_b566_11e8_aa39_7831c1d3f646row0_col0 {\n",
       "            background-color:  black;\n",
       "            color:  lawngreen;\n",
       "            border-color:  white;\n",
       "        }    #T_1142d3dc_b566_11e8_aa39_7831c1d3f646row0_col1 {\n",
       "            background-color:  black;\n",
       "            color:  lawngreen;\n",
       "            border-color:  white;\n",
       "        }    #T_1142d3dc_b566_11e8_aa39_7831c1d3f646row1_col0 {\n",
       "            background-color:  black;\n",
       "            color:  lawngreen;\n",
       "            border-color:  white;\n",
       "        }    #T_1142d3dc_b566_11e8_aa39_7831c1d3f646row1_col1 {\n",
       "            background-color:  black;\n",
       "            color:  lawngreen;\n",
       "            border-color:  white;\n",
       "        }    #T_1142d3dc_b566_11e8_aa39_7831c1d3f646row2_col0 {\n",
       "            background-color:  black;\n",
       "            color:  lawngreen;\n",
       "            border-color:  white;\n",
       "        }    #T_1142d3dc_b566_11e8_aa39_7831c1d3f646row2_col1 {\n",
       "            background-color:  black;\n",
       "            color:  lawngreen;\n",
       "            border-color:  white;\n",
       "        }    #T_1142d3dc_b566_11e8_aa39_7831c1d3f646row3_col0 {\n",
       "            background-color:  black;\n",
       "            color:  lawngreen;\n",
       "            border-color:  white;\n",
       "        }    #T_1142d3dc_b566_11e8_aa39_7831c1d3f646row3_col1 {\n",
       "            background-color:  black;\n",
       "            color:  lawngreen;\n",
       "            border-color:  white;\n",
       "        }    #T_1142d3dc_b566_11e8_aa39_7831c1d3f646row4_col0 {\n",
       "            background-color:  black;\n",
       "            color:  lawngreen;\n",
       "            border-color:  white;\n",
       "        }    #T_1142d3dc_b566_11e8_aa39_7831c1d3f646row4_col1 {\n",
       "            background-color:  black;\n",
       "            color:  lawngreen;\n",
       "            border-color:  white;\n",
       "        }</style>  \n",
       "<table id=\"T_1142d3dc_b566_11e8_aa39_7831c1d3f646\" > \n",
       "<thead>    <tr> \n",
       "        <th class=\"blank level0\" ></th> \n",
       "        <th class=\"col_heading level0 col0\" >feature_1</th> \n",
       "        <th class=\"col_heading level0 col1\" >feature_2</th> \n",
       "    </tr></thead> \n",
       "<tbody>    <tr> \n",
       "        <th id=\"T_1142d3dc_b566_11e8_aa39_7831c1d3f646level0_row0\" class=\"row_heading level0 row0\" >0</th> \n",
       "        <td id=\"T_1142d3dc_b566_11e8_aa39_7831c1d3f646row0_col0\" class=\"data row0 col0\" >-0.640574</td> \n",
       "        <td id=\"T_1142d3dc_b566_11e8_aa39_7831c1d3f646row0_col1\" class=\"data row0 col1\" >0.17712</td> \n",
       "    </tr>    <tr> \n",
       "        <th id=\"T_1142d3dc_b566_11e8_aa39_7831c1d3f646level0_row1\" class=\"row_heading level0 row1\" >1</th> \n",
       "        <td id=\"T_1142d3dc_b566_11e8_aa39_7831c1d3f646row1_col0\" class=\"data row1 col0\" >nan</td> \n",
       "        <td id=\"T_1142d3dc_b566_11e8_aa39_7831c1d3f646row1_col1\" class=\"data row1 col1\" >0.357912</td> \n",
       "    </tr>    <tr> \n",
       "        <th id=\"T_1142d3dc_b566_11e8_aa39_7831c1d3f646level0_row2\" class=\"row_heading level0 row2\" >2</th> \n",
       "        <td id=\"T_1142d3dc_b566_11e8_aa39_7831c1d3f646row2_col0\" class=\"data row2 col0\" >-0.127647</td> \n",
       "        <td id=\"T_1142d3dc_b566_11e8_aa39_7831c1d3f646row2_col1\" class=\"data row2 col1\" >0.0788225</td> \n",
       "    </tr>    <tr> \n",
       "        <th id=\"T_1142d3dc_b566_11e8_aa39_7831c1d3f646level0_row3\" class=\"row_heading level0 row3\" >3</th> \n",
       "        <td id=\"T_1142d3dc_b566_11e8_aa39_7831c1d3f646row3_col0\" class=\"data row3 col0\" >0.502563</td> \n",
       "        <td id=\"T_1142d3dc_b566_11e8_aa39_7831c1d3f646row3_col1\" class=\"data row3 col1\" >nan</td> \n",
       "    </tr>    <tr> \n",
       "        <th id=\"T_1142d3dc_b566_11e8_aa39_7831c1d3f646level0_row4\" class=\"row_heading level0 row4\" >4</th> \n",
       "        <td id=\"T_1142d3dc_b566_11e8_aa39_7831c1d3f646row4_col0\" class=\"data row4 col0\" >-1.06581</td> \n",
       "        <td id=\"T_1142d3dc_b566_11e8_aa39_7831c1d3f646row4_col1\" class=\"data row4 col1\" >0.217073</td> \n",
       "    </tr></tbody> \n",
       "</table> "
      ],
      "text/plain": [
       "<pandas.io.formats.style.Styler at 0x11885e7f0>"
      ]
     },
     "execution_count": 34,
     "metadata": {},
     "output_type": "execute_result"
    }
   ],
   "source": [
    "# You can style the default properties of the dataframe\n",
    "df.style.set_properties(**{'background-color': 'black',\n",
    "                           'color': 'lawngreen',\n",
    "                           'border-color': 'white'})"
   ]
  },
  {
   "cell_type": "markdown",
   "metadata": {},
   "source": [
    "### Bar Charts"
   ]
  },
  {
   "cell_type": "code",
   "execution_count": 35,
   "metadata": {
    "ExecuteTime": {
     "end_time": "2018-09-11T01:58:02.844984Z",
     "start_time": "2018-09-11T01:58:02.831180Z"
    }
   },
   "outputs": [
    {
     "data": {
      "text/html": [
       "<style  type=\"text/css\" >\n",
       "    #T_1df0e240_b566_11e8_9fd2_7831c1d3f646row0_col0 {\n",
       "            width:  10em;\n",
       "             height:  80%;\n",
       "            background:  linear-gradient(90deg,#d65f5f 27.1%, transparent 0%);\n",
       "        }    #T_1df0e240_b566_11e8_9fd2_7831c1d3f646row1_col0 {\n",
       "            width:  10em;\n",
       "             height:  80%;\n",
       "        }    #T_1df0e240_b566_11e8_9fd2_7831c1d3f646row2_col0 {\n",
       "            width:  10em;\n",
       "             height:  80%;\n",
       "            background:  linear-gradient(90deg,#d65f5f 59.8%, transparent 0%);\n",
       "        }    #T_1df0e240_b566_11e8_9fd2_7831c1d3f646row3_col0 {\n",
       "            width:  10em;\n",
       "             height:  80%;\n",
       "            background:  linear-gradient(90deg,#d65f5f 100.0%, transparent 0%);\n",
       "        }    #T_1df0e240_b566_11e8_9fd2_7831c1d3f646row4_col0 {\n",
       "            width:  10em;\n",
       "             height:  80%;\n",
       "        }</style>  \n",
       "<table id=\"T_1df0e240_b566_11e8_9fd2_7831c1d3f646\" > \n",
       "<thead>    <tr> \n",
       "        <th class=\"blank level0\" ></th> \n",
       "        <th class=\"col_heading level0 col0\" >feature_1</th> \n",
       "        <th class=\"col_heading level0 col1\" >feature_2</th> \n",
       "    </tr></thead> \n",
       "<tbody>    <tr> \n",
       "        <th id=\"T_1df0e240_b566_11e8_9fd2_7831c1d3f646level0_row0\" class=\"row_heading level0 row0\" >0</th> \n",
       "        <td id=\"T_1df0e240_b566_11e8_9fd2_7831c1d3f646row0_col0\" class=\"data row0 col0\" >-0.640574</td> \n",
       "        <td id=\"T_1df0e240_b566_11e8_9fd2_7831c1d3f646row0_col1\" class=\"data row0 col1\" >0.17712</td> \n",
       "    </tr>    <tr> \n",
       "        <th id=\"T_1df0e240_b566_11e8_9fd2_7831c1d3f646level0_row1\" class=\"row_heading level0 row1\" >1</th> \n",
       "        <td id=\"T_1df0e240_b566_11e8_9fd2_7831c1d3f646row1_col0\" class=\"data row1 col0\" >nan</td> \n",
       "        <td id=\"T_1df0e240_b566_11e8_9fd2_7831c1d3f646row1_col1\" class=\"data row1 col1\" >0.357912</td> \n",
       "    </tr>    <tr> \n",
       "        <th id=\"T_1df0e240_b566_11e8_9fd2_7831c1d3f646level0_row2\" class=\"row_heading level0 row2\" >2</th> \n",
       "        <td id=\"T_1df0e240_b566_11e8_9fd2_7831c1d3f646row2_col0\" class=\"data row2 col0\" >-0.127647</td> \n",
       "        <td id=\"T_1df0e240_b566_11e8_9fd2_7831c1d3f646row2_col1\" class=\"data row2 col1\" >0.0788225</td> \n",
       "    </tr>    <tr> \n",
       "        <th id=\"T_1df0e240_b566_11e8_9fd2_7831c1d3f646level0_row3\" class=\"row_heading level0 row3\" >3</th> \n",
       "        <td id=\"T_1df0e240_b566_11e8_9fd2_7831c1d3f646row3_col0\" class=\"data row3 col0\" >0.502563</td> \n",
       "        <td id=\"T_1df0e240_b566_11e8_9fd2_7831c1d3f646row3_col1\" class=\"data row3 col1\" >nan</td> \n",
       "    </tr>    <tr> \n",
       "        <th id=\"T_1df0e240_b566_11e8_9fd2_7831c1d3f646level0_row4\" class=\"row_heading level0 row4\" >4</th> \n",
       "        <td id=\"T_1df0e240_b566_11e8_9fd2_7831c1d3f646row4_col0\" class=\"data row4 col0\" >-1.06581</td> \n",
       "        <td id=\"T_1df0e240_b566_11e8_9fd2_7831c1d3f646row4_col1\" class=\"data row4 col1\" >0.217073</td> \n",
       "    </tr></tbody> \n",
       "</table> "
      ],
      "text/plain": [
       "<pandas.io.formats.style.Styler at 0x11885e048>"
      ]
     },
     "execution_count": 35,
     "metadata": {},
     "output_type": "execute_result"
    }
   ],
   "source": [
    "# Pandas allows your to fill in the cell in your dataframe with\n",
    "# a barplot. Again subsetting is an option here\n",
    "df.style.bar(subset=['feature_1'], color='#d65f5f')"
   ]
  },
  {
   "cell_type": "code",
   "execution_count": 37,
   "metadata": {
    "ExecuteTime": {
     "end_time": "2018-09-11T01:59:05.065250Z",
     "start_time": "2018-09-11T01:59:05.051065Z"
    }
   },
   "outputs": [
    {
     "data": {
      "text/html": [
       "<style  type=\"text/css\" >\n",
       "    #T_4306c0cc_b566_11e8_8878_7831c1d3f646row0_col0 {\n",
       "            width:  10em;\n",
       "             height:  80%;\n",
       "            background:  linear-gradient(90deg,#d65f5f 27.1%, transparent 0%);\n",
       "        }    #T_4306c0cc_b566_11e8_8878_7831c1d3f646row0_col1 {\n",
       "            width:  10em;\n",
       "             height:  80%;\n",
       "            background:  linear-gradient(90deg,#d65f5f 35.2%, transparent 0%);\n",
       "        }    #T_4306c0cc_b566_11e8_8878_7831c1d3f646row1_col0 {\n",
       "            width:  10em;\n",
       "             height:  80%;\n",
       "        }    #T_4306c0cc_b566_11e8_8878_7831c1d3f646row1_col1 {\n",
       "            width:  10em;\n",
       "             height:  80%;\n",
       "            background:  linear-gradient(90deg,#d65f5f 100.0%, transparent 0%);\n",
       "        }    #T_4306c0cc_b566_11e8_8878_7831c1d3f646row2_col0 {\n",
       "            width:  10em;\n",
       "             height:  80%;\n",
       "            background:  linear-gradient(90deg,#d65f5f 59.8%, transparent 0%);\n",
       "        }    #T_4306c0cc_b566_11e8_8878_7831c1d3f646row2_col1 {\n",
       "            width:  10em;\n",
       "             height:  80%;\n",
       "        }    #T_4306c0cc_b566_11e8_8878_7831c1d3f646row3_col0 {\n",
       "            width:  10em;\n",
       "             height:  80%;\n",
       "            background:  linear-gradient(90deg,#d65f5f 100.0%, transparent 0%);\n",
       "        }    #T_4306c0cc_b566_11e8_8878_7831c1d3f646row3_col1 {\n",
       "            width:  10em;\n",
       "             height:  80%;\n",
       "        }    #T_4306c0cc_b566_11e8_8878_7831c1d3f646row4_col0 {\n",
       "            width:  10em;\n",
       "             height:  80%;\n",
       "        }    #T_4306c0cc_b566_11e8_8878_7831c1d3f646row4_col1 {\n",
       "            width:  10em;\n",
       "             height:  80%;\n",
       "            background:  linear-gradient(90deg,#d65f5f 49.5%, transparent 0%);\n",
       "        }</style>  \n",
       "<table id=\"T_4306c0cc_b566_11e8_8878_7831c1d3f646\" > \n",
       "<thead>    <tr> \n",
       "        <th class=\"blank level0\" ></th> \n",
       "        <th class=\"col_heading level0 col0\" >feature_1</th> \n",
       "        <th class=\"col_heading level0 col1\" >feature_2</th> \n",
       "    </tr></thead> \n",
       "<tbody>    <tr> \n",
       "        <th id=\"T_4306c0cc_b566_11e8_8878_7831c1d3f646level0_row0\" class=\"row_heading level0 row0\" >0</th> \n",
       "        <td id=\"T_4306c0cc_b566_11e8_8878_7831c1d3f646row0_col0\" class=\"data row0 col0\" >-0.640574</td> \n",
       "        <td id=\"T_4306c0cc_b566_11e8_8878_7831c1d3f646row0_col1\" class=\"data row0 col1\" >0.17712</td> \n",
       "    </tr>    <tr> \n",
       "        <th id=\"T_4306c0cc_b566_11e8_8878_7831c1d3f646level0_row1\" class=\"row_heading level0 row1\" >1</th> \n",
       "        <td id=\"T_4306c0cc_b566_11e8_8878_7831c1d3f646row1_col0\" class=\"data row1 col0\" >nan</td> \n",
       "        <td id=\"T_4306c0cc_b566_11e8_8878_7831c1d3f646row1_col1\" class=\"data row1 col1\" >0.357912</td> \n",
       "    </tr>    <tr> \n",
       "        <th id=\"T_4306c0cc_b566_11e8_8878_7831c1d3f646level0_row2\" class=\"row_heading level0 row2\" >2</th> \n",
       "        <td id=\"T_4306c0cc_b566_11e8_8878_7831c1d3f646row2_col0\" class=\"data row2 col0\" >-0.127647</td> \n",
       "        <td id=\"T_4306c0cc_b566_11e8_8878_7831c1d3f646row2_col1\" class=\"data row2 col1\" >0.0788225</td> \n",
       "    </tr>    <tr> \n",
       "        <th id=\"T_4306c0cc_b566_11e8_8878_7831c1d3f646level0_row3\" class=\"row_heading level0 row3\" >3</th> \n",
       "        <td id=\"T_4306c0cc_b566_11e8_8878_7831c1d3f646row3_col0\" class=\"data row3 col0\" >0.502563</td> \n",
       "        <td id=\"T_4306c0cc_b566_11e8_8878_7831c1d3f646row3_col1\" class=\"data row3 col1\" >nan</td> \n",
       "    </tr>    <tr> \n",
       "        <th id=\"T_4306c0cc_b566_11e8_8878_7831c1d3f646level0_row4\" class=\"row_heading level0 row4\" >4</th> \n",
       "        <td id=\"T_4306c0cc_b566_11e8_8878_7831c1d3f646row4_col0\" class=\"data row4 col0\" >-1.06581</td> \n",
       "        <td id=\"T_4306c0cc_b566_11e8_8878_7831c1d3f646row4_col1\" class=\"data row4 col1\" >0.217073</td> \n",
       "    </tr></tbody> \n",
       "</table> "
      ],
      "text/plain": [
       "<pandas.io.formats.style.Styler at 0x11885e5f8>"
      ]
     },
     "execution_count": 37,
     "metadata": {},
     "output_type": "execute_result"
    }
   ],
   "source": [
    "# Styling a barplot across the entire dataframe\n",
    "df.style.bar(subset=['feature_1','feature_2'], color='#d65f5f')"
   ]
  },
  {
   "cell_type": "code",
   "execution_count": 38,
   "metadata": {
    "ExecuteTime": {
     "end_time": "2018-09-11T01:59:05.918540Z",
     "start_time": "2018-09-11T01:59:05.905283Z"
    }
   },
   "outputs": [
    {
     "data": {
      "text/html": [
       "<style  type=\"text/css\" >\n",
       "    #T_43892546_b566_11e8_9fb7_7831c1d3f646row0_col0 {\n",
       "            width:  10em;\n",
       "             height:  80%;\n",
       "            background:  linear-gradient(90deg, transparent 0%, transparent 27.1%, #d65f5f 27.1%, #d65f5f 68.0%, transparent 68.0%);\n",
       "        }    #T_43892546_b566_11e8_9fb7_7831c1d3f646row0_col1 {\n",
       "            width:  10em;\n",
       "             height:  80%;\n",
       "            background:  linear-gradient(90deg, transparent 0%, transparent 0.0%, #5fba7d 0.0%, #5fba7d 49.5%, transparent 49.5%);\n",
       "        }    #T_43892546_b566_11e8_9fb7_7831c1d3f646row1_col0 {\n",
       "            width:  10em;\n",
       "             height:  80%;\n",
       "            background:  linear-gradient(90deg, transparent 0%, transparent nan%, #d65f5f nan%, #d65f5f 68.0%, transparent 68.0%);\n",
       "        }    #T_43892546_b566_11e8_9fb7_7831c1d3f646row1_col1 {\n",
       "            width:  10em;\n",
       "             height:  80%;\n",
       "            background:  linear-gradient(90deg, transparent 0%, transparent 0.0%, #5fba7d 0.0%, #5fba7d 100.0%, transparent 100.0%);\n",
       "        }    #T_43892546_b566_11e8_9fb7_7831c1d3f646row2_col0 {\n",
       "            width:  10em;\n",
       "             height:  80%;\n",
       "            background:  linear-gradient(90deg, transparent 0%, transparent 59.8%, #d65f5f 59.8%, #d65f5f 68.0%, transparent 68.0%);\n",
       "        }    #T_43892546_b566_11e8_9fb7_7831c1d3f646row2_col1 {\n",
       "            width:  10em;\n",
       "             height:  80%;\n",
       "            background:  linear-gradient(90deg, transparent 0%, transparent 0.0%, #5fba7d 0.0%, #5fba7d 22.0%, transparent 22.0%);\n",
       "        }    #T_43892546_b566_11e8_9fb7_7831c1d3f646row3_col0 {\n",
       "            width:  10em;\n",
       "             height:  80%;\n",
       "            background:  linear-gradient(90deg, transparent 0%, transparent 68.0%, #5fba7d 68.0%, #5fba7d 100.0%, transparent 100.0%);\n",
       "        }    #T_43892546_b566_11e8_9fb7_7831c1d3f646row3_col1 {\n",
       "            width:  10em;\n",
       "             height:  80%;\n",
       "            background:  linear-gradient(90deg, transparent 0%, transparent nan%, #d65f5f nan%, #d65f5f 0.0%, transparent 0.0%);\n",
       "        }    #T_43892546_b566_11e8_9fb7_7831c1d3f646row4_col0 {\n",
       "            width:  10em;\n",
       "             height:  80%;\n",
       "            background:  linear-gradient(90deg, transparent 0%, transparent 0.0%, #d65f5f 0.0%, #d65f5f 68.0%, transparent 68.0%);\n",
       "        }    #T_43892546_b566_11e8_9fb7_7831c1d3f646row4_col1 {\n",
       "            width:  10em;\n",
       "             height:  80%;\n",
       "            background:  linear-gradient(90deg, transparent 0%, transparent 0.0%, #5fba7d 0.0%, #5fba7d 60.6%, transparent 60.6%);\n",
       "        }</style>  \n",
       "<table id=\"T_43892546_b566_11e8_9fb7_7831c1d3f646\" > \n",
       "<thead>    <tr> \n",
       "        <th class=\"blank level0\" ></th> \n",
       "        <th class=\"col_heading level0 col0\" >feature_1</th> \n",
       "        <th class=\"col_heading level0 col1\" >feature_2</th> \n",
       "    </tr></thead> \n",
       "<tbody>    <tr> \n",
       "        <th id=\"T_43892546_b566_11e8_9fb7_7831c1d3f646level0_row0\" class=\"row_heading level0 row0\" >0</th> \n",
       "        <td id=\"T_43892546_b566_11e8_9fb7_7831c1d3f646row0_col0\" class=\"data row0 col0\" >-0.640574</td> \n",
       "        <td id=\"T_43892546_b566_11e8_9fb7_7831c1d3f646row0_col1\" class=\"data row0 col1\" >0.17712</td> \n",
       "    </tr>    <tr> \n",
       "        <th id=\"T_43892546_b566_11e8_9fb7_7831c1d3f646level0_row1\" class=\"row_heading level0 row1\" >1</th> \n",
       "        <td id=\"T_43892546_b566_11e8_9fb7_7831c1d3f646row1_col0\" class=\"data row1 col0\" >nan</td> \n",
       "        <td id=\"T_43892546_b566_11e8_9fb7_7831c1d3f646row1_col1\" class=\"data row1 col1\" >0.357912</td> \n",
       "    </tr>    <tr> \n",
       "        <th id=\"T_43892546_b566_11e8_9fb7_7831c1d3f646level0_row2\" class=\"row_heading level0 row2\" >2</th> \n",
       "        <td id=\"T_43892546_b566_11e8_9fb7_7831c1d3f646row2_col0\" class=\"data row2 col0\" >-0.127647</td> \n",
       "        <td id=\"T_43892546_b566_11e8_9fb7_7831c1d3f646row2_col1\" class=\"data row2 col1\" >0.0788225</td> \n",
       "    </tr>    <tr> \n",
       "        <th id=\"T_43892546_b566_11e8_9fb7_7831c1d3f646level0_row3\" class=\"row_heading level0 row3\" >3</th> \n",
       "        <td id=\"T_43892546_b566_11e8_9fb7_7831c1d3f646row3_col0\" class=\"data row3 col0\" >0.502563</td> \n",
       "        <td id=\"T_43892546_b566_11e8_9fb7_7831c1d3f646row3_col1\" class=\"data row3 col1\" >nan</td> \n",
       "    </tr>    <tr> \n",
       "        <th id=\"T_43892546_b566_11e8_9fb7_7831c1d3f646level0_row4\" class=\"row_heading level0 row4\" >4</th> \n",
       "        <td id=\"T_43892546_b566_11e8_9fb7_7831c1d3f646row4_col0\" class=\"data row4 col0\" >-1.06581</td> \n",
       "        <td id=\"T_43892546_b566_11e8_9fb7_7831c1d3f646row4_col1\" class=\"data row4 col1\" >0.217073</td> \n",
       "    </tr></tbody> \n",
       "</table> "
      ],
      "text/plain": [
       "<pandas.io.formats.style.Styler at 0x118872240>"
      ]
     },
     "execution_count": 38,
     "metadata": {},
     "output_type": "execute_result"
    }
   ],
   "source": [
    "# The barplot can me centered at zero as wel\n",
    "df.style.bar(subset=['feature_1', 'feature_2'], align='mid', color=['#d65f5f', '#5fba7d'])"
   ]
  },
  {
   "cell_type": "markdown",
   "metadata": {},
   "source": [
    "### Exporting and Sharing Style"
   ]
  },
  {
   "cell_type": "code",
   "execution_count": 39,
   "metadata": {
    "ExecuteTime": {
     "end_time": "2018-09-11T01:59:44.366395Z",
     "start_time": "2018-09-11T01:59:44.354391Z"
    }
   },
   "outputs": [
    {
     "data": {
      "text/html": [
       "<style  type=\"text/css\" >\n",
       "    #T_5a73db6e_b566_11e8_a13c_7831c1d3f646row0_col0 {\n",
       "            color:  red;\n",
       "        }    #T_5a73db6e_b566_11e8_a13c_7831c1d3f646row0_col1 {\n",
       "            color:  green;\n",
       "        }    #T_5a73db6e_b566_11e8_a13c_7831c1d3f646row1_col0 {\n",
       "            color:  black;\n",
       "        }    #T_5a73db6e_b566_11e8_a13c_7831c1d3f646row1_col1 {\n",
       "            color:  green;\n",
       "        }    #T_5a73db6e_b566_11e8_a13c_7831c1d3f646row2_col0 {\n",
       "            color:  red;\n",
       "        }    #T_5a73db6e_b566_11e8_a13c_7831c1d3f646row2_col1 {\n",
       "            color:  green;\n",
       "        }    #T_5a73db6e_b566_11e8_a13c_7831c1d3f646row3_col0 {\n",
       "            color:  green;\n",
       "        }    #T_5a73db6e_b566_11e8_a13c_7831c1d3f646row3_col1 {\n",
       "            color:  black;\n",
       "        }    #T_5a73db6e_b566_11e8_a13c_7831c1d3f646row4_col0 {\n",
       "            color:  red;\n",
       "        }    #T_5a73db6e_b566_11e8_a13c_7831c1d3f646row4_col1 {\n",
       "            color:  green;\n",
       "        }</style>  \n",
       "<table id=\"T_5a73db6e_b566_11e8_a13c_7831c1d3f646\" > \n",
       "<thead>    <tr> \n",
       "        <th class=\"blank level0\" ></th> \n",
       "        <th class=\"col_heading level0 col0\" >feature_1</th> \n",
       "        <th class=\"col_heading level0 col1\" >feature_2</th> \n",
       "    </tr></thead> \n",
       "<tbody>    <tr> \n",
       "        <th id=\"T_5a73db6e_b566_11e8_a13c_7831c1d3f646level0_row0\" class=\"row_heading level0 row0\" >0</th> \n",
       "        <td id=\"T_5a73db6e_b566_11e8_a13c_7831c1d3f646row0_col0\" class=\"data row0 col0\" >-0.640574</td> \n",
       "        <td id=\"T_5a73db6e_b566_11e8_a13c_7831c1d3f646row0_col1\" class=\"data row0 col1\" >0.17712</td> \n",
       "    </tr>    <tr> \n",
       "        <th id=\"T_5a73db6e_b566_11e8_a13c_7831c1d3f646level0_row1\" class=\"row_heading level0 row1\" >1</th> \n",
       "        <td id=\"T_5a73db6e_b566_11e8_a13c_7831c1d3f646row1_col0\" class=\"data row1 col0\" >nan</td> \n",
       "        <td id=\"T_5a73db6e_b566_11e8_a13c_7831c1d3f646row1_col1\" class=\"data row1 col1\" >0.357912</td> \n",
       "    </tr>    <tr> \n",
       "        <th id=\"T_5a73db6e_b566_11e8_a13c_7831c1d3f646level0_row2\" class=\"row_heading level0 row2\" >2</th> \n",
       "        <td id=\"T_5a73db6e_b566_11e8_a13c_7831c1d3f646row2_col0\" class=\"data row2 col0\" >-0.127647</td> \n",
       "        <td id=\"T_5a73db6e_b566_11e8_a13c_7831c1d3f646row2_col1\" class=\"data row2 col1\" >0.0788225</td> \n",
       "    </tr>    <tr> \n",
       "        <th id=\"T_5a73db6e_b566_11e8_a13c_7831c1d3f646level0_row3\" class=\"row_heading level0 row3\" >3</th> \n",
       "        <td id=\"T_5a73db6e_b566_11e8_a13c_7831c1d3f646row3_col0\" class=\"data row3 col0\" >0.502563</td> \n",
       "        <td id=\"T_5a73db6e_b566_11e8_a13c_7831c1d3f646row3_col1\" class=\"data row3 col1\" >nan</td> \n",
       "    </tr>    <tr> \n",
       "        <th id=\"T_5a73db6e_b566_11e8_a13c_7831c1d3f646level0_row4\" class=\"row_heading level0 row4\" >4</th> \n",
       "        <td id=\"T_5a73db6e_b566_11e8_a13c_7831c1d3f646row4_col0\" class=\"data row4 col0\" >-1.06581</td> \n",
       "        <td id=\"T_5a73db6e_b566_11e8_a13c_7831c1d3f646row4_col1\" class=\"data row4 col1\" >0.217073</td> \n",
       "    </tr></tbody> \n",
       "</table> "
      ],
      "text/plain": [
       "<pandas.io.formats.style.Styler at 0x118872c18>"
      ]
     },
     "execution_count": 39,
     "metadata": {},
     "output_type": "execute_result"
    }
   ],
   "source": [
    "# Style a dataframe\n",
    "style1 = df.style.applymap(color_dataframe)\n",
    "style1"
   ]
  },
  {
   "cell_type": "code",
   "execution_count": 42,
   "metadata": {
    "ExecuteTime": {
     "end_time": "2018-09-11T02:01:34.787104Z",
     "start_time": "2018-09-11T02:01:34.774967Z"
    }
   },
   "outputs": [
    {
     "data": {
      "text/html": [
       "<style  type=\"text/css\" >\n",
       "    #T_9c44a468_b566_11e8_86aa_7831c1d3f646row0_col0 {\n",
       "            color:  green;\n",
       "        }    #T_9c44a468_b566_11e8_86aa_7831c1d3f646row0_col1 {\n",
       "            color:  red;\n",
       "        }    #T_9c44a468_b566_11e8_86aa_7831c1d3f646row1_col0 {\n",
       "            color:  black;\n",
       "        }    #T_9c44a468_b566_11e8_86aa_7831c1d3f646row1_col1 {\n",
       "            color:  red;\n",
       "        }    #T_9c44a468_b566_11e8_86aa_7831c1d3f646row2_col0 {\n",
       "            color:  green;\n",
       "        }    #T_9c44a468_b566_11e8_86aa_7831c1d3f646row2_col1 {\n",
       "            color:  red;\n",
       "        }    #T_9c44a468_b566_11e8_86aa_7831c1d3f646row3_col0 {\n",
       "            color:  red;\n",
       "        }    #T_9c44a468_b566_11e8_86aa_7831c1d3f646row3_col1 {\n",
       "            color:  black;\n",
       "        }    #T_9c44a468_b566_11e8_86aa_7831c1d3f646row4_col0 {\n",
       "            color:  green;\n",
       "        }    #T_9c44a468_b566_11e8_86aa_7831c1d3f646row4_col1 {\n",
       "            color:  red;\n",
       "        }</style>  \n",
       "<table id=\"T_9c44a468_b566_11e8_86aa_7831c1d3f646\" > \n",
       "<thead>    <tr> \n",
       "        <th class=\"blank level0\" ></th> \n",
       "        <th class=\"col_heading level0 col0\" >feature_1</th> \n",
       "        <th class=\"col_heading level0 col1\" >feature_2</th> \n",
       "    </tr></thead> \n",
       "<tbody>    <tr> \n",
       "        <th id=\"T_9c44a468_b566_11e8_86aa_7831c1d3f646level0_row0\" class=\"row_heading level0 row0\" >0</th> \n",
       "        <td id=\"T_9c44a468_b566_11e8_86aa_7831c1d3f646row0_col0\" class=\"data row0 col0\" >0.640574</td> \n",
       "        <td id=\"T_9c44a468_b566_11e8_86aa_7831c1d3f646row0_col1\" class=\"data row0 col1\" >-0.17712</td> \n",
       "    </tr>    <tr> \n",
       "        <th id=\"T_9c44a468_b566_11e8_86aa_7831c1d3f646level0_row1\" class=\"row_heading level0 row1\" >1</th> \n",
       "        <td id=\"T_9c44a468_b566_11e8_86aa_7831c1d3f646row1_col0\" class=\"data row1 col0\" >nan</td> \n",
       "        <td id=\"T_9c44a468_b566_11e8_86aa_7831c1d3f646row1_col1\" class=\"data row1 col1\" >-0.357912</td> \n",
       "    </tr>    <tr> \n",
       "        <th id=\"T_9c44a468_b566_11e8_86aa_7831c1d3f646level0_row2\" class=\"row_heading level0 row2\" >2</th> \n",
       "        <td id=\"T_9c44a468_b566_11e8_86aa_7831c1d3f646row2_col0\" class=\"data row2 col0\" >0.127647</td> \n",
       "        <td id=\"T_9c44a468_b566_11e8_86aa_7831c1d3f646row2_col1\" class=\"data row2 col1\" >-0.0788225</td> \n",
       "    </tr>    <tr> \n",
       "        <th id=\"T_9c44a468_b566_11e8_86aa_7831c1d3f646level0_row3\" class=\"row_heading level0 row3\" >3</th> \n",
       "        <td id=\"T_9c44a468_b566_11e8_86aa_7831c1d3f646row3_col0\" class=\"data row3 col0\" >-0.502563</td> \n",
       "        <td id=\"T_9c44a468_b566_11e8_86aa_7831c1d3f646row3_col1\" class=\"data row3 col1\" >nan</td> \n",
       "    </tr>    <tr> \n",
       "        <th id=\"T_9c44a468_b566_11e8_86aa_7831c1d3f646level0_row4\" class=\"row_heading level0 row4\" >4</th> \n",
       "        <td id=\"T_9c44a468_b566_11e8_86aa_7831c1d3f646row4_col0\" class=\"data row4 col0\" >1.06581</td> \n",
       "        <td id=\"T_9c44a468_b566_11e8_86aa_7831c1d3f646row4_col1\" class=\"data row4 col1\" >-0.217073</td> \n",
       "    </tr></tbody> \n",
       "</table> "
      ],
      "text/plain": [
       "<pandas.io.formats.style.Styler at 0x118872eb8>"
      ]
     },
     "execution_count": 42,
     "metadata": {},
     "output_type": "execute_result"
    }
   ],
   "source": [
    "# Create a copy of the dataframe but flip the operators\n",
    "df2 = -df2\n",
    "\n",
    "# Create a second style from the first style\n",
    "style2 = df2.style\n",
    "style2.use(style1.export())\n",
    "style2"
   ]
  },
  {
   "cell_type": "markdown",
   "metadata": {},
   "source": [
    "Author: Kavi Sekhon"
   ]
  }
 ],
 "metadata": {
  "kernelspec": {
   "display_name": "Python 3",
   "language": "python",
   "name": "python3"
  },
  "language_info": {
   "codemirror_mode": {
    "name": "ipython",
    "version": 3
   },
   "file_extension": ".py",
   "mimetype": "text/x-python",
   "name": "python",
   "nbconvert_exporter": "python",
   "pygments_lexer": "ipython3",
   "version": "3.6.6"
  },
  "varInspector": {
   "cols": {
    "lenName": 16,
    "lenType": 16,
    "lenVar": 40
   },
   "kernels_config": {
    "python": {
     "delete_cmd_postfix": "",
     "delete_cmd_prefix": "del ",
     "library": "var_list.py",
     "varRefreshCmd": "print(var_dic_list())"
    },
    "r": {
     "delete_cmd_postfix": ") ",
     "delete_cmd_prefix": "rm(",
     "library": "var_list.r",
     "varRefreshCmd": "cat(var_dic_list()) "
    }
   },
   "types_to_exclude": [
    "module",
    "function",
    "builtin_function_or_method",
    "instance",
    "_Feature"
   ],
   "window_display": false
  }
 },
 "nbformat": 4,
 "nbformat_minor": 2
}
