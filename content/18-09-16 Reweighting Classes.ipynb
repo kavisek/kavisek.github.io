{
 "cells": [
  {
   "cell_type": "markdown",
   "metadata": {},
   "source": [
    "# Rewieghting Classes\n",
    "\n",
    "<span>If you have class present in your dataest you should rewieght your classes to accuont for the lack in the data. Sklearns implementation of this allows you to pass the weights during the fitting portion of the model.</span>\n",
    "\n",
    "### Import Preliminaries"
   ]
  },
  {
   "cell_type": "code",
   "execution_count": 37,
   "metadata": {},
   "outputs": [],
   "source": [
    "%matplotlib inline\n",
    "%config InlineBackend.figure_format='retina'\n",
    "\n",
    "\n",
    "# Import modules\n",
    "import matplotlib.pyplot as plt\n",
    "import matplotlib.gridspec as gridspec\n",
    "import matplotlib as mpl\n",
    "import numpy as np\n",
    "import pandas as pd \n",
    "import scipy\n",
    "import sklearn\n",
    "import seaborn as sns\n",
    "import warnings\n",
    "\n",
    "# Import Model Selection \n",
    "from sklearn.datasets import load_iris\n",
    "from sklearn.model_selection import train_test_split, cross_val_score, GridSearchCV\n",
    "from sklearn.linear_model import LogisticRegression\n",
    "from sklearn.utils.class_weight import compute_sample_weight\n",
    "\n",
    "# Set pandas options\n",
    "pd.set_option('max_columns',1000)\n",
    "pd.set_option('max_rows',30)\n",
    "pd.set_option('display.float_format', lambda x: '%.3f' % x)\n",
    "\n",
    "# Set plotting options\n",
    "mpl.rcParams['figure.figsize'] = (8.0, 7.0)\n",
    "\n",
    "# Set warning options\n",
    "warnings.filterwarnings('ignore');"
   ]
  },
  {
   "cell_type": "markdown",
   "metadata": {},
   "source": [
    "### Import Data"
   ]
  },
  {
   "cell_type": "code",
   "execution_count": 33,
   "metadata": {},
   "outputs": [],
   "source": [
    "# Loading iris data set\n",
    "iris = load_iris()\n",
    "X, y = iris.data[:100], iris.target[:100]\n",
    "\n",
    "# Train-test split the data\n",
    "train_x, test_x, train_y, test_y = train_test_split(X,y)"
   ]
  },
  {
   "cell_type": "markdown",
   "metadata": {},
   "source": [
    "### Calculate Weights"
   ]
  },
  {
   "cell_type": "code",
   "execution_count": 34,
   "metadata": {},
   "outputs": [
    {
     "data": {
      "text/plain": [
       "array([0.98684211, 0.98684211, 0.98684211, 1.01351351, 1.01351351,\n",
       "       1.01351351, 1.01351351, 1.01351351, 0.98684211, 1.01351351,\n",
       "       1.01351351, 0.98684211, 0.98684211, 1.01351351, 0.98684211,\n",
       "       1.01351351, 1.01351351, 1.01351351, 1.01351351, 1.01351351,\n",
       "       0.98684211, 1.01351351, 1.01351351, 0.98684211, 0.98684211,\n",
       "       1.01351351, 1.01351351, 0.98684211, 1.01351351, 0.98684211,\n",
       "       0.98684211, 1.01351351, 0.98684211, 1.01351351, 0.98684211,\n",
       "       1.01351351, 1.01351351, 0.98684211, 1.01351351, 1.01351351,\n",
       "       1.01351351, 0.98684211, 0.98684211, 0.98684211, 1.01351351,\n",
       "       0.98684211, 0.98684211, 0.98684211, 0.98684211, 0.98684211,\n",
       "       0.98684211, 0.98684211, 1.01351351, 0.98684211, 1.01351351,\n",
       "       1.01351351, 0.98684211, 1.01351351, 0.98684211, 0.98684211,\n",
       "       0.98684211, 0.98684211, 1.01351351, 1.01351351, 0.98684211,\n",
       "       1.01351351, 0.98684211, 0.98684211, 0.98684211, 1.01351351,\n",
       "       1.01351351, 1.01351351, 0.98684211, 0.98684211, 1.01351351])"
      ]
     },
     "execution_count": 34,
     "metadata": {},
     "output_type": "execute_result"
    }
   ],
   "source": [
    "# Compute the sample weights of the training dataset\n",
    "weights = compute_sample_weight(class_weight='balanced', y=train_y)\n",
    "weights"
   ]
  },
  {
   "cell_type": "markdown",
   "metadata": {},
   "source": [
    "### Fit the Model"
   ]
  },
  {
   "cell_type": "code",
   "execution_count": 35,
   "metadata": {},
   "outputs": [
    {
     "data": {
      "text/plain": [
       "LogisticRegression(C=10000, class_weight=None, dual=False, fit_intercept=True,\n",
       "          intercept_scaling=1, max_iter=100, multi_class='ovr', n_jobs=1,\n",
       "          penalty='l2', random_state=None, solver='liblinear', tol=0.0001,\n",
       "          verbose=0, warm_start=False)"
      ]
     },
     "execution_count": 35,
     "metadata": {},
     "output_type": "execute_result"
    }
   ],
   "source": [
    "# Pass weight into fit paramter\n",
    "lg_model = LogisticRegression(C=10000)\n",
    "lg_model.fit(train_x, train_y, sample_weight=weights)"
   ]
  },
  {
   "cell_type": "markdown",
   "metadata": {},
   "source": [
    "### Pass Weights into Grid Search"
   ]
  },
  {
   "cell_type": "code",
   "execution_count": 40,
   "metadata": {},
   "outputs": [
    {
     "data": {
      "text/plain": [
       "GridSearchCV(cv=10, error_score='raise',\n",
       "       estimator=LogisticRegression(C=10000, class_weight=None, dual=False, fit_intercept=True,\n",
       "          intercept_scaling=1, max_iter=100, multi_class='ovr', n_jobs=1,\n",
       "          penalty='l2', random_state=None, solver='liblinear', tol=0.0001,\n",
       "          verbose=0, warm_start=False),\n",
       "       fit_params={'sample_weight': array([0.98684, 0.98684, ..., 0.98684, 1.01351])},\n",
       "       iid=True, n_jobs=-1,\n",
       "       param_grid={'C': [10, 11, 12, 13, 14, 15, 16, 17, 18, 19, 20, 21, 22, 23, 24, 25, 26, 27, 28, 29, 30, 31, 32, 33, 34, 35, 36, 37, 38, 39, 40, 41, 42, 43, 44, 45, 46, 47, 48, 49, 50, 51, 52, 53, 54, 55, 56, 57, 58, 59, 60, 61, 62, 63, 64, 65, 66, 67, 68, 69, 70, 71, 72, 73, 74, 75, 76, 77, 78, 79, 80, 81, 82, 83, 84, 85, 86, 87, 88, 89, 90, 91, 92, 93, 94, 95, 96, 97, 98, 99]},\n",
       "       pre_dispatch='2*n_jobs', refit=True, return_train_score=True,\n",
       "       scoring='accuracy', verbose=0)"
      ]
     },
     "execution_count": 40,
     "metadata": {},
     "output_type": "execute_result"
    }
   ],
   "source": [
    "grid = {'C':list(range(10,100))}\n",
    "random_search = GridSearchCV(estimator=lg_model, \n",
    "                                   param_grid = grid, \n",
    "                                   scoring = 'accuracy', \n",
    "                                   n_jobs=-1, refit=True,\n",
    "                                   cv = 10,\n",
    "                                   return_train_score=True,\n",
    "                                   fit_params= {'sample_weight':weights})\n",
    "\n",
    "# Fit the randomized search model with our data\n",
    "random_search.fit(train_x,train_y)"
   ]
  },
  {
   "cell_type": "markdown",
   "metadata": {},
   "source": [
    "### General Notes\n",
    "\n",
    "- For grid searching the fit_params parameter in the sklearn 0.20 and up has been moved to the 1`fit` method. I am using sklearn 0.19 for this example.\n",
    "\n",
    "Author: Kavi Sekhon"
   ]
  },
  {
   "cell_type": "code",
   "execution_count": null,
   "metadata": {},
   "outputs": [],
   "source": []
  }
 ],
 "metadata": {
  "kernelspec": {
   "display_name": "Python 3",
   "language": "python",
   "name": "python3"
  },
  "language_info": {
   "codemirror_mode": {
    "name": "ipython",
    "version": 3
   },
   "file_extension": ".py",
   "mimetype": "text/x-python",
   "name": "python",
   "nbconvert_exporter": "python",
   "pygments_lexer": "ipython3",
   "version": "3.6.5"
  }
 },
 "nbformat": 4,
 "nbformat_minor": 2
}
