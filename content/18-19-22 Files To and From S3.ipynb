{
 "cells": [
  {
   "cell_type": "markdown",
   "metadata": {},
   "source": [
    "\n",
    "<span>This notebook connects to a public bucket on Amazon Webservice's S3 Cloud Service and uploads the data from your notebook/script. Having the data stored on the cloud makes it possible for anyone on our team to pull data and use it for their analysis. Note, that you will need to create an Amazon S3 bucket and bucket policy beforehand. The second half of the notebook will teach you how to do the opposite. Giving you the code to pull your data back down.</span>\n"
   ]
  },
  {
   "cell_type": "markdown",
   "metadata": {},
   "source": [
    "### Import Data"
   ]
  },
  {
   "cell_type": "code",
   "execution_count": null,
   "metadata": {
    "ExecuteTime": {
     "end_time": "2018-09-11T01:00:01.456812Z",
     "start_time": "2018-09-11T01:00:01.134787Z"
    }
   },
   "outputs": [],
   "source": [
    "# Import modules\n",
    "import pandas as pd\n",
    "import boto3\n",
    "from io import StringIO\n",
    "\n",
    "# Import some pokemon data\n",
    "df = pd.read_csv('Data/pokemon.csv')\n",
    "\n",
    "# View the head of the data\n",
    "df.head()"
   ]
  },
  {
   "cell_type": "markdown",
   "metadata": {},
   "source": [
    "### Writing Data to AWS S3"
   ]
  },
  {
   "cell_type": "code",
   "execution_count": null,
   "metadata": {
    "ExecuteTime": {
     "end_time": "2018-09-11T01:03:14.510364Z",
     "start_time": "2018-09-11T01:03:14.390466Z"
    }
   },
   "outputs": [],
   "source": [
    "# Create a csv string buffer\n",
    "csv_buffer = StringIO()\n",
    "\n",
    "# same dataframe to csv buffer\n",
    "df.to_csv(csv_buffer)\n",
    "\n",
    "# Intializes the S3 resource in boto3\n",
    "s3 = boto3.resource('s3')\n",
    "\n",
    "# Connect to a public bucker and save our data \n",
    "# 'bucker_name' is a placeholder for this example\n",
    "s3.Bucket('bucket_name').put_object(v\n",
    "    Key='demo/pokemon.csv', Body=csv_buffer.getvalue())"
   ]
  },
  {
   "cell_type": "markdown",
   "metadata": {},
   "source": [
    "### Reading a File from AWS S3"
   ]
  },
  {
   "cell_type": "code",
   "execution_count": null,
   "metadata": {
    "ExecuteTime": {
     "end_time": "2018-09-11T01:12:26.286535Z",
     "start_time": "2018-09-11T01:12:23.549327Z"
    }
   },
   "outputs": [],
   "source": [
    "# Import modules\n",
    "import boto3\n",
    "import pandas as pd\n",
    "from io import BytesIO\n",
    "\n",
    "# Set up a client, resource and bucket connection\n",
    "client = boto3.client('s3')\n",
    "resource = boto3.resource('s3')\n",
    "bucket = resource.Bucket('demobucket')\n",
    "\n",
    "# pull down the aws csv file from your bucket\n",
    "csv_file = client.get_object(\n",
    "    Bucket='demobucket', Key='pokemon.csv')\n",
    "\n",
    "# Conver the dataframe to a csv file\n",
    "df = pd.read_csv(BytesIO(csv_file['Body'].read()))\n",
    "\n",
    "# View the head of the dataframe\n",
    "df.head(5)"
   ]
  },
  {
   "cell_type": "markdown",
   "metadata": {},
   "source": [
    "### Read From S3 Function"
   ]
  },
  {
   "cell_type": "code",
   "execution_count": null,
   "metadata": {
    "ExecuteTime": {
     "end_time": "2018-07-03T17:58:37.258276Z",
     "start_time": "2018-07-03T21:58:34.704Z"
    },
    "collapsed": true
   },
   "outputs": [],
   "source": [
    "# Implementing the above code as a function\n",
    "def read_s3_csv(bucket_name, file_path):\n",
    "    '''\n",
    "    Connect to S3 given the bucker named and file key that your have \n",
    "    provided and returns the dataframe\n",
    "    \n",
    "    Parameters\n",
    "    ----------\n",
    "    bucket_names (str): the name of the S3 buckers your connecting to\n",
    "    file_path (str): name of the file within the S3 bucket\n",
    "    \n",
    "    Example\n",
    "    ----------\n",
    "    >>>> read_s3_csv('demobucket','pokemon.csv')\n",
    "    >>>> read_s3_csv('demobucket','digimon.csv')\n",
    "    \n",
    "    '''\n",
    "    client = boto3.client('s3')\n",
    "    resource = boto3.resource('s3')\n",
    "    bucket = resource.Bucket(bucket_name)\n",
    "\n",
    "    csv_file = client.get_object(\n",
    "        Bucket=bucket_name, Key=file_path)\n",
    "\n",
    "    df = pd.read_csv(BytesIO(csv_file['Body'].read()))\n",
    "    return df"
   ]
  },
  {
   "cell_type": "markdown",
   "metadata": {},
   "source": [
    "### Calling the Function"
   ]
  },
  {
   "cell_type": "code",
   "execution_count": null,
   "metadata": {
    "ExecuteTime": {
     "end_time": "2018-07-03T17:58:37.258498Z",
     "start_time": "2018-07-03T21:58:34.708Z"
    }
   },
   "outputs": [],
   "source": [
    "# Rrun the read_s3_function\n",
    "df = read_s3_csv('demobucket','pokemon.csv')\n",
    "\n",
    "# view the head of the dataframe\n",
    "df.head()"
   ]
  }
 ],
 "metadata": {
  "kernelspec": {
   "display_name": "Python 3",
   "language": "python",
   "name": "python3"
  },
  "language_info": {
   "codemirror_mode": {
    "name": "ipython",
    "version": 3
   },
   "file_extension": ".py",
   "mimetype": "text/x-python",
   "name": "python",
   "nbconvert_exporter": "python",
   "pygments_lexer": "ipython3",
   "version": "3.6.6"
  }
 },
 "nbformat": 4,
 "nbformat_minor": 2
}
