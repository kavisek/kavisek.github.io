{
 "cells": [
  {
   "cell_type": "markdown",
   "metadata": {},
   "source": [
    "# Reading a File from AWS S3\n",
    "\n",
    "<span>This notebook connects to a public bucket on AWS's S3, and pull down CVS file from one of our public buckets. In this case, the code pulls down our pokemon.csv file from the demo bucket. You can see that having this code stored as a snippet on your computer would be really useful.</span>"
   ]
  },
  {
   "cell_type": "code",
   "execution_count": null,
   "metadata": {
    "ExecuteTime": {
     "end_time": "2018-09-11T01:12:26.286535Z",
     "start_time": "2018-09-11T01:12:23.549327Z"
    }
   },
   "outputs": [],
   "source": [
    "# Import modules\n",
    "import boto3\n",
    "import pandas as pd\n",
    "from io import BytesIO\n",
    "\n",
    "# Set up a client, resource and bucket connection\n",
    "client = boto3.client('s3')\n",
    "resource = boto3.resource('s3')\n",
    "bucket = resource.Bucket('demobucket')\n",
    "\n",
    "# pull down the aws csv file from your bucket\n",
    "csv_file = client.get_object(\n",
    "    Bucket='demobucket', Key='pokemon.csv')\n",
    "\n",
    "# Conver the dataframe to a csv file\n",
    "df = pd.read_csv(BytesIO(csv_file['Body'].read()))\n",
    "\n",
    "# View the head of the dataframe\n",
    "df.head(5)"
   ]
  },
  {
   "cell_type": "markdown",
   "metadata": {},
   "source": [
    "### Read From S3 Function"
   ]
  },
  {
   "cell_type": "code",
   "execution_count": null,
   "metadata": {
    "ExecuteTime": {
     "end_time": "2018-07-03T17:58:37.258276Z",
     "start_time": "2018-07-03T21:58:34.704Z"
    },
    "collapsed": true
   },
   "outputs": [],
   "source": [
    "# Implementing the above code as a function\n",
    "def read_s3_csv(bucket_name, file_path):\n",
    "    '''\n",
    "    Connect to S3 given the bucker named and file key that your have \n",
    "    provided and returns the dataframe\n",
    "    \n",
    "    Parameters\n",
    "    ----------\n",
    "    bucket_names (str): the name of the S3 buckers your connecting to\n",
    "    file_path (str): name of the file within the S3 bucket\n",
    "    \n",
    "    Example\n",
    "    ----------\n",
    "    >>>> read_s3_csv('demobucket','pokemon.csv')\n",
    "    >>>> read_s3_csv('demobucket','digimon.csv')\n",
    "    \n",
    "    '''\n",
    "    client = boto3.client('s3')\n",
    "    resource = boto3.resource('s3')\n",
    "    bucket = resource.Bucket(bucket_name)\n",
    "\n",
    "    csv_file = client.get_object(\n",
    "        Bucket=bucket_name, Key=file_path)\n",
    "\n",
    "    df = pd.read_csv(BytesIO(csv_file['Body'].read()))\n",
    "    return df"
   ]
  },
  {
   "cell_type": "markdown",
   "metadata": {},
   "source": [
    "### Calling the Function"
   ]
  },
  {
   "cell_type": "code",
   "execution_count": null,
   "metadata": {
    "ExecuteTime": {
     "end_time": "2018-07-03T17:58:37.258498Z",
     "start_time": "2018-07-03T21:58:34.708Z"
    }
   },
   "outputs": [],
   "source": [
    "# Rrun the read_s3_function\n",
    "df = read_s3_csv('demobucket','pokemon.csv')\n",
    "\n",
    "# view the head of the dataframe\n",
    "df.head()"
   ]
  },
  {
   "cell_type": "markdown",
   "metadata": {},
   "source": [
    "Author: Kavi Sekhon"
   ]
  }
 ],
 "metadata": {
  "kernelspec": {
   "display_name": "Python 3",
   "language": "python",
   "name": "python3"
  },
  "language_info": {
   "codemirror_mode": {
    "name": "ipython",
    "version": 3
   },
   "file_extension": ".py",
   "mimetype": "text/x-python",
   "name": "python",
   "nbconvert_exporter": "python",
   "pygments_lexer": "ipython3",
   "version": "3.6.6"
  },
  "varInspector": {
   "cols": {
    "lenName": 16,
    "lenType": 16,
    "lenVar": 40
   },
   "kernels_config": {
    "python": {
     "delete_cmd_postfix": "",
     "delete_cmd_prefix": "del ",
     "library": "var_list.py",
     "varRefreshCmd": "print(var_dic_list())"
    },
    "r": {
     "delete_cmd_postfix": ") ",
     "delete_cmd_prefix": "rm(",
     "library": "var_list.r",
     "varRefreshCmd": "cat(var_dic_list()) "
    }
   },
   "types_to_exclude": [
    "module",
    "function",
    "builtin_function_or_method",
    "instance",
    "_Feature"
   ],
   "window_display": false
  }
 },
 "nbformat": 4,
 "nbformat_minor": 2
}
