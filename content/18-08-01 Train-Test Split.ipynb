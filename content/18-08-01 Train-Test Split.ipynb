{
 "cells": [
  {
   "cell_type": "markdown",
   "metadata": {},
   "source": [
    "# Train-Test Split\n",
    "\n",
    "<span>Spliting a dataset into a train and test set is the requirement for evaluating any machine learning model. Sklearn's train-test-split can be used to split you data into a test and validation set. For kaggle competition since the training and testing data is often provide, I normally just use this function to split my data my training and validation set</span>\n",
    "\n",
    "### Import Preliminaries"
   ]
  },
  {
   "cell_type": "code",
   "execution_count": 2,
   "metadata": {
    "ExecuteTime": {
     "end_time": "2018-09-11T06:20:18.323346Z",
     "start_time": "2018-09-11T06:20:17.503104Z"
    }
   },
   "outputs": [],
   "source": [
    "# Import Modules\n",
    "import pandas as pd\n",
    "from sklearn.datasets import load_boston\n",
    "from sklearn.model_selection import train_test_split"
   ]
  },
  {
   "cell_type": "markdown",
   "metadata": {},
   "source": [
    "### Import Data"
   ]
  },
  {
   "cell_type": "code",
   "execution_count": 3,
   "metadata": {
    "ExecuteTime": {
     "end_time": "2018-09-11T06:20:18.333218Z",
     "start_time": "2018-09-11T06:20:18.325101Z"
    }
   },
   "outputs": [
    {
     "name": "stdout",
     "output_type": "stream",
     "text": [
      "Dataframe Feature Shape: (500, 13)\n",
      "Dataframe Target Shape: (500,)\n"
     ]
    }
   ],
   "source": [
    "# Import the data\n",
    "boston = load_boston()\n",
    "X, y = boston.data, boston.target\n",
    "\n",
    "#Shorten the Dataframe making the split easier\n",
    "X, y = X[:500], y[:500] \n",
    "\n",
    "# Print the datafarme shape\n",
    "print (f'Dataframe Feature Shape: {X.shape}')\n",
    "print (f'Dataframe Target Shape: {y.shape}')"
   ]
  },
  {
   "cell_type": "markdown",
   "metadata": {},
   "source": [
    "### Splitting into Training and Testing Set"
   ]
  },
  {
   "cell_type": "code",
   "execution_count": 4,
   "metadata": {
    "ExecuteTime": {
     "end_time": "2018-09-11T06:20:18.341295Z",
     "start_time": "2018-09-11T06:20:18.335894Z"
    }
   },
   "outputs": [
    {
     "name": "stdout",
     "output_type": "stream",
     "text": [
      "Training Feature Shape: (350, 13)\n",
      "Testing Feature Shape: (150, 13)\n",
      "Training Target Shape: (350,)\n",
      "Testing Target Shape: (150,)\n"
     ]
    }
   ],
   "source": [
    "# Traing-Test Split: 70% training, 30% testing\n",
    "X_train, X_test, y_train, y_test = train_test_split( X, y, \n",
    "                                                    test_size=0.30, \n",
    "                                                    random_state=5)\n",
    "\n",
    "# Print the new shapes of our dataframes\n",
    "print (f'Training Feature Shape: {X_train.shape}')\n",
    "print (f'Testing Feature Shape: {X_test.shape}')\n",
    "print (f'Training Target Shape: {y_train.shape}')\n",
    "print (f'Testing Target Shape: {y_test.shape}')"
   ]
  },
  {
   "cell_type": "markdown",
   "metadata": {},
   "source": [
    "### Splitting into Training ,Testing, and Validation Set"
   ]
  },
  {
   "cell_type": "code",
   "execution_count": 5,
   "metadata": {
    "ExecuteTime": {
     "end_time": "2018-09-11T06:20:18.347787Z",
     "start_time": "2018-09-11T06:20:18.343170Z"
    }
   },
   "outputs": [
    {
     "name": "stdout",
     "output_type": "stream",
     "text": [
      "Training Feature Shape: (300, 13)\n",
      "Validation Feature Shape: (100, 13)\n",
      "Testing Feature Shape: (300, 13)\n",
      "\n",
      "Training Target Shape: (300,)\n",
      "Validation Target Shape: (100, 13)\n",
      "Testing Target Shape: (100,)\n"
     ]
    }
   ],
   "source": [
    "# Traing-Test Split: 70% training, 20% testing, 20% validation\n",
    "X_remain, X_val, y_remain, y_val = train_test_split( X, y, \n",
    "                                                    test_size=0.20, \n",
    "                                                    random_state=5)\n",
    "\n",
    "X_train, X_test, y_train, y_test = train_test_split( X_remain, y_remain, \n",
    "                                                    test_size=0.25, \n",
    "                                                    random_state=5)\n",
    "\n",
    "# Print the new shapes of our dataframes\n",
    "print (f'Training Feature Shape: {X_train.shape}')\n",
    "print (f'Validation Feature Shape: {X_val.shape}')\n",
    "print (f'Testing Feature Shape: {X_train.shape}\\n')\n",
    "print (f'Training Target Shape: {y_train.shape}')\n",
    "print (f'Validation Target Shape: {X_val.shape}')\n",
    "print (f'Testing Target Shape: {y_test.shape}')"
   ]
  },
  {
   "cell_type": "markdown",
   "metadata": {},
   "source": [
    "### View the Dataframe"
   ]
  },
  {
   "cell_type": "code",
   "execution_count": 6,
   "metadata": {
    "ExecuteTime": {
     "end_time": "2018-09-11T06:20:18.374595Z",
     "start_time": "2018-09-11T06:20:18.350021Z"
    }
   },
   "outputs": [
    {
     "data": {
      "text/html": [
       "<div>\n",
       "<style scoped>\n",
       "    .dataframe tbody tr th:only-of-type {\n",
       "        vertical-align: middle;\n",
       "    }\n",
       "\n",
       "    .dataframe tbody tr th {\n",
       "        vertical-align: top;\n",
       "    }\n",
       "\n",
       "    .dataframe thead th {\n",
       "        text-align: right;\n",
       "    }\n",
       "</style>\n",
       "<table border=\"1\" class=\"dataframe\">\n",
       "  <thead>\n",
       "    <tr style=\"text-align: right;\">\n",
       "      <th></th>\n",
       "      <th>0</th>\n",
       "      <th>1</th>\n",
       "      <th>2</th>\n",
       "      <th>3</th>\n",
       "      <th>4</th>\n",
       "      <th>5</th>\n",
       "      <th>6</th>\n",
       "      <th>7</th>\n",
       "      <th>8</th>\n",
       "      <th>9</th>\n",
       "      <th>10</th>\n",
       "      <th>11</th>\n",
       "      <th>12</th>\n",
       "    </tr>\n",
       "  </thead>\n",
       "  <tbody>\n",
       "    <tr>\n",
       "      <th>0</th>\n",
       "      <td>0.10612</td>\n",
       "      <td>30.0</td>\n",
       "      <td>4.93</td>\n",
       "      <td>0.0</td>\n",
       "      <td>0.428</td>\n",
       "      <td>6.095</td>\n",
       "      <td>65.1</td>\n",
       "      <td>6.3361</td>\n",
       "      <td>6.0</td>\n",
       "      <td>300.0</td>\n",
       "      <td>16.6</td>\n",
       "      <td>394.62</td>\n",
       "      <td>12.40</td>\n",
       "    </tr>\n",
       "    <tr>\n",
       "      <th>1</th>\n",
       "      <td>9.32909</td>\n",
       "      <td>0.0</td>\n",
       "      <td>18.10</td>\n",
       "      <td>0.0</td>\n",
       "      <td>0.713</td>\n",
       "      <td>6.185</td>\n",
       "      <td>98.7</td>\n",
       "      <td>2.2616</td>\n",
       "      <td>24.0</td>\n",
       "      <td>666.0</td>\n",
       "      <td>20.2</td>\n",
       "      <td>396.90</td>\n",
       "      <td>18.13</td>\n",
       "    </tr>\n",
       "    <tr>\n",
       "      <th>2</th>\n",
       "      <td>0.09512</td>\n",
       "      <td>0.0</td>\n",
       "      <td>12.83</td>\n",
       "      <td>0.0</td>\n",
       "      <td>0.437</td>\n",
       "      <td>6.286</td>\n",
       "      <td>45.0</td>\n",
       "      <td>4.5026</td>\n",
       "      <td>5.0</td>\n",
       "      <td>398.0</td>\n",
       "      <td>18.7</td>\n",
       "      <td>383.23</td>\n",
       "      <td>8.94</td>\n",
       "    </tr>\n",
       "    <tr>\n",
       "      <th>3</th>\n",
       "      <td>0.21719</td>\n",
       "      <td>0.0</td>\n",
       "      <td>10.59</td>\n",
       "      <td>1.0</td>\n",
       "      <td>0.489</td>\n",
       "      <td>5.807</td>\n",
       "      <td>53.8</td>\n",
       "      <td>3.6526</td>\n",
       "      <td>4.0</td>\n",
       "      <td>277.0</td>\n",
       "      <td>18.6</td>\n",
       "      <td>390.94</td>\n",
       "      <td>16.03</td>\n",
       "    </tr>\n",
       "    <tr>\n",
       "      <th>4</th>\n",
       "      <td>5.70818</td>\n",
       "      <td>0.0</td>\n",
       "      <td>18.10</td>\n",
       "      <td>0.0</td>\n",
       "      <td>0.532</td>\n",
       "      <td>6.750</td>\n",
       "      <td>74.9</td>\n",
       "      <td>3.3317</td>\n",
       "      <td>24.0</td>\n",
       "      <td>666.0</td>\n",
       "      <td>20.2</td>\n",
       "      <td>393.07</td>\n",
       "      <td>7.74</td>\n",
       "    </tr>\n",
       "  </tbody>\n",
       "</table>\n",
       "</div>"
      ],
      "text/plain": [
       "        0     1      2    3      4      5     6       7     8      9     10  \\\n",
       "0  0.10612  30.0   4.93  0.0  0.428  6.095  65.1  6.3361   6.0  300.0  16.6   \n",
       "1  9.32909   0.0  18.10  0.0  0.713  6.185  98.7  2.2616  24.0  666.0  20.2   \n",
       "2  0.09512   0.0  12.83  0.0  0.437  6.286  45.0  4.5026   5.0  398.0  18.7   \n",
       "3  0.21719   0.0  10.59  1.0  0.489  5.807  53.8  3.6526   4.0  277.0  18.6   \n",
       "4  5.70818   0.0  18.10  0.0  0.532  6.750  74.9  3.3317  24.0  666.0  20.2   \n",
       "\n",
       "       11     12  \n",
       "0  394.62  12.40  \n",
       "1  396.90  18.13  \n",
       "2  383.23   8.94  \n",
       "3  390.94  16.03  \n",
       "4  393.07   7.74  "
      ]
     },
     "execution_count": 6,
     "metadata": {},
     "output_type": "execute_result"
    }
   ],
   "source": [
    "# Create a dataframe for the validation data for viewing\n",
    "pd.DataFrame(X_val).head()"
   ]
  },
  {
   "cell_type": "markdown",
   "metadata": {},
   "source": [
    "Author: Kavi Sekhon"
   ]
  }
 ],
 "metadata": {
  "kernelspec": {
   "display_name": "Python 3",
   "language": "python",
   "name": "python3"
  },
  "language_info": {
   "codemirror_mode": {
    "name": "ipython",
    "version": 3
   },
   "file_extension": ".py",
   "mimetype": "text/x-python",
   "name": "python",
   "nbconvert_exporter": "python",
   "pygments_lexer": "ipython3",
   "version": "3.6.6"
  },
  "varInspector": {
   "cols": {
    "lenName": 16,
    "lenType": 16,
    "lenVar": 40
   },
   "kernels_config": {
    "python": {
     "delete_cmd_postfix": "",
     "delete_cmd_prefix": "del ",
     "library": "var_list.py",
     "varRefreshCmd": "print(var_dic_list())"
    },
    "r": {
     "delete_cmd_postfix": ") ",
     "delete_cmd_prefix": "rm(",
     "library": "var_list.r",
     "varRefreshCmd": "cat(var_dic_list()) "
    }
   },
   "types_to_exclude": [
    "module",
    "function",
    "builtin_function_or_method",
    "instance",
    "_Feature"
   ],
   "window_display": false
  }
 },
 "nbformat": 4,
 "nbformat_minor": 2
}
