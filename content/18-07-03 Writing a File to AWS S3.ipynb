{
 "cells": [
  {
   "cell_type": "markdown",
   "metadata": {},
   "source": [
    "# Writing a File to AWS S3\n",
    "\n",
    "<span>This notebook connects to a public bucket on Amazon Webservice's S3 Cloud Service and downloads the data to the notebook. Having the data store on the cloud makes it possible for anyone on our team to pull data and use it for their analysis. Note, that you will need to create an Amazon S3 bucket and bucket policy beforehand.</span>"
   ]
  },
  {
   "cell_type": "markdown",
   "metadata": {},
   "source": [
    "### Import Data"
   ]
  },
  {
   "cell_type": "code",
   "execution_count": null,
   "metadata": {
    "ExecuteTime": {
     "end_time": "2018-09-11T01:00:01.456812Z",
     "start_time": "2018-09-11T01:00:01.134787Z"
    }
   },
   "outputs": [],
   "source": [
    "# Import modules\n",
    "import pandas as pd\n",
    "import boto3\n",
    "from io import StringIO\n",
    "\n",
    "# Import some pokemon data\n",
    "df = pd.read_csv('Data/pokemon.csv')\n",
    "\n",
    "# View the head of the data\n",
    "df.head()"
   ]
  },
  {
   "cell_type": "markdown",
   "metadata": {},
   "source": [
    "### Saving Data to AWS S3"
   ]
  },
  {
   "cell_type": "code",
   "execution_count": null,
   "metadata": {
    "ExecuteTime": {
     "end_time": "2018-09-11T01:03:14.510364Z",
     "start_time": "2018-09-11T01:03:14.390466Z"
    }
   },
   "outputs": [],
   "source": [
    "# Create a csv string buffer\n",
    "csv_buffer = StringIO()\n",
    "\n",
    "# same dataframe to csv buffer\n",
    "df.to_csv(csv_buffer)\n",
    "\n",
    "# Intializes the S3 resource in boto3\n",
    "s3 = boto3.resource('s3')\n",
    "\n",
    "# Connect to a public bucker and save our data \n",
    "# 'bucker_name' is a placeholder for this example\n",
    "s3.Bucket('bucket_name').put_object(\n",
    "    Key='demo/pokemon.csv', Body=csv_buffer.getvalue())"
   ]
  },
  {
   "cell_type": "markdown",
   "metadata": {},
   "source": [
    "Author: Kavi Sekhon"
   ]
  }
 ],
 "metadata": {
  "kernelspec": {
   "display_name": "Python 3",
   "language": "python",
   "name": "python3"
  },
  "language_info": {
   "codemirror_mode": {
    "name": "ipython",
    "version": 3
   },
   "file_extension": ".py",
   "mimetype": "text/x-python",
   "name": "python",
   "nbconvert_exporter": "python",
   "pygments_lexer": "ipython3",
   "version": "3.6.6"
  },
  "varInspector": {
   "cols": {
    "lenName": 16,
    "lenType": 16,
    "lenVar": 40
   },
   "kernels_config": {
    "python": {
     "delete_cmd_postfix": "",
     "delete_cmd_prefix": "del ",
     "library": "var_list.py",
     "varRefreshCmd": "print(var_dic_list())"
    },
    "r": {
     "delete_cmd_postfix": ") ",
     "delete_cmd_prefix": "rm(",
     "library": "var_list.r",
     "varRefreshCmd": "cat(var_dic_list()) "
    }
   },
   "types_to_exclude": [
    "module",
    "function",
    "builtin_function_or_method",
    "instance",
    "_Feature"
   ],
   "window_display": false
  }
 },
 "nbformat": 4,
 "nbformat_minor": 2
}
