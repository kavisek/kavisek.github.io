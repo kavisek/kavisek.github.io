{
 "cells": [
  {
   "cell_type": "markdown",
   "metadata": {},
   "source": [
    "# Downsampling\n",
    "\n",
    "<span> In supervised learning, many datasets contain data that is class imbalanced. Therefore you will have to downsample the majority class to match the minority class shape. Below I have created a function that can downsample numpy data.</span>"
   ]
  },
  {
   "cell_type": "markdown",
   "metadata": {},
   "source": [
    "### Import Preliminaries"
   ]
  },
  {
   "cell_type": "code",
   "execution_count": 2,
   "metadata": {
    "ExecuteTime": {
     "end_time": "2018-09-11T07:43:34.572913Z",
     "start_time": "2018-09-11T07:43:34.090528Z"
    }
   },
   "outputs": [],
   "source": [
    "# Import modules\n",
    "import numpy as np\n",
    "import pandas as pd\n",
    "from sklearn.datasets import load_iris"
   ]
  },
  {
   "cell_type": "markdown",
   "metadata": {},
   "source": [
    "### Import Data"
   ]
  },
  {
   "cell_type": "code",
   "execution_count": 3,
   "metadata": {
    "ExecuteTime": {
     "end_time": "2018-09-11T07:43:34.580102Z",
     "start_time": "2018-09-11T07:43:34.575038Z"
    }
   },
   "outputs": [],
   "source": [
    "# Import data\n",
    "iris = load_iris()\n",
    "X, y = iris.data[:80], iris.target[:80]"
   ]
  },
  {
   "cell_type": "markdown",
   "metadata": {},
   "source": [
    "### View Class Imbalance"
   ]
  },
  {
   "cell_type": "code",
   "execution_count": 4,
   "metadata": {
    "ExecuteTime": {
     "end_time": "2018-09-11T07:43:34.594260Z",
     "start_time": "2018-09-11T07:43:34.581691Z"
    }
   },
   "outputs": [
    {
     "data": {
      "text/plain": [
       "0    50\n",
       "1    30\n",
       "dtype: int64"
      ]
     },
     "execution_count": 4,
     "metadata": {},
     "output_type": "execute_result"
    }
   ],
   "source": [
    "# View value counts\n",
    "pd.Series(y).value_counts()"
   ]
  },
  {
   "cell_type": "markdown",
   "metadata": {},
   "source": [
    "### Retrieve Downsampled Class Index"
   ]
  },
  {
   "cell_type": "code",
   "execution_count": 5,
   "metadata": {
    "ExecuteTime": {
     "end_time": "2018-09-11T07:43:34.600381Z",
     "start_time": "2018-09-11T07:43:34.596065Z"
    }
   },
   "outputs": [
    {
     "data": {
      "text/plain": [
       "(array([50, 51, 52, 53, 54]), array([0, 1, 2, 3, 4]))"
      ]
     },
     "execution_count": 5,
     "metadata": {},
     "output_type": "execute_result"
    }
   ],
   "source": [
    "# Indicies of each class' observation\n",
    "class_0 = np.where(y==0)[0]\n",
    "class_1 = np.where(y==1)[0]\n",
    "class_1[:5], class_0[:5]"
   ]
  },
  {
   "cell_type": "code",
   "execution_count": 6,
   "metadata": {
    "ExecuteTime": {
     "end_time": "2018-09-11T07:43:34.606655Z",
     "start_time": "2018-09-11T07:43:34.602205Z"
    }
   },
   "outputs": [
    {
     "data": {
      "text/plain": [
       "array([ 7, 38, 34, 15,  2, 18,  1, 49, 28,  5, 13, 43, 33, 35, 31, 45, 12,\n",
       "       23,  9,  0, 29, 41, 24,  6, 14, 27, 44, 10, 11, 26])"
      ]
     },
     "execution_count": 6,
     "metadata": {},
     "output_type": "execute_result"
    }
   ],
   "source": [
    "# Random select indices from the magority class to fit\n",
    "# the minority class\n",
    "class_0_downsampled = np.random.choice(class_0, \n",
    "                                       size=len(class_1), \n",
    "                                       replace=False)\n",
    "class_0_downsampled"
   ]
  },
  {
   "cell_type": "code",
   "execution_count": 7,
   "metadata": {
    "ExecuteTime": {
     "end_time": "2018-09-11T07:43:34.613056Z",
     "start_time": "2018-09-11T07:43:34.608849Z"
    }
   },
   "outputs": [
    {
     "data": {
      "text/plain": [
       "array([ 7, 38, 34, 15,  2, 18,  1, 49, 28,  5, 13, 43, 33, 35, 31, 45, 12,\n",
       "       23,  9,  0, 29, 41, 24,  6, 14, 27, 44, 10, 11, 26, 50, 51, 52, 53,\n",
       "       54, 55, 56, 57, 58, 59, 60, 61, 62, 63, 64, 65, 66, 67, 68, 69, 70,\n",
       "       71, 72, 73, 74, 75, 76, 77, 78, 79])"
      ]
     },
     "execution_count": 7,
     "metadata": {},
     "output_type": "execute_result"
    }
   ],
   "source": [
    "# Stack the minority class index and dowmsampled majority class\n",
    "downsampled_index = np.hstack((class_0_downsampled, class_1))\n",
    "downsampled_index"
   ]
  },
  {
   "cell_type": "code",
   "execution_count": 8,
   "metadata": {
    "ExecuteTime": {
     "end_time": "2018-09-11T07:43:34.618927Z",
     "start_time": "2018-09-11T07:43:34.615044Z"
    }
   },
   "outputs": [
    {
     "data": {
      "text/plain": [
       "array([ 0,  1,  2,  5,  6,  7,  9, 10, 11, 12, 13, 14, 15, 18, 23, 24, 26,\n",
       "       27, 28, 29, 31, 33, 34, 35, 38, 41, 43, 44, 45, 49, 50, 51, 52, 53,\n",
       "       54, 55, 56, 57, 58, 59, 60, 61, 62, 63, 64, 65, 66, 67, 68, 69, 70,\n",
       "       71, 72, 73, 74, 75, 76, 77, 78, 79])"
      ]
     },
     "execution_count": 8,
     "metadata": {},
     "output_type": "execute_result"
    }
   ],
   "source": [
    "# Sort the index\n",
    "downsampled_index.sort()\n",
    "downsampled_index"
   ]
  },
  {
   "cell_type": "markdown",
   "metadata": {},
   "source": [
    "### Downsampling Data"
   ]
  },
  {
   "cell_type": "code",
   "execution_count": 9,
   "metadata": {
    "ExecuteTime": {
     "end_time": "2018-09-11T07:43:34.624109Z",
     "start_time": "2018-09-11T07:43:34.620798Z"
    }
   },
   "outputs": [
    {
     "name": "stdout",
     "output_type": "stream",
     "text": [
      "DataFrame Shape of X: 60\n",
      "DataFrame Shape of y: 60\n"
     ]
    }
   ],
   "source": [
    "# Down sample dataset\n",
    "X, y = X[downsampled_index], y[downsampled_index]\n",
    "\n",
    "# View new dataset sizes\n",
    "print(f'DataFrame Shape of X: {len(X)}')\n",
    "print(f'DataFrame Shape of y: {len(y)}')"
   ]
  },
  {
   "cell_type": "code",
   "execution_count": 10,
   "metadata": {
    "ExecuteTime": {
     "end_time": "2018-09-11T07:43:34.630367Z",
     "start_time": "2018-09-11T07:43:34.625637Z"
    }
   },
   "outputs": [
    {
     "data": {
      "text/plain": [
       "1    30\n",
       "0    30\n",
       "dtype: int64"
      ]
     },
     "execution_count": 10,
     "metadata": {},
     "output_type": "execute_result"
    }
   ],
   "source": [
    "# View the class counts of y\n",
    "pd.Series(y).value_counts()"
   ]
  },
  {
   "cell_type": "markdown",
   "metadata": {},
   "source": [
    "### Creating a Function for Downsampling"
   ]
  },
  {
   "cell_type": "code",
   "execution_count": 11,
   "metadata": {
    "ExecuteTime": {
     "end_time": "2018-09-11T07:43:34.637477Z",
     "start_time": "2018-09-11T07:43:34.632375Z"
    }
   },
   "outputs": [],
   "source": [
    "def binary_random_downsample(X, y):\n",
    "    '''\n",
    "    Function conduct downsampling for binary crossentropy problem\n",
    "    between to classes\n",
    "    \n",
    "    Parameters\n",
    "    ----------\n",
    "    X: numpy matrix containing all the features of the dataset\n",
    "    y: numpy 1D array containing all target values of the dataset \n",
    "    \n",
    "    Examples\n",
    "    ----------\n",
    "    >>>> X, y = binary_random_downsample(X,y)\n",
    "    '''\n",
    "    \n",
    "    assert type(X) == np.ndarray, 'Make sure X is a numpy array'\n",
    "    assert type(y) == np.ndarray, \"Make sure y is a numpy array\"\n",
    "    \n",
    "    class_0 = np.where(y==0)[0]\n",
    "    class_1 = np.where(y==1)[0]\n",
    "    \n",
    "    if len(class_0) > len(class_1):\n",
    "        magc = class_0\n",
    "        minc = class_1\n",
    "    else:\n",
    "        magc = class_1\n",
    "        minc = class_0\n",
    "    \n",
    "    mag_class_downsampled = np.random.choice(magc, \n",
    "                                       size=len(minc), \n",
    "                                       replace=False)\n",
    "    \n",
    "    downsampled_index = np.hstack((mag_class_downsampled, minc))\n",
    "    downsampled_index.sort()\n",
    "    X, y = X[downsampled_index], y[downsampled_index]\n",
    "    \n",
    "    return X,y"
   ]
  },
  {
   "cell_type": "markdown",
   "metadata": {},
   "source": [
    "### Testing our Function"
   ]
  },
  {
   "cell_type": "code",
   "execution_count": 12,
   "metadata": {
    "ExecuteTime": {
     "end_time": "2018-09-11T07:43:34.644837Z",
     "start_time": "2018-09-11T07:43:34.639286Z"
    }
   },
   "outputs": [
    {
     "name": "stdout",
     "output_type": "stream",
     "text": [
      "DataFrame Shape of X: 60\n",
      "DataFrame Shape of y: 60\n"
     ]
    }
   ],
   "source": [
    "# Import data and run our function, print the results\n",
    "iris = load_iris()\n",
    "X, y = iris.data[:80], iris.target[:80]\n",
    "X, y = binary_random_downsample(X,y)\n",
    "\n",
    "print(f'DataFrame Shape of X: {len(X)}')\n",
    "print(f'DataFrame Shape of y: {len(y)}')"
   ]
  },
  {
   "cell_type": "markdown",
   "metadata": {},
   "source": [
    "Author: Kavi Sekhon"
   ]
  }
 ],
 "metadata": {
  "kernelspec": {
   "display_name": "Python 3",
   "language": "python",
   "name": "python3"
  },
  "language_info": {
   "codemirror_mode": {
    "name": "ipython",
    "version": 3
   },
   "file_extension": ".py",
   "mimetype": "text/x-python",
   "name": "python",
   "nbconvert_exporter": "python",
   "pygments_lexer": "ipython3",
   "version": "3.6.6"
  },
  "varInspector": {
   "cols": {
    "lenName": 16,
    "lenType": 16,
    "lenVar": 40
   },
   "kernels_config": {
    "python": {
     "delete_cmd_postfix": "",
     "delete_cmd_prefix": "del ",
     "library": "var_list.py",
     "varRefreshCmd": "print(var_dic_list())"
    },
    "r": {
     "delete_cmd_postfix": ") ",
     "delete_cmd_prefix": "rm(",
     "library": "var_list.r",
     "varRefreshCmd": "cat(var_dic_list()) "
    }
   },
   "types_to_exclude": [
    "module",
    "function",
    "builtin_function_or_method",
    "instance",
    "_Feature"
   ],
   "window_display": false
  }
 },
 "nbformat": 4,
 "nbformat_minor": 2
}
