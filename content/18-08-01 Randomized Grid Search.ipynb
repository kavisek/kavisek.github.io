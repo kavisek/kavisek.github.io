{
 "cells": [
  {
   "cell_type": "markdown",
   "metadata": {},
   "source": [
    "# Randomized Grid Search\n",
    "\n",
    "<span>Manual hyperparameter searching? No way. Scikit Learn has a got an amazing random grid search function that can give us a hint into the best parameters by calling its class, setting up a dictionary with all parameters, and letting it fly. This example below his using a K-Nearest Neighbours model for its example. After the Randomize Grid Search is done, you can pull the best parameter for your model, and as well as take a look a the history of the previous combination of parameters.</span>\n",
    "    \n",
    "### Import Preliminaries"
   ]
  },
  {
   "cell_type": "code",
   "execution_count": 6,
   "metadata": {
    "ExecuteTime": {
     "end_time": "2018-09-11T06:53:55.133634Z",
     "start_time": "2018-09-11T06:53:54.936962Z"
    }
   },
   "outputs": [
    {
     "data": {
      "text/plain": [
       "RandomizedSearchCV(cv=10, error_score='raise',\n",
       "          estimator=KNeighborsClassifier(algorithm='auto', leaf_size=30, metric='minkowski',\n",
       "           metric_params=None, n_jobs=1, n_neighbors=5, p=2,\n",
       "           weights='uniform'),\n",
       "          fit_params=None, iid=True, n_iter=10, n_jobs=1,\n",
       "          param_distributions={'n_neighbors': [1, 2, 3, 4, 5, 6, 7, 8, 9, 10], 'weights': ['uniform', 'distance'], 'p': [1, 2]},\n",
       "          pre_dispatch='2*n_jobs', random_state=None, refit=True,\n",
       "          return_train_score=True, scoring='accuracy', verbose=0)"
      ]
     },
     "execution_count": 6,
     "metadata": {},
     "output_type": "execute_result"
    }
   ],
   "source": [
    "# Import modulse\n",
    "import numpy as np\n",
    "import pandas as pd\n",
    "from sklearn.cross_validation import cross_val_score\n",
    "from sklearn.datasets import load_iris\n",
    "from sklearn.model_selection import RandomizedSearchCV\n",
    "from sklearn.neighbors import KNeighborsClassifier\n",
    "\n",
    "\n",
    "# Import iris dataset \n",
    "iris = load_iris()\n",
    "X, y = iris.data, iris.target\n",
    "\n",
    "# Assign classifier\n",
    "classifier = KNeighborsClassifier(n_neighbors=5, weights='uniform', \n",
    "                                 metric ='minkowski', p=2)\n",
    "\n",
    "# Intiate a grid dictionary\n",
    "grid = {'n_neighbors':list(range(1,11)), 'weights':['uniform', 'distance'],\n",
    "       'p':[1,2], }\n",
    "\n",
    "# Declare randomized search on model using our param grid\n",
    "random_search = RandomizedSearchCV(estimator=classifier, \n",
    "                                   param_distributions = grid, \n",
    "                                   n_iter = 10, scoring = 'accuracy', \n",
    "                                   n_jobs=1, refit=True,\n",
    "                                   cv = 10,\n",
    "                                   return_train_score=True)\n",
    "\n",
    "# Fit the randomized search model with our data\n",
    "random_search.fit(X,y)"
   ]
  },
  {
   "cell_type": "markdown",
   "metadata": {},
   "source": [
    "### Randomized Grid Search Score"
   ]
  },
  {
   "cell_type": "code",
   "execution_count": 7,
   "metadata": {
    "ExecuteTime": {
     "end_time": "2018-09-11T06:53:55.389911Z",
     "start_time": "2018-09-11T06:53:55.386244Z"
    }
   },
   "outputs": [
    {
     "name": "stdout",
     "output_type": "stream",
     "text": [
      "Best parameters: {'weights': 'distance', 'p': 2, 'n_neighbors': 10}\n",
      "CV Accuracy of best parameters: 0.973\n"
     ]
    }
   ],
   "source": [
    "# Print the best parameters and its best accuracy score\n",
    "print('Best parameters: %s'%random_search.best_params_)\n",
    "print('CV Accuracy of best parameters: %.3f'%random_search.best_score_)"
   ]
  },
  {
   "cell_type": "markdown",
   "metadata": {},
   "source": [
    "- This method is more computationaly visable then a full grid search\n",
    "- The result will change each time the model is fitted"
   ]
  },
  {
   "cell_type": "markdown",
   "metadata": {},
   "source": [
    "### Baseline Cross Validation Score"
   ]
  },
  {
   "cell_type": "code",
   "execution_count": 8,
   "metadata": {
    "ExecuteTime": {
     "end_time": "2018-09-11T06:53:55.933857Z",
     "start_time": "2018-09-11T06:53:55.916496Z"
    }
   },
   "outputs": [
    {
     "name": "stdout",
     "output_type": "stream",
     "text": [
      "Baseline with default parameters: 0.967\n"
     ]
    }
   ],
   "source": [
    "# Print our current accuracy score using our current parameters\n",
    "print ('Baseline with default parameters: %.3f' %np.mean(\n",
    "        cross_val_score(classifier, X, y, cv=10, scoring='accuracy', n_jobs=1)))"
   ]
  },
  {
   "cell_type": "markdown",
   "metadata": {},
   "source": [
    "### Viewing Randomized Grid Score"
   ]
  },
  {
   "cell_type": "code",
   "execution_count": 9,
   "metadata": {
    "ExecuteTime": {
     "end_time": "2018-09-11T06:53:56.538971Z",
     "start_time": "2018-09-11T06:53:56.534441Z"
    }
   },
   "outputs": [
    {
     "name": "stderr",
     "output_type": "stream",
     "text": [
      "/Users/kavi/anaconda3/envs/main/lib/python3.6/site-packages/sklearn/model_selection/_search.py:747: DeprecationWarning: The grid_scores_ attribute was deprecated in version 0.18 in favor of the more elaborate cv_results_ attribute. The grid_scores_ attribute will not be available from 0.20\n",
      "  DeprecationWarning)\n"
     ]
    },
    {
     "data": {
      "text/plain": [
       "[mean: 0.96000, std: 0.05333, params: {'weights': 'distance', 'p': 2, 'n_neighbors': 2},\n",
       " mean: 0.97333, std: 0.03266, params: {'weights': 'distance', 'p': 2, 'n_neighbors': 10},\n",
       " mean: 0.96000, std: 0.05333, params: {'weights': 'distance', 'p': 2, 'n_neighbors': 1},\n",
       " mean: 0.96667, std: 0.04472, params: {'weights': 'distance', 'p': 2, 'n_neighbors': 4},\n",
       " mean: 0.96667, std: 0.04472, params: {'weights': 'distance', 'p': 2, 'n_neighbors': 8},\n",
       " mean: 0.96667, std: 0.04472, params: {'weights': 'uniform', 'p': 2, 'n_neighbors': 7},\n",
       " mean: 0.95333, std: 0.06700, params: {'weights': 'uniform', 'p': 1, 'n_neighbors': 4},\n",
       " mean: 0.95333, std: 0.05207, params: {'weights': 'uniform', 'p': 1, 'n_neighbors': 7},\n",
       " mean: 0.94000, std: 0.06289, params: {'weights': 'uniform', 'p': 1, 'n_neighbors': 2},\n",
       " mean: 0.97333, std: 0.03266, params: {'weights': 'uniform', 'p': 1, 'n_neighbors': 9}]"
      ]
     },
     "execution_count": 9,
     "metadata": {},
     "output_type": "execute_result"
    }
   ],
   "source": [
    "# The grid scores attribute is now depricated, \n",
    "# but I'll use it till its completely gone\n",
    "random_search.grid_scores_"
   ]
  },
  {
   "cell_type": "code",
   "execution_count": 11,
   "metadata": {
    "ExecuteTime": {
     "end_time": "2018-09-11T06:54:14.311981Z",
     "start_time": "2018-09-11T06:54:14.288237Z"
    }
   },
   "outputs": [
    {
     "data": {
      "text/html": [
       "<div>\n",
       "<style scoped>\n",
       "    .dataframe tbody tr th:only-of-type {\n",
       "        vertical-align: middle;\n",
       "    }\n",
       "\n",
       "    .dataframe tbody tr th {\n",
       "        vertical-align: top;\n",
       "    }\n",
       "\n",
       "    .dataframe thead th {\n",
       "        text-align: right;\n",
       "    }\n",
       "</style>\n",
       "<table border=\"1\" class=\"dataframe\">\n",
       "  <thead>\n",
       "    <tr style=\"text-align: right;\">\n",
       "      <th></th>\n",
       "      <th>mean_fit_time</th>\n",
       "      <th>std_fit_time</th>\n",
       "      <th>mean_score_time</th>\n",
       "      <th>std_score_time</th>\n",
       "      <th>param_weights</th>\n",
       "      <th>param_p</th>\n",
       "      <th>param_n_neighbors</th>\n",
       "      <th>params</th>\n",
       "      <th>split0_test_score</th>\n",
       "      <th>split1_test_score</th>\n",
       "      <th>...</th>\n",
       "      <th>split2_train_score</th>\n",
       "      <th>split3_train_score</th>\n",
       "      <th>split4_train_score</th>\n",
       "      <th>split5_train_score</th>\n",
       "      <th>split6_train_score</th>\n",
       "      <th>split7_train_score</th>\n",
       "      <th>split8_train_score</th>\n",
       "      <th>split9_train_score</th>\n",
       "      <th>mean_train_score</th>\n",
       "      <th>std_train_score</th>\n",
       "    </tr>\n",
       "  </thead>\n",
       "  <tbody>\n",
       "    <tr>\n",
       "      <th>0</th>\n",
       "      <td>0.000292</td>\n",
       "      <td>0.000037</td>\n",
       "      <td>0.000545</td>\n",
       "      <td>0.000114</td>\n",
       "      <td>distance</td>\n",
       "      <td>2</td>\n",
       "      <td>2</td>\n",
       "      <td>{'weights': 'distance', 'p': 2, 'n_neighbors': 2}</td>\n",
       "      <td>1.0</td>\n",
       "      <td>0.933333</td>\n",
       "      <td>...</td>\n",
       "      <td>1.0</td>\n",
       "      <td>1.0</td>\n",
       "      <td>1.0</td>\n",
       "      <td>1.0</td>\n",
       "      <td>1.0</td>\n",
       "      <td>1.0</td>\n",
       "      <td>1.0</td>\n",
       "      <td>1.0</td>\n",
       "      <td>1.0</td>\n",
       "      <td>0.0</td>\n",
       "    </tr>\n",
       "    <tr>\n",
       "      <th>1</th>\n",
       "      <td>0.000293</td>\n",
       "      <td>0.000102</td>\n",
       "      <td>0.000528</td>\n",
       "      <td>0.000087</td>\n",
       "      <td>distance</td>\n",
       "      <td>2</td>\n",
       "      <td>10</td>\n",
       "      <td>{'weights': 'distance', 'p': 2, 'n_neighbors':...</td>\n",
       "      <td>1.0</td>\n",
       "      <td>0.933333</td>\n",
       "      <td>...</td>\n",
       "      <td>1.0</td>\n",
       "      <td>1.0</td>\n",
       "      <td>1.0</td>\n",
       "      <td>1.0</td>\n",
       "      <td>1.0</td>\n",
       "      <td>1.0</td>\n",
       "      <td>1.0</td>\n",
       "      <td>1.0</td>\n",
       "      <td>1.0</td>\n",
       "      <td>0.0</td>\n",
       "    </tr>\n",
       "    <tr>\n",
       "      <th>2</th>\n",
       "      <td>0.000265</td>\n",
       "      <td>0.000024</td>\n",
       "      <td>0.000493</td>\n",
       "      <td>0.000094</td>\n",
       "      <td>distance</td>\n",
       "      <td>2</td>\n",
       "      <td>1</td>\n",
       "      <td>{'weights': 'distance', 'p': 2, 'n_neighbors': 1}</td>\n",
       "      <td>1.0</td>\n",
       "      <td>0.933333</td>\n",
       "      <td>...</td>\n",
       "      <td>1.0</td>\n",
       "      <td>1.0</td>\n",
       "      <td>1.0</td>\n",
       "      <td>1.0</td>\n",
       "      <td>1.0</td>\n",
       "      <td>1.0</td>\n",
       "      <td>1.0</td>\n",
       "      <td>1.0</td>\n",
       "      <td>1.0</td>\n",
       "      <td>0.0</td>\n",
       "    </tr>\n",
       "  </tbody>\n",
       "</table>\n",
       "<p>3 rows × 33 columns</p>\n",
       "</div>"
      ],
      "text/plain": [
       "   mean_fit_time  std_fit_time  mean_score_time  std_score_time param_weights  \\\n",
       "0       0.000292      0.000037         0.000545        0.000114      distance   \n",
       "1       0.000293      0.000102         0.000528        0.000087      distance   \n",
       "2       0.000265      0.000024         0.000493        0.000094      distance   \n",
       "\n",
       "  param_p param_n_neighbors  \\\n",
       "0       2                 2   \n",
       "1       2                10   \n",
       "2       2                 1   \n",
       "\n",
       "                                              params  split0_test_score  \\\n",
       "0  {'weights': 'distance', 'p': 2, 'n_neighbors': 2}                1.0   \n",
       "1  {'weights': 'distance', 'p': 2, 'n_neighbors':...                1.0   \n",
       "2  {'weights': 'distance', 'p': 2, 'n_neighbors': 1}                1.0   \n",
       "\n",
       "   split1_test_score       ...         split2_train_score  split3_train_score  \\\n",
       "0           0.933333       ...                        1.0                 1.0   \n",
       "1           0.933333       ...                        1.0                 1.0   \n",
       "2           0.933333       ...                        1.0                 1.0   \n",
       "\n",
       "   split4_train_score  split5_train_score  split6_train_score  \\\n",
       "0                 1.0                 1.0                 1.0   \n",
       "1                 1.0                 1.0                 1.0   \n",
       "2                 1.0                 1.0                 1.0   \n",
       "\n",
       "   split7_train_score  split8_train_score  split9_train_score  \\\n",
       "0                 1.0                 1.0                 1.0   \n",
       "1                 1.0                 1.0                 1.0   \n",
       "2                 1.0                 1.0                 1.0   \n",
       "\n",
       "   mean_train_score  std_train_score  \n",
       "0               1.0              0.0  \n",
       "1               1.0              0.0  \n",
       "2               1.0              0.0  \n",
       "\n",
       "[3 rows x 33 columns]"
      ]
     },
     "execution_count": 11,
     "metadata": {},
     "output_type": "execute_result"
    }
   ],
   "source": [
    "# The new cv_results attribute outpute our results in JSON\n",
    "# Throw it in a dataframe to make some sense of it\n",
    "json_df = pd.DataFrame(random_search.cv_results_).head(3)\n",
    "json_df "
   ]
  },
  {
   "cell_type": "code",
   "execution_count": 12,
   "metadata": {
    "ExecuteTime": {
     "end_time": "2018-09-11T06:54:21.580928Z",
     "start_time": "2018-09-11T06:54:21.565951Z"
    }
   },
   "outputs": [
    {
     "data": {
      "text/plain": [
       "{'mean_fit_time': array([ 0.00029211,  0.00029318,  0.00026453,  0.00026796,  0.00027027,\n",
       "         0.00027721,  0.00029645,  0.00026639,  0.00025463,  0.00026634]),\n",
       " 'std_fit_time': array([  3.71983109e-05,   1.02307524e-04,   2.38624127e-05,\n",
       "          2.79288718e-05,   3.62967054e-05,   4.16681812e-05,\n",
       "          5.36330741e-05,   2.61113629e-05,   1.27668641e-05,\n",
       "          4.79880930e-05]),\n",
       " 'mean_score_time': array([ 0.00054541,  0.00052838,  0.00049326,  0.00048833,  0.00048378,\n",
       "         0.00047646,  0.00046542,  0.00048676,  0.00046687,  0.00046294]),\n",
       " 'std_score_time': array([  1.14184241e-04,   8.74830381e-05,   9.36912486e-05,\n",
       "          6.95798226e-05,   4.37161709e-05,   6.20151611e-05,\n",
       "          5.55320274e-05,   1.04900880e-04,   9.93801053e-05,\n",
       "          4.81664600e-05]),\n",
       " 'param_weights': masked_array(data = ['distance' 'distance' 'distance' 'distance' 'distance' 'uniform' 'uniform'\n",
       "  'uniform' 'uniform' 'uniform'],\n",
       "              mask = [False False False False False False False False False False],\n",
       "        fill_value = ?),\n",
       " 'param_p': masked_array(data = [2 2 2 2 2 2 1 1 1 1],\n",
       "              mask = [False False False False False False False False False False],\n",
       "        fill_value = ?),\n",
       " 'param_n_neighbors': masked_array(data = [2 10 1 4 8 7 4 7 2 9],\n",
       "              mask = [False False False False False False False False False False],\n",
       "        fill_value = ?),\n",
       " 'params': [{'weights': 'distance', 'p': 2, 'n_neighbors': 2},\n",
       "  {'weights': 'distance', 'p': 2, 'n_neighbors': 10},\n",
       "  {'weights': 'distance', 'p': 2, 'n_neighbors': 1},\n",
       "  {'weights': 'distance', 'p': 2, 'n_neighbors': 4},\n",
       "  {'weights': 'distance', 'p': 2, 'n_neighbors': 8},\n",
       "  {'weights': 'uniform', 'p': 2, 'n_neighbors': 7},\n",
       "  {'weights': 'uniform', 'p': 1, 'n_neighbors': 4},\n",
       "  {'weights': 'uniform', 'p': 1, 'n_neighbors': 7},\n",
       "  {'weights': 'uniform', 'p': 1, 'n_neighbors': 2},\n",
       "  {'weights': 'uniform', 'p': 1, 'n_neighbors': 9}],\n",
       " 'split0_test_score': array([ 1.,  1.,  1.,  1.,  1.,  1.,  1.,  1.,  1.,  1.]),\n",
       " 'split1_test_score': array([ 0.93333333,  0.93333333,  0.93333333,  0.93333333,  0.93333333,\n",
       "         0.93333333,  0.93333333,  0.93333333,  0.93333333,  0.93333333]),\n",
       " 'split2_test_score': array([ 1.,  1.,  1.,  1.,  1.,  1.,  1.,  1.,  1.,  1.]),\n",
       " 'split3_test_score': array([ 0.93333333,  1.        ,  0.93333333,  0.93333333,  1.        ,\n",
       "         1.        ,  0.93333333,  1.        ,  0.93333333,  1.        ]),\n",
       " 'split4_test_score': array([ 0.86666667,  0.93333333,  0.86666667,  0.86666667,  0.86666667,\n",
       "         0.86666667,  0.86666667,  0.86666667,  0.86666667,  1.        ]),\n",
       " 'split5_test_score': array([ 1.        ,  0.93333333,  1.        ,  1.        ,  0.93333333,\n",
       "         0.93333333,  1.        ,  0.86666667,  1.        ,  0.93333333]),\n",
       " 'split6_test_score': array([ 0.86666667,  0.93333333,  0.86666667,  0.93333333,  0.93333333,\n",
       "         0.93333333,  0.8       ,  0.93333333,  0.8       ,  0.93333333]),\n",
       " 'split7_test_score': array([ 1.        ,  1.        ,  1.        ,  1.        ,  1.        ,\n",
       "         1.        ,  1.        ,  0.93333333,  0.93333333,  0.93333333]),\n",
       " 'split8_test_score': array([ 1.,  1.,  1.,  1.,  1.,  1.,  1.,  1.,  1.,  1.]),\n",
       " 'split9_test_score': array([ 1.        ,  1.        ,  1.        ,  1.        ,  1.        ,\n",
       "         1.        ,  1.        ,  1.        ,  0.93333333,  1.        ]),\n",
       " 'mean_test_score': array([ 0.96      ,  0.97333333,  0.96      ,  0.96666667,  0.96666667,\n",
       "         0.96666667,  0.95333333,  0.95333333,  0.94      ,  0.97333333]),\n",
       " 'std_test_score': array([ 0.05333333,  0.03265986,  0.05333333,  0.04472136,  0.04472136,\n",
       "         0.04472136,  0.06699917,  0.05206833,  0.06289321,  0.03265986]),\n",
       " 'rank_test_score': array([ 6,  1,  6,  3,  3,  3,  8,  8, 10,  1], dtype=int32),\n",
       " 'split0_train_score': array([ 1.        ,  1.        ,  1.        ,  1.        ,  1.        ,\n",
       "         0.96296296,  0.94814815,  0.96296296,  0.97037037,  0.96296296]),\n",
       " 'split1_train_score': array([ 1.        ,  1.        ,  1.        ,  1.        ,  1.        ,\n",
       "         0.97777778,  0.96296296,  0.97777778,  0.97777778,  0.97037037]),\n",
       " 'split2_train_score': array([ 1.        ,  1.        ,  1.        ,  1.        ,  1.        ,\n",
       "         0.97037037,  0.95555556,  0.96296296,  0.97037037,  0.97037037]),\n",
       " 'split3_train_score': array([ 1.        ,  1.        ,  1.        ,  1.        ,  1.        ,\n",
       "         0.97037037,  0.96296296,  0.97037037,  0.97777778,  0.97777778]),\n",
       " 'split4_train_score': array([ 1.        ,  1.        ,  1.        ,  1.        ,  1.        ,\n",
       "         0.98518519,  0.97037037,  0.98518519,  0.97037037,  0.97037037]),\n",
       " 'split5_train_score': array([ 1.        ,  1.        ,  1.        ,  1.        ,  1.        ,\n",
       "         0.97037037,  0.95555556,  0.96296296,  0.96296296,  0.96296296]),\n",
       " 'split6_train_score': array([ 1.        ,  1.        ,  1.        ,  1.        ,  1.        ,\n",
       "         0.97777778,  0.97037037,  0.97037037,  0.98518519,  0.97777778]),\n",
       " 'split7_train_score': array([ 1.        ,  1.        ,  1.        ,  1.        ,  1.        ,\n",
       "         0.97037037,  0.95555556,  0.97037037,  0.97037037,  0.96296296]),\n",
       " 'split8_train_score': array([ 1.        ,  1.        ,  1.        ,  1.        ,  1.        ,\n",
       "         0.97037037,  0.95555556,  0.97037037,  0.97037037,  0.96296296]),\n",
       " 'split9_train_score': array([ 1.        ,  1.        ,  1.        ,  1.        ,  1.        ,\n",
       "         0.97777778,  0.95555556,  0.95555556,  0.97037037,  0.94814815]),\n",
       " 'mean_train_score': array([ 1.        ,  1.        ,  1.        ,  1.        ,  1.        ,\n",
       "         0.97333333,  0.95925926,  0.96888889,  0.97259259,  0.96666667]),\n",
       " 'std_train_score': array([ 0.        ,  0.        ,  0.        ,  0.        ,  0.        ,\n",
       "         0.00592593,  0.00682929,  0.00797802,  0.00578537,  0.00828173])}"
      ]
     },
     "execution_count": 12,
     "metadata": {},
     "output_type": "execute_result"
    }
   ],
   "source": [
    "# Here is the raw JSON output\n",
    "random_search.cv_results_"
   ]
  },
  {
   "cell_type": "markdown",
   "metadata": {},
   "source": [
    "Author: Kavi Sekhon"
   ]
  }
 ],
 "metadata": {
  "kernelspec": {
   "display_name": "Python 3",
   "language": "python",
   "name": "python3"
  },
  "language_info": {
   "codemirror_mode": {
    "name": "ipython",
    "version": 3
   },
   "file_extension": ".py",
   "mimetype": "text/x-python",
   "name": "python",
   "nbconvert_exporter": "python",
   "pygments_lexer": "ipython3",
   "version": "3.6.6"
  },
  "varInspector": {
   "cols": {
    "lenName": 16,
    "lenType": 16,
    "lenVar": 40
   },
   "kernels_config": {
    "python": {
     "delete_cmd_postfix": "",
     "delete_cmd_prefix": "del ",
     "library": "var_list.py",
     "varRefreshCmd": "print(var_dic_list())"
    },
    "r": {
     "delete_cmd_postfix": ") ",
     "delete_cmd_prefix": "rm(",
     "library": "var_list.r",
     "varRefreshCmd": "cat(var_dic_list()) "
    }
   },
   "types_to_exclude": [
    "module",
    "function",
    "builtin_function_or_method",
    "instance",
    "_Feature"
   ],
   "window_display": false
  }
 },
 "nbformat": 4,
 "nbformat_minor": 2
}
