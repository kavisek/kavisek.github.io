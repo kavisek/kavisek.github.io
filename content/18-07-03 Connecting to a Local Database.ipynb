{
 "cells": [
  {
   "cell_type": "markdown",
   "metadata": {},
   "source": [
    "# Connecting to a Local Database\n",
    "\n",
    "<span>This notebook goes over how to connects to a local database and runs an SQL query to wrangle the data into our notebook. We want to connect to our database using the notebook to make reproducibility easier by removing any manual data wrangling process external to the notebook. The parameters for this notebook are easy to adjust so that you can change the values and connect to your production or slave database.</span>"
   ]
  },
  {
   "cell_type": "markdown",
   "metadata": {},
   "source": [
    "### Import Preliminaries"
   ]
  },
  {
   "cell_type": "code",
   "execution_count": 1,
   "metadata": {
    "ExecuteTime": {
     "end_time": "2018-07-03T17:39:26.555305Z",
     "start_time": "2018-07-03T17:39:25.605282Z"
    },
    "collapsed": true
   },
   "outputs": [],
   "source": [
    "# Import modules\n",
    "import pandas as pd\n",
    "from sqlalchemy import create_engine"
   ]
  },
  {
   "cell_type": "markdown",
   "metadata": {},
   "source": [
    "### Connect to Database"
   ]
  },
  {
   "cell_type": "code",
   "execution_count": 2,
   "metadata": {
    "ExecuteTime": {
     "end_time": "2018-07-03T17:39:27.363407Z",
     "start_time": "2018-07-03T17:39:27.293039Z"
    }
   },
   "outputs": [],
   "source": [
    "# Set your local database parameters \n",
    "db_username = 'root'\n",
    "db_password = 'root'\n",
    "host = '127.0.0.1'\n",
    "port = '8889'\n",
    "db_name = 'world'\n",
    "\n",
    "# Create a MySQLEngine\n",
    "engine = create_engine('mysql+mysqldb://'+db_username+':'+db_password+'@\\\n",
    "'+host+':'+port+'/'+db_name)\n",
    "\n",
    "# Connect to database\n",
    "engine.connect();"
   ]
  },
  {
   "cell_type": "markdown",
   "metadata": {},
   "source": [
    "### Query Database"
   ]
  },
  {
   "cell_type": "code",
   "execution_count": 3,
   "metadata": {
    "ExecuteTime": {
     "end_time": "2018-07-03T17:39:30.830585Z",
     "start_time": "2018-07-03T17:39:30.755774Z"
    }
   },
   "outputs": [
    {
     "data": {
      "text/html": [
       "<div>\n",
       "<style scoped>\n",
       "    .dataframe tbody tr th:only-of-type {\n",
       "        vertical-align: middle;\n",
       "    }\n",
       "\n",
       "    .dataframe tbody tr th {\n",
       "        vertical-align: top;\n",
       "    }\n",
       "\n",
       "    .dataframe thead th {\n",
       "        text-align: right;\n",
       "    }\n",
       "</style>\n",
       "<table border=\"1\" class=\"dataframe\">\n",
       "  <thead>\n",
       "    <tr style=\"text-align: right;\">\n",
       "      <th></th>\n",
       "      <th>ID</th>\n",
       "      <th>Name</th>\n",
       "      <th>CountryCode</th>\n",
       "      <th>District</th>\n",
       "      <th>Population</th>\n",
       "    </tr>\n",
       "  </thead>\n",
       "  <tbody>\n",
       "    <tr>\n",
       "      <th>0</th>\n",
       "      <td>1</td>\n",
       "      <td>Kabul</td>\n",
       "      <td>AFG</td>\n",
       "      <td>Kabol</td>\n",
       "      <td>1780000</td>\n",
       "    </tr>\n",
       "    <tr>\n",
       "      <th>1</th>\n",
       "      <td>2</td>\n",
       "      <td>Qandahar</td>\n",
       "      <td>AFG</td>\n",
       "      <td>Qandahar</td>\n",
       "      <td>237500</td>\n",
       "    </tr>\n",
       "    <tr>\n",
       "      <th>2</th>\n",
       "      <td>3</td>\n",
       "      <td>Herat</td>\n",
       "      <td>AFG</td>\n",
       "      <td>Herat</td>\n",
       "      <td>186800</td>\n",
       "    </tr>\n",
       "    <tr>\n",
       "      <th>3</th>\n",
       "      <td>4</td>\n",
       "      <td>Mazar-e-Sharif</td>\n",
       "      <td>AFG</td>\n",
       "      <td>Balkh</td>\n",
       "      <td>127800</td>\n",
       "    </tr>\n",
       "    <tr>\n",
       "      <th>4</th>\n",
       "      <td>5</td>\n",
       "      <td>Amsterdam</td>\n",
       "      <td>NLD</td>\n",
       "      <td>Noord-Holland</td>\n",
       "      <td>731200</td>\n",
       "    </tr>\n",
       "  </tbody>\n",
       "</table>\n",
       "</div>"
      ],
      "text/plain": [
       "   ID            Name CountryCode       District  Population\n",
       "0   1           Kabul         AFG          Kabol     1780000\n",
       "1   2        Qandahar         AFG       Qandahar      237500\n",
       "2   3           Herat         AFG          Herat      186800\n",
       "3   4  Mazar-e-Sharif         AFG          Balkh      127800\n",
       "4   5       Amsterdam         NLD  Noord-Holland      731200"
      ]
     },
     "execution_count": 3,
     "metadata": {},
     "output_type": "execute_result"
    }
   ],
   "source": [
    "# Run a query on your database\n",
    "df = pd.read_sql(\"\"\" SELECT * FROM city\"\"\", engine)\n",
    "\n",
    "# View dataframe \n",
    "df.head()"
   ]
  },
  {
   "cell_type": "markdown",
   "metadata": {},
   "source": [
    "Author: Kavi Sekhon"
   ]
  }
 ],
 "metadata": {
  "kernelspec": {
   "display_name": "Python 3",
   "language": "python",
   "name": "python3"
  },
  "language_info": {
   "codemirror_mode": {
    "name": "ipython",
    "version": 3
   },
   "file_extension": ".py",
   "mimetype": "text/x-python",
   "name": "python",
   "nbconvert_exporter": "python",
   "pygments_lexer": "ipython3",
   "version": "3.6.6"
  },
  "varInspector": {
   "cols": {
    "lenName": 16,
    "lenType": 16,
    "lenVar": 40
   },
   "kernels_config": {
    "python": {
     "delete_cmd_postfix": "",
     "delete_cmd_prefix": "del ",
     "library": "var_list.py",
     "varRefreshCmd": "print(var_dic_list())"
    },
    "r": {
     "delete_cmd_postfix": ") ",
     "delete_cmd_prefix": "rm(",
     "library": "var_list.r",
     "varRefreshCmd": "cat(var_dic_list()) "
    }
   },
   "types_to_exclude": [
    "module",
    "function",
    "builtin_function_or_method",
    "instance",
    "_Feature"
   ],
   "window_display": false
  }
 },
 "nbformat": 4,
 "nbformat_minor": 2
}
