{
 "cells": [
  {
   "cell_type": "markdown",
   "metadata": {},
   "source": [
    "# Update Website Notebook Content\n",
    "### Find the Path to Specific File (First Match)"
   ]
  },
  {
   "cell_type": "code",
   "execution_count": 1,
   "metadata": {
    "ExecuteTime": {
     "end_time": "2018-09-17T17:46:05.378400Z",
     "start_time": "2018-09-17T17:46:05.373976Z"
    }
   },
   "outputs": [],
   "source": [
    "# Import Modules\n",
    "import os\n",
    "import re\n",
    "import time\n",
    "from datetime import datetime\n",
    "from numpy.random import randint\n",
    "from shutil import copyfile\n",
    "from tqdm import *\n",
    "\n",
    "\n",
    "\n",
    "# Find file paths\n",
    "def find_all_lists(list_of_files, path):\n",
    "    '''\n",
    "    Find the Paths to all the Files in a list within this list of filen names\n",
    "    \n",
    "    Parameteres:\n",
    "    -----------\n",
    "    list_of_paths (list of str): list of file names\n",
    "    paths (str): abosolute path to the Directory, that we will search\n",
    "    \n",
    "    Examples:\n",
    "    -----------\n",
    "    find_all_lists(list_of_files,'/Users/Kavi/Documents/DataScience')\n",
    "    \n",
    "    \n",
    "    '''\n",
    "    result = []\n",
    "    for name in list_of_files:\n",
    "        for root, dirs, files in os.walk(path):\n",
    "            if name in files:\n",
    "                result.append(os.path.join(root, name)) # os.path.join(root, name) is a string\n",
    "    return result\n",
    "\n",
    "def desc_text(string):\n",
    "    '''\n",
    "    Fixing TQDM descrition text lenght\n",
    "    '''\n",
    "    # Remove Path\n",
    "    string = re.sub(r'^(.*[\\\\\\/])', '' ,string)\n",
    "    \n",
    "    # Fix File String\n",
    "    target_length = 25\n",
    "    if len(string) >= target_length:\n",
    "        string = string[:target_length]\n",
    "    else:\n",
    "        additional_len = target_length - len(string)\n",
    "        string = string+(' ')*additional_len\n",
    "    return string"
   ]
  },
  {
   "cell_type": "markdown",
   "metadata": {
    "ExecuteTime": {
     "end_time": "2018-07-24T15:08:13.931624Z",
     "start_time": "2018-07-24T15:08:13.929567Z"
    }
   },
   "source": [
    "### Remove all \"-meta\" and \".ipynb' from the Content Directory"
   ]
  },
  {
   "cell_type": "code",
   "execution_count": 2,
   "metadata": {
    "ExecuteTime": {
     "end_time": "2018-09-17T18:00:45.689067Z",
     "start_time": "2018-09-17T18:00:45.680616Z"
    }
   },
   "outputs": [
    {
     "name": "stderr",
     "output_type": "stream",
     "text": [
      "Removing Content Files: 18-07-07 Styling DataFram: 100%|██████████| 48/48 [00:23<00:00,  1.98it/s]\n"
     ]
    }
   ],
   "source": [
    "#Find all file names within the content folder\n",
    "files_for_deletion = []\n",
    "for file in os.listdir(\"/Users/Kavi/Documents/Blog/content/\"):\n",
    "    if file.endswith(\"-meta\"):\n",
    "        files_for_deletion.append(os.path.join(\"/Users/Kavi/Documents/Blog/content/\", file))\n",
    "    elif file.endswith(\".ipynb\"):\n",
    "        files_for_deletion.append(os.path.join(\"/Users/Kavi/Documents/Blog/content/\", file))\n",
    "\n",
    "# Delete all HTML files within the local contente folder\n",
    "with trange(0,len(files_for_deletion))as pbar:\n",
    "    for file in files_for_deletion:\n",
    "        pbar.set_description(\"Removing Content Files: %s\" % desc_text(file))\n",
    "        pbar.update(1)\n",
    "        os.remove(file)\n",
    "        time.sleep(0.5)"
   ]
  },
  {
   "cell_type": "markdown",
   "metadata": {},
   "source": [
    "### Find and Copy Files"
   ]
  },
  {
   "cell_type": "code",
   "execution_count": 3,
   "metadata": {
    "ExecuteTime": {
     "end_time": "2018-09-17T18:01:53.109560Z",
     "start_time": "2018-09-17T18:01:16.628908Z"
    }
   },
   "outputs": [
    {
     "name": "stderr",
     "output_type": "stream",
     "text": [
      "Copying File: 18-03-08 Removing Outlier: 100%|██████████| 24/24 [00:11<00:00,  1.97it/s]\n"
     ]
    }
   ],
   "source": [
    "\n",
    "# Open Notebook Text File\n",
    "with open('/Users/Kavi/Documents/Blog/notebooks.txt','r') as f:\n",
    "    list_of_files = f.read().splitlines()\n",
    "\n",
    "# locate the path to all the files in the notebook text file within the DataScience diretory\n",
    "source_files = find_all_lists(list_of_files,'/Users/Kavi/Documents/DataScience')\n",
    "source_files\n",
    "\n",
    "\n",
    "meta_files = []\n",
    "txt_files = []\n",
    "\n",
    "# Copy all found files path 3 times under each file type and place them in the content folder \n",
    "with trange(0,len(source_files))as pbar:\n",
    "    for filepaths in source_files:\n",
    "        pbar.set_description(\"Copying File: %s\" % desc_text(filepaths))\n",
    "        pbar.update(1)\n",
    "        filename = re.findall(r'([^\\/]+$)',filepaths)[0]\n",
    "        copyfile(filepaths, '/Users/Kavi/Documents/Blog/content/'+filename)\n",
    "        copyfile(filepaths, '/Users/Kavi/Documents/Blog/content/'+filename+'.txt')\n",
    "        meta_files.append('/Users/Kavi/Documents/Blog/content/'+filename+'-meta')\n",
    "        txt_files.append('/Users/Kavi/Documents/Blog/content/'+filename+'.txt')\n",
    "        time.sleep(0.5)"
   ]
  },
  {
   "cell_type": "markdown",
   "metadata": {},
   "source": [
    "### Writing Meta Files"
   ]
  },
  {
   "cell_type": "code",
   "execution_count": 4,
   "metadata": {
    "ExecuteTime": {
     "end_time": "2018-09-17T17:52:23.939456Z",
     "start_time": "2018-09-17T17:52:00.347901Z"
    }
   },
   "outputs": [
    {
     "name": "stderr",
     "output_type": "stream",
     "text": [
      "  0%|          | 0/24 [00:00<?, ?it/s]\n",
      "Appending Meta-Tag: 18-08-01 K-Nearest Neighb:   0%|          | 0/24 [00:00<?, ?it/s]\n",
      "Appending Meta-Tag: 18-08-01 Decision Tree Cl:   8%|▊         | 2/24 [00:00<00:05,  3.91it/s]\n",
      "Appending Meta-Tag: 18-08-01 Cross Validation:  12%|█▎        | 3/24 [00:01<00:07,  2.95it/s]\n",
      "Appending Meta-Tag: 18-08-01 Train-Test Split:  17%|█▋        | 4/24 [00:01<00:07,  2.57it/s]\n",
      "Appending Meta-Tag: 18-08-01 Recursive Featur:  21%|██        | 5/24 [00:02<00:08,  2.35it/s]\n",
      "Appending Meta-Tag: 18-08-01 Randomized Grid :  25%|██▌       | 6/24 [00:02<00:08,  2.22it/s]\n",
      "Appending Meta-Tag: 18-08-01 Tools of a Data :  29%|██▉       | 7/24 [00:03<00:07,  2.14it/s]\n",
      "Appending Meta-Tag: 18-07-31 Fizzbuzz.ipynb-m:  33%|███▎      | 8/24 [00:03<00:07,  2.08it/s]\n",
      "Appending Meta-Tag: 18-07-31 Regex in Python.:  38%|███▊      | 9/24 [00:04<00:07,  2.04it/s]\n",
      "Appending Meta-Tag: 18-07-24 Binning Features:  42%|████▏     | 10/24 [00:04<00:06,  2.02it/s]\n",
      "Appending Meta-Tag: 18-07-24 Converting Noteb:  46%|████▌     | 11/24 [00:05<00:06,  2.00it/s]\n",
      "Appending Meta-Tag: 18-07-24 Label Encoding.i:  50%|█████     | 12/24 [00:05<00:06,  1.99it/s]\n",
      "Appending Meta-Tag: 18-07-07 Styling DataFram:  54%|█████▍    | 13/24 [00:06<00:05,  1.98it/s]\n",
      "Appending Meta-Tag: 18-07-07 Resampling Datet:  58%|█████▊    | 14/24 [00:06<00:05,  1.97it/s]\n",
      "Appending Meta-Tag: 18-07-04 Select Dtypes.ip:  62%|██████▎   | 15/24 [00:07<00:04,  1.96it/s]\n",
      "Appending Meta-Tag: 18-07-03 Writing a File t:  67%|██████▋   | 16/24 [00:07<00:04,  1.96it/s]\n",
      "Appending Meta-Tag: 18-07-03 Reading a File f:  71%|███████   | 17/24 [00:08<00:03,  1.96it/s]\n",
      "Appending Meta-Tag: 18-07-03 Connecting to a :  75%|███████▌  | 18/24 [00:08<00:03,  1.96it/s]\n",
      "Appending Meta-Tag: 18-07-03 Connecting to a :  79%|███████▉  | 19/24 [00:09<00:02,  1.96it/s]\n",
      "Appending Meta-Tag: 18-06-23 Using OS Module.:  83%|████████▎ | 20/24 [00:09<00:02,  1.97it/s]\n",
      "Appending Meta-Tag: 18-06-06 Every Matplotlib:  88%|████████▊ | 21/24 [00:10<00:01,  1.97it/s]\n",
      "Appending Meta-Tag: 18-06-06 Every Matplotlib:  92%|█████████▏| 22/24 [00:10<00:01,  1.96it/s]\n",
      "Appending Meta-Tag: 18-03-28 Creating Dummy V:  96%|█████████▌| 23/24 [00:11<00:00,  1.94it/s]\n",
      "Appending Meta-Tag: 18-03-08 Removing Outlier: 100%|██████████| 24/24 [00:11<00:00,  1.94it/s]\n",
      "24it [00:12,  1.95it/s]\u001b[A\n",
      "\u001b[A\n"
     ]
    }
   ],
   "source": [
    "# For each text file in the directory, open its file and append HMTL meta tag information to the file\n",
    "counter=0\n",
    "with trange(0,len(meta_files))as pbar:\n",
    "    for txt_filepath, meta_filepath in tqdm(zip(txt_files,meta_files)):\n",
    "        counter += 1\n",
    "        pbar.set_description(\"Appending Meta-Tag: %s\" % desc_text(meta_filepath))\n",
    "        pbar.update(1)\n",
    "        with open(txt_filepath,'r',encoding='utf-8') as file:\n",
    "            f_read = file.read()\n",
    "            title = re.findall(r'\"#(.*?)\\\\n\"', f_read)[0]\n",
    "            slug = re.findall(r'\"#(.*?)\\\\n\"', f_read)[0]\n",
    "            \n",
    "\n",
    "            # Locate Date Information\n",
    "            date = txt_filepath.strip('/Users/Kavi/Documents/Blog/content/')\n",
    "            date = re.findall(r'[0-9][0-9]-[0-9][0-9]-[0-9][0-9]',date,flags=0)\n",
    "            date = date[0]\n",
    "            year = date[0:2]\n",
    "            month = date[3:5]\n",
    "            month = month.lstrip('0')\n",
    "            day = date[6:8]\n",
    "            #day = day.lstrip('0')\n",
    "           \n",
    "            date = \"20\"+year+\"-\"+month+\"-\"+day+' 00:00'\n",
    "            \n",
    "\n",
    "        # Option Print Statements\n",
    "        # print(txt_filepath)\n",
    "        # print(meta_filepath)\n",
    "        # print(date)\n",
    "        # Append tag, title, category, date information to each file \n",
    "        \n",
    "        modified_date = str(datetime.now().year)+\"-\"+str(datetime.now().month)+\"-\"+str(datetime.now().day)+' 00:00'\n",
    "        category = 'Novice'\n",
    "        tag = 'Python'\n",
    "        author ='Kavi Sekhon'\n",
    "        summary = re.findall(r'(?=<span>)(.*\\n?)(?=</span>)',f_read)[0][0:150].strip('<span>') + '..'\n",
    "        with open(meta_filepath,'w',encoding='utf-8') as f2: \n",
    "            f2.write(f'''Title:{title}\n",
    "Date: {date}\n",
    "Category: {category}\n",
    "Tags: {tag}\n",
    "Slug:{title}\n",
    "Author: {author}\n",
    "Summary: {summary}\n",
    "    ''')\n",
    "            f2.write(f_read)\n",
    "            f2.write(f'#{counter}')\n",
    "        time.sleep(0.5)\n",
    "        "
   ]
  },
  {
   "cell_type": "markdown",
   "metadata": {},
   "source": [
    "### Removing Text Files"
   ]
  },
  {
   "cell_type": "code",
   "execution_count": 5,
   "metadata": {
    "ExecuteTime": {
     "start_time": "2018-09-17T18:01:58.947Z"
    }
   },
   "outputs": [
    {
     "name": "stderr",
     "output_type": "stream",
     "text": [
      "Removing Content Text Files: 18-03-08 Removing Outlier: 100%|██████████| 24/24 [00:11<00:00,  1.97it/s]\n"
     ]
    }
   ],
   "source": [
    "# Remove all the text files for the txt path\n",
    "with trange(0,len(meta_files))as pbar:\n",
    "    for txt_filepath in txt_files:\n",
    "        pbar.set_description(\"Removing Content Text Files: %s\" % desc_text(txt_filepath))\n",
    "        pbar.update(1)\n",
    "        os.remove(txt_filepath)\n",
    "        time.sleep(0.5)"
   ]
  },
  {
   "cell_type": "markdown",
   "metadata": {},
   "source": [
    "Author: Kavi Sekhon"
   ]
  }
 ],
 "metadata": {
  "kernelspec": {
   "display_name": "Python 3",
   "language": "python",
   "name": "python3"
  },
  "language_info": {
   "codemirror_mode": {
    "name": "ipython",
    "version": 3
   },
   "file_extension": ".py",
   "mimetype": "text/x-python",
   "name": "python",
   "nbconvert_exporter": "python",
   "pygments_lexer": "ipython3",
   "version": "3.6.5"
  },
  "varInspector": {
   "cols": {
    "lenName": 16,
    "lenType": 16,
    "lenVar": 40
   },
   "kernels_config": {
    "python": {
     "delete_cmd_postfix": "",
     "delete_cmd_prefix": "del ",
     "library": "var_list.py",
     "varRefreshCmd": "print(var_dic_list())"
    },
    "r": {
     "delete_cmd_postfix": ") ",
     "delete_cmd_prefix": "rm(",
     "library": "var_list.r",
     "varRefreshCmd": "cat(var_dic_list()) "
    }
   },
   "types_to_exclude": [
    "module",
    "function",
    "builtin_function_or_method",
    "instance",
    "_Feature"
   ],
   "window_display": false
  }
 },
 "nbformat": 4,
 "nbformat_minor": 2
}
