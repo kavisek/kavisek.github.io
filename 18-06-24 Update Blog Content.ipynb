{
 "cells": [
  {
   "cell_type": "markdown",
   "metadata": {},
   "source": [
    "# Update Website Notebook Content\n",
    "### Find the Path to Specific File (First Match)"
   ]
  },
  {
   "cell_type": "code",
   "execution_count": 6,
   "metadata": {
    "ExecuteTime": {
     "end_time": "2018-09-14T03:48:19.351767Z",
     "start_time": "2018-09-14T03:48:19.346904Z"
    }
   },
   "outputs": [],
   "source": [
    "# Import Modules\n",
    "import os\n",
    "import re\n",
    "import time\n",
    "from numpy.random import randint\n",
    "from shutil import copyfile\n",
    "from tqdm import *\n",
    "\n",
    "\n",
    "\n",
    "# Find file paths\n",
    "def find_all_lists(list_of_files, path):\n",
    "    time.sleep(0.05)\n",
    "    result = []\n",
    "    for name in list_of_files:\n",
    "      for root, dirs, files in os.walk(path):\n",
    "          if name in files:\n",
    "              result.append(os.path.join(root, name)) # os.path.join(root, name) is a string\n",
    "    return result"
   ]
  },
  {
   "cell_type": "markdown",
   "metadata": {
    "ExecuteTime": {
     "end_time": "2018-07-24T15:08:13.931624Z",
     "start_time": "2018-07-24T15:08:13.929567Z"
    }
   },
   "source": [
    "### Remove all \"-meta\" and \".ipynb' from the Content Directory"
   ]
  },
  {
   "cell_type": "code",
   "execution_count": 7,
   "metadata": {
    "ExecuteTime": {
     "end_time": "2018-09-14T03:48:28.731023Z",
     "start_time": "2018-09-14T03:48:19.354225Z"
    }
   },
   "outputs": [
    {
     "name": "stdout",
     "output_type": "stream",
     "text": [
      "/Users/Kavi/Documents/Blog/content/18-06-06 Every Matplotlib Plot Marker.ipynb-meta\n",
      "/Users/Kavi/Documents/Blog/content/18-08-01 Tools of a Data Scientist.ipynb\n",
      "/Users/Kavi/Documents/Blog/content/18-08-01 Decision Tree Classifier.ipynb-meta\n",
      "/Users/Kavi/Documents/Blog/content/18-08-01 Train-Test Split.ipynb-meta\n",
      "/Users/Kavi/Documents/Blog/content/18-09-15 Model Stacking.ipynb\n",
      "/Users/Kavi/Documents/Blog/content/18-07-31 Regex in Python.ipynb\n",
      "/Users/Kavi/Documents/Blog/content/18-08-01 DBSCAN.ipynb\n",
      "/Users/Kavi/Documents/Blog/content/18-08-01 Decision Tree Classifier.ipynb\n",
      "/Users/Kavi/Documents/Blog/content/18-09-03 Isolation Forest Classifier.ipynb-meta\n",
      "/Users/Kavi/Documents/Blog/content/18-09-11 Hierarchical Clustering.ipynb\n",
      "/Users/Kavi/Documents/Blog/content/18-07-03 Writing a File to AWS S3.ipynb\n",
      "/Users/Kavi/Documents/Blog/content/18-09-05 Dropping Features.ipynb\n",
      "/Users/Kavi/Documents/Blog/content/18-09-05 Dropping Features.ipynb-meta\n",
      "/Users/Kavi/Documents/Blog/content/18-09-15 Model Stacking.ipynb-meta\n",
      "/Users/Kavi/Documents/Blog/content/18-07-03 Reading a File from AWS S3.ipynb-meta\n",
      "/Users/Kavi/Documents/Blog/content/18-06-23 Using OS Module.ipynb\n",
      "/Users/Kavi/Documents/Blog/content/18-08-01 K-Nearest Neighbours Classifier.ipynb\n",
      "/Users/Kavi/Documents/Blog/content/18-07-24 Converting Notebook to Slides.ipynb\n",
      "/Users/Kavi/Documents/Blog/content/18-07-24 Label Encoding.ipynb-meta\n",
      "/Users/Kavi/Documents/Blog/content/18-08-01 Plotting Residuals.ipynb\n",
      "/Users/Kavi/Documents/Blog/content/18-07-31 Fizzbuzz.ipynb-meta\n",
      "/Users/Kavi/Documents/Blog/content/18-07-24 Converting Notebook to Slides.ipynb-meta\n",
      "/Users/Kavi/Documents/Blog/content/18-08-01 Cross Validation and K-Folds.ipynb-meta\n",
      "/Users/Kavi/Documents/Blog/content/18-08-01 Standardizations.ipynb\n",
      "/Users/Kavi/Documents/Blog/content/18-09-03 Using TQDM.ipynb\n",
      "/Users/Kavi/Documents/Blog/content/18-08-02 Import Matlab Data.ipynb-meta\n",
      "/Users/Kavi/Documents/Blog/content/18-08-01 Random Forest Classifier.ipynb-meta\n",
      "/Users/Kavi/Documents/Blog/content/18-03-28 Creating Dummy Variables.ipynb\n",
      "/Users/Kavi/Documents/Blog/content/18-09-10 Linear Regression.ipynb\n",
      "/Users/Kavi/Documents/Blog/content/18-08-01 Recursive Feature Elimination.ipynb-meta\n",
      "/Users/Kavi/Documents/Blog/content/18-09-03 Isolation Forest Classifier.ipynb\n",
      "/Users/Kavi/Documents/Blog/content/18-06-06 Every Matplotlib Plot Marker.ipynb\n",
      "/Users/Kavi/Documents/Blog/content/18-07-04 Select Dtypes.ipynb-meta\n",
      "/Users/Kavi/Documents/Blog/content/18-09-11 Hierarchical Clustering.ipynb-meta\n",
      "/Users/Kavi/Documents/Blog/content/18-07-03 Connecting to a Database with SHH.ipynb\n",
      "/Users/Kavi/Documents/Blog/content/18-07-03 Connecting to a Database with SHH.ipynb-meta\n",
      "/Users/Kavi/Documents/Blog/content/18-08-01 Standardizations.ipynb-meta\n",
      "/Users/Kavi/Documents/Blog/content/18-07-03 Writing a File to AWS S3.ipynb-meta\n",
      "/Users/Kavi/Documents/Blog/content/18-06-23 Using OS Module.ipynb-meta\n",
      "/Users/Kavi/Documents/Blog/content/18-08-01 Null Values.ipynb\n",
      "/Users/Kavi/Documents/Blog/content/18-03-08 Removing Outliers.ipynb-meta\n",
      "/Users/Kavi/Documents/Blog/content/18-08-01 Dimensional Pivot Table.ipynb-meta\n",
      "/Users/Kavi/Documents/Blog/content/18-08-31 Confusion Matrices.ipynb-meta\n",
      "/Users/Kavi/Documents/Blog/content/18-08-01 Recursive Feature Elimination.ipynb\n",
      "/Users/Kavi/Documents/Blog/content/18-07-03 Connecting to a Local Database.ipynb-meta\n",
      "/Users/Kavi/Documents/Blog/content/18-09-03 Using TQDM.ipynb-meta\n",
      "/Users/Kavi/Documents/Blog/content/18-07-07 Styling DataFrames.ipynb\n",
      "/Users/Kavi/Documents/Blog/content/18-08-01 Tools of a Data Scientist.ipynb-meta\n",
      "/Users/Kavi/Documents/Blog/content/18-08-02 Downsampling.ipynb\n",
      "/Users/Kavi/Documents/Blog/content/18-08-01 Histograms.ipynb-meta\n",
      "/Users/Kavi/Documents/Blog/content/18-09-10 Linear Regression.ipynb-meta\n",
      "/Users/Kavi/Documents/Blog/content/18-08-02 Import Matlab Data.ipynb\n",
      "/Users/Kavi/Documents/Blog/content/18-07-03 Connecting to a Local Database.ipynb\n",
      "/Users/Kavi/Documents/Blog/content/18-07-07 Resampling Datetime.ipynb\n",
      "/Users/Kavi/Documents/Blog/content/18-06-06 Every Matplotlib Plot Linestyle.ipynb-meta\n",
      "/Users/Kavi/Documents/Blog/content/18-07-31 Regex in Python.ipynb-meta\n",
      "/Users/Kavi/Documents/Blog/content/18-08-01 Randomized Grid Search.ipynb-meta\n",
      "/Users/Kavi/Documents/Blog/content/18-07-24 Binning Features.ipynb\n",
      "/Users/Kavi/Documents/Blog/content/18-08-01 Histograms.ipynb\n",
      "/Users/Kavi/Documents/Blog/content/18-08-01 DBSCAN.ipynb-meta\n",
      "/Users/Kavi/Documents/Blog/content/18-08-01 Plotting Residuals.ipynb-meta\n",
      "/Users/Kavi/Documents/Blog/content/18-08-01 Random Forest Classifier.ipynb\n",
      "/Users/Kavi/Documents/Blog/content/18-08-01 Heatmaps.ipynb\n",
      "/Users/Kavi/Documents/Blog/content/18-06-06 Every Matplotlib Plot Linestyle.ipynb\n",
      "/Users/Kavi/Documents/Blog/content/18-08-31 Confusion Matrices.ipynb\n",
      "/Users/Kavi/Documents/Blog/content/18-08-01 Cross Validation and K-Folds.ipynb\n",
      "/Users/Kavi/Documents/Blog/content/18-03-08 Removing Outliers.ipynb\n",
      "/Users/Kavi/Documents/Blog/content/18-08-02 Downsampling.ipynb-meta\n",
      "/Users/Kavi/Documents/Blog/content/18-08-01 K-Nearest Neighbours Classifier.ipynb-meta\n",
      "/Users/Kavi/Documents/Blog/content/18-07-24 Binning Features.ipynb-meta\n",
      "/Users/Kavi/Documents/Blog/content/18-08-01 Heatmaps.ipynb-meta\n",
      "/Users/Kavi/Documents/Blog/content/18-07-31 Fizzbuzz.ipynb\n",
      "/Users/Kavi/Documents/Blog/content/18-08-01 Null Values.ipynb-meta\n",
      "/Users/Kavi/Documents/Blog/content/18-08-01 Dimensional Pivot Table.ipynb\n",
      "/Users/Kavi/Documents/Blog/content/18-03-28 Creating Dummy Variables.ipynb-meta\n",
      "/Users/Kavi/Documents/Blog/content/18-08-01 Randomized Grid Search.ipynb\n",
      "/Users/Kavi/Documents/Blog/content/18-07-07 Resampling Datetime.ipynb-meta\n",
      "/Users/Kavi/Documents/Blog/content/18-07-03 Reading a File from AWS S3.ipynb\n",
      "/Users/Kavi/Documents/Blog/content/18-07-04 Select Dtypes.ipynb\n",
      "/Users/Kavi/Documents/Blog/content/18-08-01 Train-Test Split.ipynb\n",
      "/Users/Kavi/Documents/Blog/content/18-07-24 Label Encoding.ipynb\n",
      "/Users/Kavi/Documents/Blog/content/18-07-07 Styling DataFrames.ipynb-meta\n"
     ]
    }
   ],
   "source": [
    "# Final all file names within the content folder\n",
    "files_for_deletion = []\n",
    "for file in os.listdir(\"/Users/Kavi/Documents/Blog/content/\"):\n",
    "  if file.endswith(\"-meta\"):\n",
    "    files_for_deletion.append(os.path.join(\"/Users/Kavi/Documents/Blog/content/\", file))\n",
    "  elif file.endswith(\".ipynb\"):\n",
    "    files_for_deletion.append(os.path.join(\"/Users/Kavi/Documents/Blog/content/\", file))\n",
    "\n",
    "# Delete all HTML files within the local contente folder\n",
    "for file in files_for_deletion:\n",
    "  print(file)\n",
    "  os.remove(file)\n",
    "  time.sleep(0.05)"
   ]
  },
  {
   "cell_type": "markdown",
   "metadata": {},
   "source": [
    "### Find and Copy Files"
   ]
  },
  {
   "cell_type": "code",
   "execution_count": 9,
   "metadata": {
    "ExecuteTime": {
     "end_time": "2018-09-14T03:49:56.333202Z",
     "start_time": "2018-09-14T03:49:35.902823Z"
    }
   },
   "outputs": [
    {
     "name": "stderr",
     "output_type": "stream",
     "text": [
      "100%|██████████| 41/41 [00:04<00:00,  8.26it/s]\n"
     ]
    }
   ],
   "source": [
    "# Open Notebook Text File\n",
    "with open('/Users/Kavi/Documents/Blog/notebooks.txt','r') as f:\n",
    "  list_of_files = f.read().splitlines()\n",
    "\n",
    "# locate the path to all the files in the notebook text file within the DataScience diretory\n",
    "source_files = find_all_lists(list_of_files,'/Users/Kavi/Documents/DataScience')\n",
    "source_files\n",
    "\n",
    "\n",
    "meta_files = []\n",
    "txt_files = []\n",
    "\n",
    "# Copy all found files path 3 times under each file type and place them in the content folder \n",
    "for filepaths in tqdm(source_files):\n",
    "  filename = re.findall(r'([^\\/]+$)',filepaths)[0]\n",
    "  copyfile(filepaths, '/Users/Kavi/Documents/Blog/content/'+filename)\n",
    "  copyfile(filepaths, '/Users/Kavi/Documents/Blog/content/'+filename+'.txt')\n",
    "  meta_files.append('/Users/Kavi/Documents/Blog/content/'+filename+'-meta')\n",
    "  txt_files.append('/Users/Kavi/Documents/Blog/content/'+filename+'.txt')\n",
    "  time.sleep(0.05)"
   ]
  },
  {
   "cell_type": "markdown",
   "metadata": {},
   "source": [
    "### Writing Meta Files"
   ]
  },
  {
   "cell_type": "code",
   "execution_count": 10,
   "metadata": {
    "ExecuteTime": {
     "end_time": "2018-09-14T03:50:01.719720Z",
     "start_time": "2018-09-14T03:49:56.353660Z"
    },
    "scrolled": false
   },
   "outputs": [
    {
     "name": "stdout",
     "output_type": "stream",
     "text": [
      "/Users/Kavi/Documents/Blog/content/18-09-11 Hierarchical Clustering.ipynb.txt\n",
      "/Users/Kavi/Documents/Blog/content/18-09-11 Hierarchical Clustering.ipynb-meta\n",
      "18-09-11 18 9 11\n",
      "2018-9-11 00:00\n",
      "/Users/Kavi/Documents/Blog/content/18-09-15 Model Stacking.ipynb.txt\n",
      "/Users/Kavi/Documents/Blog/content/18-09-15 Model Stacking.ipynb-meta\n",
      "18-09-15 18 9 15\n",
      "2018-9-15 00:00\n",
      "/Users/Kavi/Documents/Blog/content/18-09-10 Linear Regression.ipynb.txt\n",
      "/Users/Kavi/Documents/Blog/content/18-09-10 Linear Regression.ipynb-meta\n",
      "18-09-10 18 9 10\n",
      "2018-9-10 00:00\n",
      "/Users/Kavi/Documents/Blog/content/18-09-05 Dropping Features.ipynb.txt\n",
      "/Users/Kavi/Documents/Blog/content/18-09-05 Dropping Features.ipynb-meta\n",
      "18-09-05 18 9 05\n",
      "2018-9-05 00:00\n",
      "/Users/Kavi/Documents/Blog/content/18-09-03 Using TQDM.ipynb.txt\n",
      "/Users/Kavi/Documents/Blog/content/18-09-03 Using TQDM.ipynb-meta\n",
      "18-09-03 18 9 03\n",
      "2018-9-03 00:00\n",
      "/Users/Kavi/Documents/Blog/content/18-09-03 Isolation Forest Classifier.ipynb.txt\n",
      "/Users/Kavi/Documents/Blog/content/18-09-03 Isolation Forest Classifier.ipynb-meta\n",
      "18-09-03 18 9 03\n",
      "2018-9-03 00:00\n",
      "/Users/Kavi/Documents/Blog/content/18-08-31 Confusion Matrices.ipynb.txt\n",
      "/Users/Kavi/Documents/Blog/content/18-08-31 Confusion Matrices.ipynb-meta\n",
      "18-08-31 18 8 31\n",
      "2018-8-31 00:00\n",
      "/Users/Kavi/Documents/Blog/content/18-08-02 Downsampling.ipynb.txt\n",
      "/Users/Kavi/Documents/Blog/content/18-08-02 Downsampling.ipynb-meta\n",
      "18-08-02 18 8 02\n",
      "2018-8-02 00:00\n",
      "/Users/Kavi/Documents/Blog/content/18-08-02 Import Matlab Data.ipynb.txt\n",
      "/Users/Kavi/Documents/Blog/content/18-08-02 Import Matlab Data.ipynb-meta\n",
      "18-08-02 18 8 02\n",
      "2018-8-02 00:00\n",
      "/Users/Kavi/Documents/Blog/content/18-08-01 Plotting Residuals.ipynb.txt\n",
      "/Users/Kavi/Documents/Blog/content/18-08-01 Plotting Residuals.ipynb-meta\n",
      "18-08-01 18 8 01\n",
      "2018-8-01 00:00\n",
      "/Users/Kavi/Documents/Blog/content/18-08-01 Histograms.ipynb.txt\n",
      "/Users/Kavi/Documents/Blog/content/18-08-01 Histograms.ipynb-meta\n",
      "18-08-01 18 8 01\n",
      "2018-8-01 00:00\n",
      "/Users/Kavi/Documents/Blog/content/18-08-01 Dimensional Pivot Table.ipynb.txt\n",
      "/Users/Kavi/Documents/Blog/content/18-08-01 Dimensional Pivot Table.ipynb-meta\n",
      "18-08-01 18 8 01\n",
      "2018-8-01 00:00\n",
      "/Users/Kavi/Documents/Blog/content/18-08-01 Heatmaps.ipynb.txt\n",
      "/Users/Kavi/Documents/Blog/content/18-08-01 Heatmaps.ipynb-meta\n",
      "18-08-01 18 8 01\n",
      "2018-8-01 00:00\n",
      "/Users/Kavi/Documents/Blog/content/18-08-01 Standardizations.ipynb.txt\n",
      "/Users/Kavi/Documents/Blog/content/18-08-01 Standardizations.ipynb-meta\n",
      "18-08-01 18 8 01\n",
      "2018-8-01 00:00\n",
      "/Users/Kavi/Documents/Blog/content/18-08-01 Null Values.ipynb.txt\n",
      "/Users/Kavi/Documents/Blog/content/18-08-01 Null Values.ipynb-meta\n",
      "18-08-01 18 8 01\n",
      "2018-8-01 00:00\n",
      "/Users/Kavi/Documents/Blog/content/18-08-01 K-Nearest Neighbours Classifier.ipynb.txt\n",
      "/Users/Kavi/Documents/Blog/content/18-08-01 K-Nearest Neighbours Classifier.ipynb-meta\n",
      "18-08-01 18 8 01\n",
      "2018-8-01 00:00\n",
      "/Users/Kavi/Documents/Blog/content/18-08-01 Random Forest Classifier.ipynb.txt\n",
      "/Users/Kavi/Documents/Blog/content/18-08-01 Random Forest Classifier.ipynb-meta\n",
      "18-08-01 18 8 01\n",
      "2018-8-01 00:00\n",
      "/Users/Kavi/Documents/Blog/content/18-08-01 Decision Tree Classifier.ipynb.txt\n",
      "/Users/Kavi/Documents/Blog/content/18-08-01 Decision Tree Classifier.ipynb-meta\n",
      "18-08-01 18 8 01\n",
      "2018-8-01 00:00\n",
      "/Users/Kavi/Documents/Blog/content/18-08-01 Cross Validation and K-Folds.ipynb.txt\n",
      "/Users/Kavi/Documents/Blog/content/18-08-01 Cross Validation and K-Folds.ipynb-meta\n",
      "18-08-01 18 8 01\n",
      "2018-8-01 00:00\n",
      "/Users/Kavi/Documents/Blog/content/18-08-01 Train-Test Split.ipynb.txt\n",
      "/Users/Kavi/Documents/Blog/content/18-08-01 Train-Test Split.ipynb-meta\n",
      "18-08-01 18 8 01\n",
      "2018-8-01 00:00\n",
      "/Users/Kavi/Documents/Blog/content/18-08-01 Recursive Feature Elimination.ipynb.txt\n",
      "/Users/Kavi/Documents/Blog/content/18-08-01 Recursive Feature Elimination.ipynb-meta\n",
      "18-08-01 18 8 01\n",
      "2018-8-01 00:00\n",
      "/Users/Kavi/Documents/Blog/content/18-08-01 Randomized Grid Search.ipynb.txt\n",
      "/Users/Kavi/Documents/Blog/content/18-08-01 Randomized Grid Search.ipynb-meta\n",
      "18-08-01 18 8 01\n",
      "2018-8-01 00:00\n",
      "/Users/Kavi/Documents/Blog/content/18-08-01 DBSCAN.ipynb.txt\n",
      "/Users/Kavi/Documents/Blog/content/18-08-01 DBSCAN.ipynb-meta\n",
      "18-08-01 18 8 01\n",
      "2018-8-01 00:00\n",
      "/Users/Kavi/Documents/Blog/content/18-08-01 Tools of a Data Scientist.ipynb.txt\n",
      "/Users/Kavi/Documents/Blog/content/18-08-01 Tools of a Data Scientist.ipynb-meta\n",
      "18-08-01 18 8 01\n",
      "2018-8-01 00:00\n",
      "/Users/Kavi/Documents/Blog/content/18-07-31 Fizzbuzz.ipynb.txt\n",
      "/Users/Kavi/Documents/Blog/content/18-07-31 Fizzbuzz.ipynb-meta\n",
      "18-07-31 18 7 31\n",
      "2018-7-31 00:00\n",
      "/Users/Kavi/Documents/Blog/content/18-07-31 Regex in Python.ipynb.txt\n",
      "/Users/Kavi/Documents/Blog/content/18-07-31 Regex in Python.ipynb-meta\n",
      "18-07-31 18 7 31\n",
      "2018-7-31 00:00\n",
      "/Users/Kavi/Documents/Blog/content/18-07-24 Binning Features.ipynb.txt\n",
      "/Users/Kavi/Documents/Blog/content/18-07-24 Binning Features.ipynb-meta\n",
      "18-07-24 18 7 24\n",
      "2018-7-24 00:00\n",
      "/Users/Kavi/Documents/Blog/content/18-07-24 Converting Notebook to Slides.ipynb.txt\n",
      "/Users/Kavi/Documents/Blog/content/18-07-24 Converting Notebook to Slides.ipynb-meta\n",
      "18-07-24 18 7 24\n",
      "2018-7-24 00:00\n",
      "/Users/Kavi/Documents/Blog/content/18-07-24 Label Encoding.ipynb.txt\n",
      "/Users/Kavi/Documents/Blog/content/18-07-24 Label Encoding.ipynb-meta\n",
      "18-07-24 18 7 24\n",
      "2018-7-24 00:00\n",
      "/Users/Kavi/Documents/Blog/content/18-07-07 Styling DataFrames.ipynb.txt\n",
      "/Users/Kavi/Documents/Blog/content/18-07-07 Styling DataFrames.ipynb-meta\n",
      "18-07-07 18 7 07\n",
      "2018-7-07 00:00\n",
      "/Users/Kavi/Documents/Blog/content/18-07-07 Resampling Datetime.ipynb.txt\n",
      "/Users/Kavi/Documents/Blog/content/18-07-07 Resampling Datetime.ipynb-meta\n",
      "18-07-07 18 7 07\n",
      "2018-7-07 00:00\n",
      "/Users/Kavi/Documents/Blog/content/18-07-04 Select Dtypes.ipynb.txt\n",
      "/Users/Kavi/Documents/Blog/content/18-07-04 Select Dtypes.ipynb-meta\n",
      "18-07-04 18 7 04\n",
      "2018-7-04 00:00\n",
      "/Users/Kavi/Documents/Blog/content/18-07-03 Writing a File to AWS S3.ipynb.txt\n",
      "/Users/Kavi/Documents/Blog/content/18-07-03 Writing a File to AWS S3.ipynb-meta\n",
      "18-07-03 18 7 03\n",
      "2018-7-03 00:00\n",
      "/Users/Kavi/Documents/Blog/content/18-07-03 Reading a File from AWS S3.ipynb.txt\n",
      "/Users/Kavi/Documents/Blog/content/18-07-03 Reading a File from AWS S3.ipynb-meta\n",
      "18-07-03 18 7 03\n",
      "2018-7-03 00:00\n",
      "/Users/Kavi/Documents/Blog/content/18-07-03 Connecting to a Local Database.ipynb.txt\n",
      "/Users/Kavi/Documents/Blog/content/18-07-03 Connecting to a Local Database.ipynb-meta\n",
      "18-07-03 18 7 03\n",
      "2018-7-03 00:00\n",
      "/Users/Kavi/Documents/Blog/content/18-07-03 Connecting to a Database with SHH.ipynb.txt\n",
      "/Users/Kavi/Documents/Blog/content/18-07-03 Connecting to a Database with SHH.ipynb-meta\n",
      "18-07-03 18 7 03\n",
      "2018-7-03 00:00\n",
      "/Users/Kavi/Documents/Blog/content/18-06-23 Using OS Module.ipynb.txt\n",
      "/Users/Kavi/Documents/Blog/content/18-06-23 Using OS Module.ipynb-meta\n",
      "18-06-23 18 6 23\n",
      "2018-6-23 00:00\n",
      "/Users/Kavi/Documents/Blog/content/18-06-06 Every Matplotlib Plot Linestyle.ipynb.txt\n",
      "/Users/Kavi/Documents/Blog/content/18-06-06 Every Matplotlib Plot Linestyle.ipynb-meta\n",
      "18-06-06 18 6 06\n",
      "2018-6-06 00:00\n",
      "/Users/Kavi/Documents/Blog/content/18-06-06 Every Matplotlib Plot Marker.ipynb.txt\n",
      "/Users/Kavi/Documents/Blog/content/18-06-06 Every Matplotlib Plot Marker.ipynb-meta\n",
      "18-06-06 18 6 06\n",
      "2018-6-06 00:00\n",
      "/Users/Kavi/Documents/Blog/content/18-03-28 Creating Dummy Variables.ipynb.txt\n",
      "/Users/Kavi/Documents/Blog/content/18-03-28 Creating Dummy Variables.ipynb-meta\n",
      "18-03-28 18 3 28\n",
      "2018-3-28 00:00\n",
      "/Users/Kavi/Documents/Blog/content/18-03-08 Removing Outliers.ipynb.txt\n",
      "/Users/Kavi/Documents/Blog/content/18-03-08 Removing Outliers.ipynb-meta\n",
      "18-03-08 18 3 08\n",
      "2018-3-08 00:00\n"
     ]
    }
   ],
   "source": [
    "counter = 0\n",
    "\n",
    "# For each text file in the directory, open its file and append HMTL meta tag information to the file\n",
    "for txt_filepath, meta_filepath in zip(txt_files,meta_files):\n",
    "  counter += 1\n",
    "  print(txt_filepath)\n",
    "  print(meta_filepath)\n",
    "  with open(txt_filepath,'r',encoding='utf-8') as file:\n",
    "    f_read = file.read()\n",
    "    title = re.findall(r'\"#(.*?)\\\\n\"', f_read)[0]\n",
    "    slug = re.findall(r'\"#(.*?)\\\\n\"', f_read)[0]\n",
    "    author ='Kavi Sekhon'\n",
    "    \n",
    "    # Locate Date Information\n",
    "    date = txt_filepath.strip('/Users/Kavi/Documents/Blog/content/')\n",
    "    date = re.findall(r'[0-9][0-9]-[0-9][0-9]-[0-9][0-9]',date,flags=0)\n",
    "    date = date[0]\n",
    "    year = date[0:2]\n",
    "    month = date[3:5]\n",
    "    month = month.lstrip('0')\n",
    "    day = date[6:8]\n",
    "    #day = day.lstrip('0')\n",
    "    print(date, year, month, day)\n",
    "    date = \"20\"+year+\"-\"+month+\"-\"+day+' 00:00'\n",
    "    print(date)\n",
    "    \n",
    "    \n",
    "    # Append tag, title, category, date information to each file \n",
    "    category = 'Novice'\n",
    "    tag = 'Python'\n",
    "    summary = re.findall(r'(?=<span>)(.*\\n?)(?=</span>)',f_read)[0][0:150].strip('<span>') + '..'\n",
    "    with open(meta_filepath,'w',encoding='utf-8') as f2: \n",
    "        f2.write(f'''Title:{title}\n",
    "Slug:{title}\n",
    "Date: {date}\n",
    "Category: {category}\n",
    "Tags: {tag}\n",
    "Author: {author}\n",
    "Summary: {summary}\n",
    "\n",
    "''')\n",
    "        f2.write(f_read)\n",
    "        f2.write(f'#{counter}')\n",
    "    time.sleep(0.05)"
   ]
  },
  {
   "cell_type": "markdown",
   "metadata": {},
   "source": [
    "### Removing Text Files"
   ]
  },
  {
   "cell_type": "code",
   "execution_count": 11,
   "metadata": {
    "ExecuteTime": {
     "end_time": "2018-09-14T03:50:06.668133Z",
     "start_time": "2018-09-14T03:50:01.737727Z"
    }
   },
   "outputs": [
    {
     "name": "stdout",
     "output_type": "stream",
     "text": [
      "Removed: /Users/Kavi/Documents/Blog/content/18-09-11 Hierarchical Clustering.ipynb.txt\n",
      "Removed: /Users/Kavi/Documents/Blog/content/18-09-15 Model Stacking.ipynb.txt\n",
      "Removed: /Users/Kavi/Documents/Blog/content/18-09-10 Linear Regression.ipynb.txt\n",
      "Removed: /Users/Kavi/Documents/Blog/content/18-09-05 Dropping Features.ipynb.txt\n",
      "Removed: /Users/Kavi/Documents/Blog/content/18-09-03 Using TQDM.ipynb.txt\n",
      "Removed: /Users/Kavi/Documents/Blog/content/18-09-03 Isolation Forest Classifier.ipynb.txt\n",
      "Removed: /Users/Kavi/Documents/Blog/content/18-08-31 Confusion Matrices.ipynb.txt\n",
      "Removed: /Users/Kavi/Documents/Blog/content/18-08-02 Downsampling.ipynb.txt\n",
      "Removed: /Users/Kavi/Documents/Blog/content/18-08-02 Import Matlab Data.ipynb.txt\n",
      "Removed: /Users/Kavi/Documents/Blog/content/18-08-01 Plotting Residuals.ipynb.txt\n",
      "Removed: /Users/Kavi/Documents/Blog/content/18-08-01 Histograms.ipynb.txt\n",
      "Removed: /Users/Kavi/Documents/Blog/content/18-08-01 Dimensional Pivot Table.ipynb.txt\n",
      "Removed: /Users/Kavi/Documents/Blog/content/18-08-01 Heatmaps.ipynb.txt\n",
      "Removed: /Users/Kavi/Documents/Blog/content/18-08-01 Standardizations.ipynb.txt\n",
      "Removed: /Users/Kavi/Documents/Blog/content/18-08-01 Null Values.ipynb.txt\n",
      "Removed: /Users/Kavi/Documents/Blog/content/18-08-01 K-Nearest Neighbours Classifier.ipynb.txt\n",
      "Removed: /Users/Kavi/Documents/Blog/content/18-08-01 Random Forest Classifier.ipynb.txt\n",
      "Removed: /Users/Kavi/Documents/Blog/content/18-08-01 Decision Tree Classifier.ipynb.txt\n",
      "Removed: /Users/Kavi/Documents/Blog/content/18-08-01 Cross Validation and K-Folds.ipynb.txt\n",
      "Removed: /Users/Kavi/Documents/Blog/content/18-08-01 Train-Test Split.ipynb.txt\n",
      "Removed: /Users/Kavi/Documents/Blog/content/18-08-01 Recursive Feature Elimination.ipynb.txt\n",
      "Removed: /Users/Kavi/Documents/Blog/content/18-08-01 Randomized Grid Search.ipynb.txt\n",
      "Removed: /Users/Kavi/Documents/Blog/content/18-08-01 DBSCAN.ipynb.txt\n",
      "Removed: /Users/Kavi/Documents/Blog/content/18-08-01 Tools of a Data Scientist.ipynb.txt\n",
      "Removed: /Users/Kavi/Documents/Blog/content/18-07-31 Fizzbuzz.ipynb.txt\n",
      "Removed: /Users/Kavi/Documents/Blog/content/18-07-31 Regex in Python.ipynb.txt\n",
      "Removed: /Users/Kavi/Documents/Blog/content/18-07-24 Binning Features.ipynb.txt\n",
      "Removed: /Users/Kavi/Documents/Blog/content/18-07-24 Converting Notebook to Slides.ipynb.txt\n",
      "Removed: /Users/Kavi/Documents/Blog/content/18-07-24 Label Encoding.ipynb.txt\n",
      "Removed: /Users/Kavi/Documents/Blog/content/18-07-07 Styling DataFrames.ipynb.txt\n",
      "Removed: /Users/Kavi/Documents/Blog/content/18-07-07 Resampling Datetime.ipynb.txt\n",
      "Removed: /Users/Kavi/Documents/Blog/content/18-07-04 Select Dtypes.ipynb.txt\n",
      "Removed: /Users/Kavi/Documents/Blog/content/18-07-03 Writing a File to AWS S3.ipynb.txt\n",
      "Removed: /Users/Kavi/Documents/Blog/content/18-07-03 Reading a File from AWS S3.ipynb.txt\n",
      "Removed: /Users/Kavi/Documents/Blog/content/18-07-03 Connecting to a Local Database.ipynb.txt\n",
      "Removed: /Users/Kavi/Documents/Blog/content/18-07-03 Connecting to a Database with SHH.ipynb.txt\n",
      "Removed: /Users/Kavi/Documents/Blog/content/18-06-23 Using OS Module.ipynb.txt\n",
      "Removed: /Users/Kavi/Documents/Blog/content/18-06-06 Every Matplotlib Plot Linestyle.ipynb.txt\n",
      "Removed: /Users/Kavi/Documents/Blog/content/18-06-06 Every Matplotlib Plot Marker.ipynb.txt\n",
      "Removed: /Users/Kavi/Documents/Blog/content/18-03-28 Creating Dummy Variables.ipynb.txt\n",
      "Removed: /Users/Kavi/Documents/Blog/content/18-03-08 Removing Outliers.ipynb.txt\n"
     ]
    }
   ],
   "source": [
    "# Remove all the text files for the txt path\n",
    "for txt_filepath in txt_files:\n",
    "  print('Removed:',txt_filepath)\n",
    "  os.remove(txt_filepath)\n",
    "  time.sleep(0.05)"
   ]
  },
  {
   "cell_type": "markdown",
   "metadata": {},
   "source": [
    "Author: Kavi Sekhon"
   ]
  }
 ],
 "metadata": {
  "kernelspec": {
   "display_name": "Python 3",
   "language": "python",
   "name": "python3"
  },
  "language_info": {
   "codemirror_mode": {
    "name": "ipython",
    "version": 3
   },
   "file_extension": ".py",
   "mimetype": "text/x-python",
   "name": "python",
   "nbconvert_exporter": "python",
   "pygments_lexer": "ipython3",
   "version": "3.6.6"
  },
  "varInspector": {
   "cols": {
    "lenName": 16,
    "lenType": 16,
    "lenVar": 40
   },
   "kernels_config": {
    "python": {
     "delete_cmd_postfix": "",
     "delete_cmd_prefix": "del ",
     "library": "var_list.py",
     "varRefreshCmd": "print(var_dic_list())"
    },
    "r": {
     "delete_cmd_postfix": ") ",
     "delete_cmd_prefix": "rm(",
     "library": "var_list.r",
     "varRefreshCmd": "cat(var_dic_list()) "
    }
   },
   "types_to_exclude": [
    "module",
    "function",
    "builtin_function_or_method",
    "instance",
    "_Feature"
   ],
   "window_display": false
  }
 },
 "nbformat": 4,
 "nbformat_minor": 2
}
